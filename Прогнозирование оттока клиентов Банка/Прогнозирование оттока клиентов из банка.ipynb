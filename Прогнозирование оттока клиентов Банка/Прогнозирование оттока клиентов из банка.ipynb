{
 "cells": [
  {
   "cell_type": "markdown",
   "metadata": {
    "toc": true
   },
   "source": [
    "<h1>Содержание<span class=\"tocSkip\"></span></h1>\n",
    "<div class=\"toc\"><ul class=\"toc-item\"><li><span><a href=\"#Загрузка-данных\" data-toc-modified-id=\"Загрузка-данных-1\"><span class=\"toc-item-num\">1&nbsp;&nbsp;</span>Загрузка данных</a></span></li><li><span><a href=\"#Подготовка-данных\" data-toc-modified-id=\"Подготовка-данных-2\"><span class=\"toc-item-num\">2&nbsp;&nbsp;</span>Подготовка данных</a></span></li><li><span><a href=\"#Исследование-задачи\" data-toc-modified-id=\"Исследование-задачи-3\"><span class=\"toc-item-num\">3&nbsp;&nbsp;</span>Исследование задачи</a></span><ul class=\"toc-item\"><li><ul class=\"toc-item\"><li><span><a href=\"#Разберём-задачу-и-изучим-признаки.\" data-toc-modified-id=\"Разберём-задачу-и-изучим-признаки.-3.0.1\"><span class=\"toc-item-num\">3.0.1&nbsp;&nbsp;</span>Разберём задачу и изучим признаки.</a></span></li><li><span><a href=\"#Изучим-целевой-признок-и-баланс-классов\" data-toc-modified-id=\"Изучим-целевой-признок-и-баланс-классов-3.0.2\"><span class=\"toc-item-num\">3.0.2&nbsp;&nbsp;</span>Изучим целевой признок и баланс классов</a></span></li><li><span><a href=\"#Преобразуем-категориальные-признаки-в-численные-техникой-прямого-кодирования-(One-Hot-Encoding).\" data-toc-modified-id=\"Преобразуем-категориальные-признаки-в-численные-техникой-прямого-кодирования-(One-Hot-Encoding).-3.0.3\"><span class=\"toc-item-num\">3.0.3&nbsp;&nbsp;</span>Преобразуем категориальные признаки в численные техникой прямого кодирования (One-Hot Encoding).</a></span></li></ul></li></ul></li><li><span><a href=\"#Обучение-модели-логистической-регрессии-без-учёта-дисбаланса-классов\" data-toc-modified-id=\"Обучение-модели-логистической-регрессии-без-учёта-дисбаланса-классов-4\"><span class=\"toc-item-num\">4&nbsp;&nbsp;</span>Обучение модели логистической регрессии без учёта дисбаланса классов</a></span><ul class=\"toc-item\"><li><ul class=\"toc-item\"><li><span><a href=\"#Обучение-модели,-разбиение-на-обучающую-и-валидационную-выборки\" data-toc-modified-id=\"Обучение-модели,-разбиение-на-обучающую-и-валидационную-выборки-4.0.1\"><span class=\"toc-item-num\">4.0.1&nbsp;&nbsp;</span>Обучение модели, разбиение на обучающую и валидационную выборки</a></span></li><li><span><a href=\"#Масштабирование-численных-признаков\" data-toc-modified-id=\"Масштабирование-численных-признаков-4.0.2\"><span class=\"toc-item-num\">4.0.2&nbsp;&nbsp;</span>Масштабирование численных признаков</a></span></li><li><span><a href=\"#График-ROC-curve-и-расчет-AUC-ROC\" data-toc-modified-id=\"График-ROC-curve-и-расчет-AUC-ROC-4.0.3\"><span class=\"toc-item-num\">4.0.3&nbsp;&nbsp;</span>График ROC-curve и расчет AUC-ROC</a></span></li></ul></li></ul></li><li><span><a href=\"#Обучение-модели-случайного-леса-без-учёта-дисбаланса-классов\" data-toc-modified-id=\"Обучение-модели-случайного-леса-без-учёта-дисбаланса-классов-5\"><span class=\"toc-item-num\">5&nbsp;&nbsp;</span>Обучение модели случайного леса без учёта дисбаланса классов</a></span><ul class=\"toc-item\"><li><ul class=\"toc-item\"><li><span><a href=\"#Обучение-модели,-разбиение-на-обучающую-и-валидационную-выборки\" data-toc-modified-id=\"Обучение-модели,-разбиение-на-обучающую-и-валидационную-выборки-5.0.1\"><span class=\"toc-item-num\">5.0.1&nbsp;&nbsp;</span>Обучение модели, разбиение на обучающую и валидационную выборки</a></span></li><li><span><a href=\"#График-ROC-curve-и-расчет-AUC-ROC\" data-toc-modified-id=\"График-ROC-curve-и-расчет-AUC-ROC-5.0.2\"><span class=\"toc-item-num\">5.0.2&nbsp;&nbsp;</span>График ROC-curve и расчет AUC-ROC</a></span></li></ul></li></ul></li><li><span><a href=\"#Обучение-модели-DecisionTreeClassifier\" data-toc-modified-id=\"Обучение-модели-DecisionTreeClassifier-6\"><span class=\"toc-item-num\">6&nbsp;&nbsp;</span>Обучение модели DecisionTreeClassifier</a></span><ul class=\"toc-item\"><li><ul class=\"toc-item\"><li><span><a href=\"#Обучение-модели\" data-toc-modified-id=\"Обучение-модели-6.0.1\"><span class=\"toc-item-num\">6.0.1&nbsp;&nbsp;</span>Обучение модели</a></span></li><li><span><a href=\"#График-ROC-curve-и-расчет-AUC-ROC\" data-toc-modified-id=\"График-ROC-curve-и-расчет-AUC-ROC-6.0.2\"><span class=\"toc-item-num\">6.0.2&nbsp;&nbsp;</span>График ROC-curve и расчет AUC-ROC</a></span></li></ul></li></ul></li><li><span><a href=\"#Борьба-с-дисбалансом\" data-toc-modified-id=\"Борьба-с-дисбалансом-7\"><span class=\"toc-item-num\">7&nbsp;&nbsp;</span>Борьба с дисбалансом</a></span><ul class=\"toc-item\"><li><ul class=\"toc-item\"><li><ul class=\"toc-item\"><li><span><a href=\"#Взвешивание-классов\" data-toc-modified-id=\"Взвешивание-классов-7.0.0.1\"><span class=\"toc-item-num\">7.0.0.1&nbsp;&nbsp;</span>Взвешивание классов</a></span></li><li><span><a href=\"#Уменьшение-выборки-downsampling.\" data-toc-modified-id=\"Уменьшение-выборки-downsampling.-7.0.0.2\"><span class=\"toc-item-num\">7.0.0.2&nbsp;&nbsp;</span>Уменьшение выборки downsampling.</a></span></li><li><span><a href=\"#Увеличение-выборки\" data-toc-modified-id=\"Увеличение-выборки-7.0.0.3\"><span class=\"toc-item-num\">7.0.0.3&nbsp;&nbsp;</span>Увеличение выборки</a></span></li></ul></li></ul></li></ul></li><li><span><a href=\"#Модель-случайного-леса\" data-toc-modified-id=\"Модель-случайного-леса-8\"><span class=\"toc-item-num\">8&nbsp;&nbsp;</span>Модель случайного леса</a></span><ul class=\"toc-item\"><li><ul class=\"toc-item\"><li><span><a href=\"#Значения-метрики-AUC-ROC-для-модели-случайного-леса\" data-toc-modified-id=\"Значения-метрики-AUC-ROC-для-модели-случайного-леса-8.0.1\"><span class=\"toc-item-num\">8.0.1&nbsp;&nbsp;</span>Значения метрики AUC-ROC для модели случайного леса</a></span></li></ul></li></ul></li><li><span><a href=\"#Тестирование-модели\" data-toc-modified-id=\"Тестирование-модели-9\"><span class=\"toc-item-num\">9&nbsp;&nbsp;</span>Тестирование модели</a></span></li><li><span><a href=\"#Чек-лист-готовности-проекта\" data-toc-modified-id=\"Чек-лист-готовности-проекта-10\"><span class=\"toc-item-num\">10&nbsp;&nbsp;</span>Чек-лист готовности проекта</a></span></li></ul></div>"
   ]
  },
  {
   "cell_type": "markdown",
   "metadata": {},
   "source": [
    "# Отток клиентов"
   ]
  },
  {
   "cell_type": "markdown",
   "metadata": {},
   "source": [
    "Из «Бета-Банка» стали уходить клиенты. Каждый месяц. Немного, но заметно. Банковские маркетологи посчитали: сохранять текущих клиентов дешевле, чем привлекать новых.\n",
    "\n",
    "Нужно спрогнозировать, уйдёт клиент из банка в ближайшее время или нет. Вам предоставлены исторические данные о поведении клиентов и расторжении договоров с банком. \n",
    "\n",
    "Постройте модель с предельно большим значением *F1*-меры. Чтобы сдать проект успешно, нужно довести метрику до 0.59. Проверьте *F1*-меру на тестовой выборке самостоятельно.\n",
    "\n",
    "Дополнительно измеряйте *AUC-ROC*, сравнивайте её значение с *F1*-мерой.\n",
    "\n",
    "Источник данных: [https://www.kaggle.com/barelydedicated/bank-customer-churn-modeling](https://www.kaggle.com/barelydedicated/bank-customer-churn-modeling)"
   ]
  },
  {
   "cell_type": "markdown",
   "metadata": {},
   "source": [
    "## Загрузка данных"
   ]
  },
  {
   "cell_type": "code",
   "execution_count": 1,
   "metadata": {},
   "outputs": [],
   "source": [
    "import os\n",
    "import pandas as pd\n",
    "import matplotlib.pyplot as plt\n",
    "\n",
    "from sklearn.linear_model import LogisticRegression\n",
    "from sklearn.ensemble import RandomForestClassifier\n",
    "from sklearn.tree import DecisionTreeClassifier\n",
    "\n",
    "from sklearn.metrics import f1_score, roc_auc_score, roc_curve\n",
    "from sklearn.metrics import accuracy_score\n",
    "\n",
    "\n",
    "\n",
    "from sklearn.preprocessing import StandardScaler\n",
    "from sklearn.model_selection import train_test_split\n",
    "from sklearn.model_selection import GridSearchCV\n",
    "\n",
    "from sklearn.utils import shuffle\n",
    "import warnings\n",
    "warnings.filterwarnings(\"ignore\")"
   ]
  },
  {
   "cell_type": "code",
   "execution_count": 2,
   "metadata": {},
   "outputs": [],
   "source": [
    "pth = 'C:/Users/Victoria/anaconda/envs/ds_practicum_env/Churn.csv'\n",
    "\n",
    "pth1 = '/datasets/Churn.csv'\n",
    "\n",
    "if os.path.exists(pth):\n",
    "    data = pd.read_csv(pth)\n",
    "elif os.path.exists(pth1):\n",
    "    data = pd.read_csv(pth1)\n",
    "else:\n",
    "    print('Something is wrong')"
   ]
  },
  {
   "cell_type": "markdown",
   "metadata": {},
   "source": [
    "## Подготовка данных"
   ]
  },
  {
   "cell_type": "code",
   "execution_count": 3,
   "metadata": {},
   "outputs": [
    {
     "data": {
      "text/html": [
       "<div>\n",
       "<style scoped>\n",
       "    .dataframe tbody tr th:only-of-type {\n",
       "        vertical-align: middle;\n",
       "    }\n",
       "\n",
       "    .dataframe tbody tr th {\n",
       "        vertical-align: top;\n",
       "    }\n",
       "\n",
       "    .dataframe thead th {\n",
       "        text-align: right;\n",
       "    }\n",
       "</style>\n",
       "<table border=\"1\" class=\"dataframe\">\n",
       "  <thead>\n",
       "    <tr style=\"text-align: right;\">\n",
       "      <th></th>\n",
       "      <th>RowNumber</th>\n",
       "      <th>CustomerId</th>\n",
       "      <th>Surname</th>\n",
       "      <th>CreditScore</th>\n",
       "      <th>Geography</th>\n",
       "      <th>Gender</th>\n",
       "      <th>Age</th>\n",
       "      <th>Tenure</th>\n",
       "      <th>Balance</th>\n",
       "      <th>NumOfProducts</th>\n",
       "      <th>HasCrCard</th>\n",
       "      <th>IsActiveMember</th>\n",
       "      <th>EstimatedSalary</th>\n",
       "      <th>Exited</th>\n",
       "    </tr>\n",
       "  </thead>\n",
       "  <tbody>\n",
       "    <tr>\n",
       "      <th>0</th>\n",
       "      <td>1</td>\n",
       "      <td>15634602</td>\n",
       "      <td>Hargrave</td>\n",
       "      <td>619</td>\n",
       "      <td>France</td>\n",
       "      <td>Female</td>\n",
       "      <td>42</td>\n",
       "      <td>2.0</td>\n",
       "      <td>0.00</td>\n",
       "      <td>1</td>\n",
       "      <td>1</td>\n",
       "      <td>1</td>\n",
       "      <td>101348.88</td>\n",
       "      <td>1</td>\n",
       "    </tr>\n",
       "    <tr>\n",
       "      <th>1</th>\n",
       "      <td>2</td>\n",
       "      <td>15647311</td>\n",
       "      <td>Hill</td>\n",
       "      <td>608</td>\n",
       "      <td>Spain</td>\n",
       "      <td>Female</td>\n",
       "      <td>41</td>\n",
       "      <td>1.0</td>\n",
       "      <td>83807.86</td>\n",
       "      <td>1</td>\n",
       "      <td>0</td>\n",
       "      <td>1</td>\n",
       "      <td>112542.58</td>\n",
       "      <td>0</td>\n",
       "    </tr>\n",
       "    <tr>\n",
       "      <th>2</th>\n",
       "      <td>3</td>\n",
       "      <td>15619304</td>\n",
       "      <td>Onio</td>\n",
       "      <td>502</td>\n",
       "      <td>France</td>\n",
       "      <td>Female</td>\n",
       "      <td>42</td>\n",
       "      <td>8.0</td>\n",
       "      <td>159660.80</td>\n",
       "      <td>3</td>\n",
       "      <td>1</td>\n",
       "      <td>0</td>\n",
       "      <td>113931.57</td>\n",
       "      <td>1</td>\n",
       "    </tr>\n",
       "    <tr>\n",
       "      <th>3</th>\n",
       "      <td>4</td>\n",
       "      <td>15701354</td>\n",
       "      <td>Boni</td>\n",
       "      <td>699</td>\n",
       "      <td>France</td>\n",
       "      <td>Female</td>\n",
       "      <td>39</td>\n",
       "      <td>1.0</td>\n",
       "      <td>0.00</td>\n",
       "      <td>2</td>\n",
       "      <td>0</td>\n",
       "      <td>0</td>\n",
       "      <td>93826.63</td>\n",
       "      <td>0</td>\n",
       "    </tr>\n",
       "    <tr>\n",
       "      <th>4</th>\n",
       "      <td>5</td>\n",
       "      <td>15737888</td>\n",
       "      <td>Mitchell</td>\n",
       "      <td>850</td>\n",
       "      <td>Spain</td>\n",
       "      <td>Female</td>\n",
       "      <td>43</td>\n",
       "      <td>2.0</td>\n",
       "      <td>125510.82</td>\n",
       "      <td>1</td>\n",
       "      <td>1</td>\n",
       "      <td>1</td>\n",
       "      <td>79084.10</td>\n",
       "      <td>0</td>\n",
       "    </tr>\n",
       "  </tbody>\n",
       "</table>\n",
       "</div>"
      ],
      "text/plain": [
       "   RowNumber  CustomerId   Surname  CreditScore Geography  Gender  Age  \\\n",
       "0          1    15634602  Hargrave          619    France  Female   42   \n",
       "1          2    15647311      Hill          608     Spain  Female   41   \n",
       "2          3    15619304      Onio          502    France  Female   42   \n",
       "3          4    15701354      Boni          699    France  Female   39   \n",
       "4          5    15737888  Mitchell          850     Spain  Female   43   \n",
       "\n",
       "   Tenure    Balance  NumOfProducts  HasCrCard  IsActiveMember  \\\n",
       "0     2.0       0.00              1          1               1   \n",
       "1     1.0   83807.86              1          0               1   \n",
       "2     8.0  159660.80              3          1               0   \n",
       "3     1.0       0.00              2          0               0   \n",
       "4     2.0  125510.82              1          1               1   \n",
       "\n",
       "   EstimatedSalary  Exited  \n",
       "0        101348.88       1  \n",
       "1        112542.58       0  \n",
       "2        113931.57       1  \n",
       "3         93826.63       0  \n",
       "4         79084.10       0  "
      ]
     },
     "execution_count": 3,
     "metadata": {},
     "output_type": "execute_result"
    }
   ],
   "source": [
    "data.head()"
   ]
  },
  {
   "cell_type": "code",
   "execution_count": 4,
   "metadata": {},
   "outputs": [
    {
     "data": {
      "text/html": [
       "<div>\n",
       "<style scoped>\n",
       "    .dataframe tbody tr th:only-of-type {\n",
       "        vertical-align: middle;\n",
       "    }\n",
       "\n",
       "    .dataframe tbody tr th {\n",
       "        vertical-align: top;\n",
       "    }\n",
       "\n",
       "    .dataframe thead th {\n",
       "        text-align: right;\n",
       "    }\n",
       "</style>\n",
       "<table border=\"1\" class=\"dataframe\">\n",
       "  <thead>\n",
       "    <tr style=\"text-align: right;\">\n",
       "      <th></th>\n",
       "      <th>rownumber</th>\n",
       "      <th>customerid</th>\n",
       "      <th>surname</th>\n",
       "      <th>creditscore</th>\n",
       "      <th>geography</th>\n",
       "      <th>gender</th>\n",
       "      <th>age</th>\n",
       "      <th>tenure</th>\n",
       "      <th>balance</th>\n",
       "      <th>numofproducts</th>\n",
       "      <th>hascrcard</th>\n",
       "      <th>isactivemember</th>\n",
       "      <th>estimatedsalary</th>\n",
       "      <th>exited</th>\n",
       "    </tr>\n",
       "  </thead>\n",
       "  <tbody>\n",
       "    <tr>\n",
       "      <th>0</th>\n",
       "      <td>1</td>\n",
       "      <td>15634602</td>\n",
       "      <td>Hargrave</td>\n",
       "      <td>619</td>\n",
       "      <td>France</td>\n",
       "      <td>Female</td>\n",
       "      <td>42</td>\n",
       "      <td>2.0</td>\n",
       "      <td>0.00</td>\n",
       "      <td>1</td>\n",
       "      <td>1</td>\n",
       "      <td>1</td>\n",
       "      <td>101348.88</td>\n",
       "      <td>1</td>\n",
       "    </tr>\n",
       "    <tr>\n",
       "      <th>1</th>\n",
       "      <td>2</td>\n",
       "      <td>15647311</td>\n",
       "      <td>Hill</td>\n",
       "      <td>608</td>\n",
       "      <td>Spain</td>\n",
       "      <td>Female</td>\n",
       "      <td>41</td>\n",
       "      <td>1.0</td>\n",
       "      <td>83807.86</td>\n",
       "      <td>1</td>\n",
       "      <td>0</td>\n",
       "      <td>1</td>\n",
       "      <td>112542.58</td>\n",
       "      <td>0</td>\n",
       "    </tr>\n",
       "    <tr>\n",
       "      <th>2</th>\n",
       "      <td>3</td>\n",
       "      <td>15619304</td>\n",
       "      <td>Onio</td>\n",
       "      <td>502</td>\n",
       "      <td>France</td>\n",
       "      <td>Female</td>\n",
       "      <td>42</td>\n",
       "      <td>8.0</td>\n",
       "      <td>159660.80</td>\n",
       "      <td>3</td>\n",
       "      <td>1</td>\n",
       "      <td>0</td>\n",
       "      <td>113931.57</td>\n",
       "      <td>1</td>\n",
       "    </tr>\n",
       "    <tr>\n",
       "      <th>3</th>\n",
       "      <td>4</td>\n",
       "      <td>15701354</td>\n",
       "      <td>Boni</td>\n",
       "      <td>699</td>\n",
       "      <td>France</td>\n",
       "      <td>Female</td>\n",
       "      <td>39</td>\n",
       "      <td>1.0</td>\n",
       "      <td>0.00</td>\n",
       "      <td>2</td>\n",
       "      <td>0</td>\n",
       "      <td>0</td>\n",
       "      <td>93826.63</td>\n",
       "      <td>0</td>\n",
       "    </tr>\n",
       "    <tr>\n",
       "      <th>4</th>\n",
       "      <td>5</td>\n",
       "      <td>15737888</td>\n",
       "      <td>Mitchell</td>\n",
       "      <td>850</td>\n",
       "      <td>Spain</td>\n",
       "      <td>Female</td>\n",
       "      <td>43</td>\n",
       "      <td>2.0</td>\n",
       "      <td>125510.82</td>\n",
       "      <td>1</td>\n",
       "      <td>1</td>\n",
       "      <td>1</td>\n",
       "      <td>79084.10</td>\n",
       "      <td>0</td>\n",
       "    </tr>\n",
       "  </tbody>\n",
       "</table>\n",
       "</div>"
      ],
      "text/plain": [
       "   rownumber  customerid   surname  creditscore geography  gender  age  \\\n",
       "0          1    15634602  Hargrave          619    France  Female   42   \n",
       "1          2    15647311      Hill          608     Spain  Female   41   \n",
       "2          3    15619304      Onio          502    France  Female   42   \n",
       "3          4    15701354      Boni          699    France  Female   39   \n",
       "4          5    15737888  Mitchell          850     Spain  Female   43   \n",
       "\n",
       "   tenure    balance  numofproducts  hascrcard  isactivemember  \\\n",
       "0     2.0       0.00              1          1               1   \n",
       "1     1.0   83807.86              1          0               1   \n",
       "2     8.0  159660.80              3          1               0   \n",
       "3     1.0       0.00              2          0               0   \n",
       "4     2.0  125510.82              1          1               1   \n",
       "\n",
       "   estimatedsalary  exited  \n",
       "0        101348.88       1  \n",
       "1        112542.58       0  \n",
       "2        113931.57       1  \n",
       "3         93826.63       0  \n",
       "4         79084.10       0  "
      ]
     },
     "execution_count": 4,
     "metadata": {},
     "output_type": "execute_result"
    }
   ],
   "source": [
    "data.columns = data.columns.str.lower()\n",
    "data.head()"
   ]
  },
  {
   "cell_type": "code",
   "execution_count": 5,
   "metadata": {},
   "outputs": [
    {
     "name": "stdout",
     "output_type": "stream",
     "text": [
      "<class 'pandas.core.frame.DataFrame'>\n",
      "RangeIndex: 10000 entries, 0 to 9999\n",
      "Data columns (total 14 columns):\n",
      " #   Column           Non-Null Count  Dtype  \n",
      "---  ------           --------------  -----  \n",
      " 0   rownumber        10000 non-null  int64  \n",
      " 1   customerid       10000 non-null  int64  \n",
      " 2   surname          10000 non-null  object \n",
      " 3   creditscore      10000 non-null  int64  \n",
      " 4   geography        10000 non-null  object \n",
      " 5   gender           10000 non-null  object \n",
      " 6   age              10000 non-null  int64  \n",
      " 7   tenure           9091 non-null   float64\n",
      " 8   balance          10000 non-null  float64\n",
      " 9   numofproducts    10000 non-null  int64  \n",
      " 10  hascrcard        10000 non-null  int64  \n",
      " 11  isactivemember   10000 non-null  int64  \n",
      " 12  estimatedsalary  10000 non-null  float64\n",
      " 13  exited           10000 non-null  int64  \n",
      "dtypes: float64(3), int64(8), object(3)\n",
      "memory usage: 1.1+ MB\n"
     ]
    }
   ],
   "source": [
    "data.info()"
   ]
  },
  {
   "cell_type": "code",
   "execution_count": 6,
   "metadata": {},
   "outputs": [
    {
     "data": {
      "text/plain": [
       "rownumber          0.0\n",
       "customerid         0.0\n",
       "surname            0.0\n",
       "creditscore        0.0\n",
       "geography          0.0\n",
       "gender             0.0\n",
       "age                0.0\n",
       "tenure             9.0\n",
       "balance            0.0\n",
       "numofproducts      0.0\n",
       "hascrcard          0.0\n",
       "isactivemember     0.0\n",
       "estimatedsalary    0.0\n",
       "exited             0.0\n",
       "dtype: float64"
      ]
     },
     "execution_count": 6,
     "metadata": {},
     "output_type": "execute_result"
    }
   ],
   "source": [
    "round(data.isna().sum()/len(data)*100)"
   ]
  },
  {
   "cell_type": "code",
   "execution_count": 7,
   "metadata": {},
   "outputs": [],
   "source": [
    "data= data.dropna()"
   ]
  },
  {
   "cell_type": "code",
   "execution_count": 8,
   "metadata": {},
   "outputs": [
    {
     "data": {
      "text/html": [
       "<div>\n",
       "<style scoped>\n",
       "    .dataframe tbody tr th:only-of-type {\n",
       "        vertical-align: middle;\n",
       "    }\n",
       "\n",
       "    .dataframe tbody tr th {\n",
       "        vertical-align: top;\n",
       "    }\n",
       "\n",
       "    .dataframe thead th {\n",
       "        text-align: right;\n",
       "    }\n",
       "</style>\n",
       "<table border=\"1\" class=\"dataframe\">\n",
       "  <thead>\n",
       "    <tr style=\"text-align: right;\">\n",
       "      <th></th>\n",
       "      <th>count</th>\n",
       "      <th>mean</th>\n",
       "      <th>std</th>\n",
       "      <th>min</th>\n",
       "      <th>25%</th>\n",
       "      <th>50%</th>\n",
       "      <th>75%</th>\n",
       "      <th>max</th>\n",
       "    </tr>\n",
       "  </thead>\n",
       "  <tbody>\n",
       "    <tr>\n",
       "      <th>rownumber</th>\n",
       "      <td>9091.0</td>\n",
       "      <td>5.013910e+03</td>\n",
       "      <td>2884.433466</td>\n",
       "      <td>1.00</td>\n",
       "      <td>2.521500e+03</td>\n",
       "      <td>5019.00</td>\n",
       "      <td>7511.50</td>\n",
       "      <td>9999.00</td>\n",
       "    </tr>\n",
       "    <tr>\n",
       "      <th>customerid</th>\n",
       "      <td>9091.0</td>\n",
       "      <td>1.569105e+07</td>\n",
       "      <td>71614.191982</td>\n",
       "      <td>15565701.00</td>\n",
       "      <td>1.562899e+07</td>\n",
       "      <td>15691061.00</td>\n",
       "      <td>15752851.50</td>\n",
       "      <td>15815660.00</td>\n",
       "    </tr>\n",
       "    <tr>\n",
       "      <th>creditscore</th>\n",
       "      <td>9091.0</td>\n",
       "      <td>6.507366e+02</td>\n",
       "      <td>96.410471</td>\n",
       "      <td>350.00</td>\n",
       "      <td>5.840000e+02</td>\n",
       "      <td>652.00</td>\n",
       "      <td>717.00</td>\n",
       "      <td>850.00</td>\n",
       "    </tr>\n",
       "    <tr>\n",
       "      <th>age</th>\n",
       "      <td>9091.0</td>\n",
       "      <td>3.894918e+01</td>\n",
       "      <td>10.555581</td>\n",
       "      <td>18.00</td>\n",
       "      <td>3.200000e+01</td>\n",
       "      <td>37.00</td>\n",
       "      <td>44.00</td>\n",
       "      <td>92.00</td>\n",
       "    </tr>\n",
       "    <tr>\n",
       "      <th>tenure</th>\n",
       "      <td>9091.0</td>\n",
       "      <td>4.997690e+00</td>\n",
       "      <td>2.894723</td>\n",
       "      <td>0.00</td>\n",
       "      <td>2.000000e+00</td>\n",
       "      <td>5.00</td>\n",
       "      <td>7.00</td>\n",
       "      <td>10.00</td>\n",
       "    </tr>\n",
       "    <tr>\n",
       "      <th>balance</th>\n",
       "      <td>9091.0</td>\n",
       "      <td>7.652274e+04</td>\n",
       "      <td>62329.528576</td>\n",
       "      <td>0.00</td>\n",
       "      <td>0.000000e+00</td>\n",
       "      <td>97318.25</td>\n",
       "      <td>127561.89</td>\n",
       "      <td>250898.09</td>\n",
       "    </tr>\n",
       "    <tr>\n",
       "      <th>numofproducts</th>\n",
       "      <td>9091.0</td>\n",
       "      <td>1.530195e+00</td>\n",
       "      <td>0.581003</td>\n",
       "      <td>1.00</td>\n",
       "      <td>1.000000e+00</td>\n",
       "      <td>1.00</td>\n",
       "      <td>2.00</td>\n",
       "      <td>4.00</td>\n",
       "    </tr>\n",
       "    <tr>\n",
       "      <th>hascrcard</th>\n",
       "      <td>9091.0</td>\n",
       "      <td>7.049830e-01</td>\n",
       "      <td>0.456076</td>\n",
       "      <td>0.00</td>\n",
       "      <td>0.000000e+00</td>\n",
       "      <td>1.00</td>\n",
       "      <td>1.00</td>\n",
       "      <td>1.00</td>\n",
       "    </tr>\n",
       "    <tr>\n",
       "      <th>isactivemember</th>\n",
       "      <td>9091.0</td>\n",
       "      <td>5.155648e-01</td>\n",
       "      <td>0.499785</td>\n",
       "      <td>0.00</td>\n",
       "      <td>0.000000e+00</td>\n",
       "      <td>1.00</td>\n",
       "      <td>1.00</td>\n",
       "      <td>1.00</td>\n",
       "    </tr>\n",
       "    <tr>\n",
       "      <th>estimatedsalary</th>\n",
       "      <td>9091.0</td>\n",
       "      <td>1.001812e+05</td>\n",
       "      <td>57624.755647</td>\n",
       "      <td>11.58</td>\n",
       "      <td>5.122774e+04</td>\n",
       "      <td>100240.20</td>\n",
       "      <td>149567.21</td>\n",
       "      <td>199992.48</td>\n",
       "    </tr>\n",
       "    <tr>\n",
       "      <th>exited</th>\n",
       "      <td>9091.0</td>\n",
       "      <td>2.039380e-01</td>\n",
       "      <td>0.402946</td>\n",
       "      <td>0.00</td>\n",
       "      <td>0.000000e+00</td>\n",
       "      <td>0.00</td>\n",
       "      <td>0.00</td>\n",
       "      <td>1.00</td>\n",
       "    </tr>\n",
       "  </tbody>\n",
       "</table>\n",
       "</div>"
      ],
      "text/plain": [
       "                  count          mean           std          min  \\\n",
       "rownumber        9091.0  5.013910e+03   2884.433466         1.00   \n",
       "customerid       9091.0  1.569105e+07  71614.191982  15565701.00   \n",
       "creditscore      9091.0  6.507366e+02     96.410471       350.00   \n",
       "age              9091.0  3.894918e+01     10.555581        18.00   \n",
       "tenure           9091.0  4.997690e+00      2.894723         0.00   \n",
       "balance          9091.0  7.652274e+04  62329.528576         0.00   \n",
       "numofproducts    9091.0  1.530195e+00      0.581003         1.00   \n",
       "hascrcard        9091.0  7.049830e-01      0.456076         0.00   \n",
       "isactivemember   9091.0  5.155648e-01      0.499785         0.00   \n",
       "estimatedsalary  9091.0  1.001812e+05  57624.755647        11.58   \n",
       "exited           9091.0  2.039380e-01      0.402946         0.00   \n",
       "\n",
       "                          25%          50%          75%          max  \n",
       "rownumber        2.521500e+03      5019.00      7511.50      9999.00  \n",
       "customerid       1.562899e+07  15691061.00  15752851.50  15815660.00  \n",
       "creditscore      5.840000e+02       652.00       717.00       850.00  \n",
       "age              3.200000e+01        37.00        44.00        92.00  \n",
       "tenure           2.000000e+00         5.00         7.00        10.00  \n",
       "balance          0.000000e+00     97318.25    127561.89    250898.09  \n",
       "numofproducts    1.000000e+00         1.00         2.00         4.00  \n",
       "hascrcard        0.000000e+00         1.00         1.00         1.00  \n",
       "isactivemember   0.000000e+00         1.00         1.00         1.00  \n",
       "estimatedsalary  5.122774e+04    100240.20    149567.21    199992.48  \n",
       "exited           0.000000e+00         0.00         0.00         1.00  "
      ]
     },
     "execution_count": 8,
     "metadata": {},
     "output_type": "execute_result"
    }
   ],
   "source": [
    "data.describe().T"
   ]
  },
  {
   "cell_type": "markdown",
   "metadata": {},
   "source": [
    "**Вывод:**\n",
    "\n",
    "Изучив данные после загрузки можно сделать вывод, что:\n",
    "- пропуски есть только в показателе Tenure (Tenure — сколько лет человек является клиентом банка)\n",
    "- портрет клиента банка: 37 лет, является клиентом банка 5 лет, баланс 97 тыс руб, зарплата около 100 тыс руб."
   ]
  },
  {
   "cell_type": "markdown",
   "metadata": {},
   "source": [
    "## Исследование задачи"
   ]
  },
  {
   "cell_type": "markdown",
   "metadata": {},
   "source": [
    "#### Разберём задачу и изучим признаки.\n",
    "\n",
    "**Признаки, с которыми будем работать:**\n",
    "\n",
    "- CreditScore — кредитный рейтинг\n",
    "- Geography — страна проживания\n",
    "- Gender — пол\n",
    "- Age — возраст\n",
    "- Tenure — сколько лет человек является клиентом банка\n",
    "- Balance — баланс на счёте\n",
    "- NumOfProducts — количество продуктов банка, используемых клиентом\n",
    "- HasCrCard — наличие кредитной карты\n",
    "- IsActiveMember — активность клиента\n",
    "- EstimatedSalary — предполагаемая зарплата\n",
    "\n",
    "**Целевой признак**\n",
    "- Exited — факт ухода клиента"
   ]
  },
  {
   "cell_type": "markdown",
   "metadata": {},
   "source": [
    "#### Изучим целевой признок и баланс классов"
   ]
  },
  {
   "cell_type": "code",
   "execution_count": 9,
   "metadata": {},
   "outputs": [],
   "source": [
    "data = data.drop(['rownumber', 'customerid', 'surname'], axis=1)"
   ]
  },
  {
   "cell_type": "code",
   "execution_count": 10,
   "metadata": {},
   "outputs": [
    {
     "data": {
      "text/html": [
       "<div>\n",
       "<style scoped>\n",
       "    .dataframe tbody tr th:only-of-type {\n",
       "        vertical-align: middle;\n",
       "    }\n",
       "\n",
       "    .dataframe tbody tr th {\n",
       "        vertical-align: top;\n",
       "    }\n",
       "\n",
       "    .dataframe thead th {\n",
       "        text-align: right;\n",
       "    }\n",
       "</style>\n",
       "<table border=\"1\" class=\"dataframe\">\n",
       "  <thead>\n",
       "    <tr style=\"text-align: right;\">\n",
       "      <th></th>\n",
       "      <th>exited</th>\n",
       "    </tr>\n",
       "  </thead>\n",
       "  <tbody>\n",
       "    <tr>\n",
       "      <th>0</th>\n",
       "      <td>7237</td>\n",
       "    </tr>\n",
       "    <tr>\n",
       "      <th>1</th>\n",
       "      <td>1854</td>\n",
       "    </tr>\n",
       "  </tbody>\n",
       "</table>\n",
       "</div>"
      ],
      "text/plain": [
       "   exited\n",
       "0    7237\n",
       "1    1854"
      ]
     },
     "execution_count": 10,
     "metadata": {},
     "output_type": "execute_result"
    }
   ],
   "source": [
    "data['exited'].value_counts().to_frame()"
   ]
  },
  {
   "cell_type": "markdown",
   "metadata": {},
   "source": [
    "Наблюдается дисбаланс классов, что может привести к низкому качеству модели.  Однако, в соответствии с заданием проекта сначала обучим модель без учёта дисбаланса. "
   ]
  },
  {
   "cell_type": "markdown",
   "metadata": {},
   "source": [
    "#### Преобразуем категориальные признаки в численные техникой прямого кодирования (One-Hot Encoding). "
   ]
  },
  {
   "cell_type": "code",
   "execution_count": 11,
   "metadata": {},
   "outputs": [
    {
     "data": {
      "text/html": [
       "<div>\n",
       "<style scoped>\n",
       "    .dataframe tbody tr th:only-of-type {\n",
       "        vertical-align: middle;\n",
       "    }\n",
       "\n",
       "    .dataframe tbody tr th {\n",
       "        vertical-align: top;\n",
       "    }\n",
       "\n",
       "    .dataframe thead th {\n",
       "        text-align: right;\n",
       "    }\n",
       "</style>\n",
       "<table border=\"1\" class=\"dataframe\">\n",
       "  <thead>\n",
       "    <tr style=\"text-align: right;\">\n",
       "      <th></th>\n",
       "      <th>creditscore</th>\n",
       "      <th>age</th>\n",
       "      <th>tenure</th>\n",
       "      <th>balance</th>\n",
       "      <th>numofproducts</th>\n",
       "      <th>hascrcard</th>\n",
       "      <th>isactivemember</th>\n",
       "      <th>estimatedsalary</th>\n",
       "      <th>exited</th>\n",
       "      <th>Male</th>\n",
       "      <th>Germany</th>\n",
       "      <th>Spain</th>\n",
       "    </tr>\n",
       "  </thead>\n",
       "  <tbody>\n",
       "    <tr>\n",
       "      <th>0</th>\n",
       "      <td>619</td>\n",
       "      <td>42</td>\n",
       "      <td>2.0</td>\n",
       "      <td>0.00</td>\n",
       "      <td>1</td>\n",
       "      <td>1</td>\n",
       "      <td>1</td>\n",
       "      <td>101348.88</td>\n",
       "      <td>1</td>\n",
       "      <td>0</td>\n",
       "      <td>0</td>\n",
       "      <td>0</td>\n",
       "    </tr>\n",
       "    <tr>\n",
       "      <th>1</th>\n",
       "      <td>608</td>\n",
       "      <td>41</td>\n",
       "      <td>1.0</td>\n",
       "      <td>83807.86</td>\n",
       "      <td>1</td>\n",
       "      <td>0</td>\n",
       "      <td>1</td>\n",
       "      <td>112542.58</td>\n",
       "      <td>0</td>\n",
       "      <td>0</td>\n",
       "      <td>0</td>\n",
       "      <td>1</td>\n",
       "    </tr>\n",
       "    <tr>\n",
       "      <th>2</th>\n",
       "      <td>502</td>\n",
       "      <td>42</td>\n",
       "      <td>8.0</td>\n",
       "      <td>159660.80</td>\n",
       "      <td>3</td>\n",
       "      <td>1</td>\n",
       "      <td>0</td>\n",
       "      <td>113931.57</td>\n",
       "      <td>1</td>\n",
       "      <td>0</td>\n",
       "      <td>0</td>\n",
       "      <td>0</td>\n",
       "    </tr>\n",
       "    <tr>\n",
       "      <th>3</th>\n",
       "      <td>699</td>\n",
       "      <td>39</td>\n",
       "      <td>1.0</td>\n",
       "      <td>0.00</td>\n",
       "      <td>2</td>\n",
       "      <td>0</td>\n",
       "      <td>0</td>\n",
       "      <td>93826.63</td>\n",
       "      <td>0</td>\n",
       "      <td>0</td>\n",
       "      <td>0</td>\n",
       "      <td>0</td>\n",
       "    </tr>\n",
       "    <tr>\n",
       "      <th>4</th>\n",
       "      <td>850</td>\n",
       "      <td>43</td>\n",
       "      <td>2.0</td>\n",
       "      <td>125510.82</td>\n",
       "      <td>1</td>\n",
       "      <td>1</td>\n",
       "      <td>1</td>\n",
       "      <td>79084.10</td>\n",
       "      <td>0</td>\n",
       "      <td>0</td>\n",
       "      <td>0</td>\n",
       "      <td>1</td>\n",
       "    </tr>\n",
       "  </tbody>\n",
       "</table>\n",
       "</div>"
      ],
      "text/plain": [
       "   creditscore  age  tenure    balance  numofproducts  hascrcard  \\\n",
       "0          619   42     2.0       0.00              1          1   \n",
       "1          608   41     1.0   83807.86              1          0   \n",
       "2          502   42     8.0  159660.80              3          1   \n",
       "3          699   39     1.0       0.00              2          0   \n",
       "4          850   43     2.0  125510.82              1          1   \n",
       "\n",
       "   isactivemember  estimatedsalary  exited  Male  Germany  Spain  \n",
       "0               1        101348.88       1     0        0      0  \n",
       "1               1        112542.58       0     0        0      1  \n",
       "2               0        113931.57       1     0        0      0  \n",
       "3               0         93826.63       0     0        0      0  \n",
       "4               1         79084.10       0     0        0      1  "
      ]
     },
     "execution_count": 11,
     "metadata": {},
     "output_type": "execute_result"
    }
   ],
   "source": [
    "gender_ohe = pd.get_dummies(data[\"gender\"], drop_first=True)\n",
    "country_ohe = pd.get_dummies(data[\"geography\"], drop_first=True)\n",
    "\n",
    "data.drop([\"gender\", \"geography\"], axis=1, inplace=True)\n",
    "\n",
    "data_ohe = pd.concat([data, gender_ohe, country_ohe], axis=1)\n",
    "\n",
    "data_ohe.head()"
   ]
  },
  {
   "cell_type": "markdown",
   "metadata": {},
   "source": [
    "## Обучение модели логистической регрессии без учёта дисбаланса классов"
   ]
  },
  {
   "cell_type": "markdown",
   "metadata": {},
   "source": [
    "#### Обучение модели, разбиение на обучающую и валидационную выборки"
   ]
  },
  {
   "cell_type": "code",
   "execution_count": 12,
   "metadata": {},
   "outputs": [
    {
     "name": "stdout",
     "output_type": "stream",
     "text": [
      "(6818, 11)\n",
      "F1: 0.008733624454148471\n"
     ]
    }
   ],
   "source": [
    "target = data_ohe['exited']\n",
    "features = data_ohe.drop('exited', axis=1)\n",
    "features_train, features_valid, target_train, target_valid = train_test_split(\n",
    "    features, target, test_size=0.25, random_state=12345)\n",
    "\n",
    "\n",
    "model = LogisticRegression(random_state=12345, solver='liblinear')\n",
    "model.fit(features_train, target_train)\n",
    "predicted_valid = model.predict(features_valid)\n",
    "\n",
    "\n",
    "\n",
    "print(features_train.shape) \n",
    "print(\"F1:\", f1_score(target_valid, predicted_valid))"
   ]
  },
  {
   "cell_type": "raw",
   "metadata": {},
   "source": [
    "Значение F1 слишком мало. Можно добавить масштабирование численных признаков."
   ]
  },
  {
   "cell_type": "markdown",
   "metadata": {},
   "source": [
    "#### Масштабирование численных признаков"
   ]
  },
  {
   "cell_type": "code",
   "execution_count": 13,
   "metadata": {},
   "outputs": [
    {
     "name": "stdout",
     "output_type": "stream",
     "text": [
      "(6818, 11)\n",
      "F1: 0.30333333333333334\n"
     ]
    }
   ],
   "source": [
    "numeric = ['creditscore', 'age', 'balance', 'estimatedsalary']\n",
    "scaler = StandardScaler()\n",
    "scaler.fit(features_train[numeric])\n",
    "features_train[numeric] = scaler.transform(features_train[numeric])\n",
    "features_valid[numeric] = scaler.transform(features_valid[numeric])\n",
    "\n",
    "model = LogisticRegression(random_state=12345, solver='liblinear')\n",
    "model.fit(features_train, target_train)\n",
    "predicted_valid = model.predict(features_valid)\n",
    "\n",
    "print(features_train.shape) \n",
    "print(\"F1:\", f1_score(target_valid, predicted_valid))"
   ]
  },
  {
   "cell_type": "markdown",
   "metadata": {},
   "source": [
    "#### График ROC-curve и расчет AUC-ROC"
   ]
  },
  {
   "cell_type": "code",
   "execution_count": 14,
   "metadata": {},
   "outputs": [
    {
     "data": {
      "image/png": "[encoded data removed]",
      "text/plain": [
       "<Figure size 360x360 with 1 Axes>"
      ]
     },
     "metadata": {
      "needs_background": "light"
     },
     "output_type": "display_data"
    },
    {
     "name": "stdout",
     "output_type": "stream",
     "text": [
      "AUC: 0.7884892944329105\n"
     ]
    }
   ],
   "source": [
    "probabilities_valid = model.predict_proba(features_valid)\n",
    "probabilities_one_valid = probabilities_valid[:, 1]\n",
    "\n",
    "fpr, tpr, thresholds = roc_curve(target_valid, probabilities_one_valid) \n",
    "\n",
    "plt.figure(figsize=(5, 5))\n",
    "plt.plot(fpr, tpr, linestyle='-')\n",
    "plt.plot([0, 1], [0, 1], linestyle='--')\n",
    "plt.xlim([0.0, 1.0])\n",
    "plt.ylim([0.0, 1.0])\n",
    "plt.xlabel('False Positive Rate')\n",
    "plt.ylabel('True Positive Rate')\n",
    "plt.title('ROC-curve')\n",
    "plt.show()\n",
    "\n",
    "auc_roc = roc_auc_score (target_valid, probabilities_one_valid)\n",
    "\n",
    "print(\"AUC:\", auc_roc)"
   ]
  },
  {
   "cell_type": "markdown",
   "metadata": {},
   "source": [
    "Значение F1 выросло после того как мы выполнили масштабирование численных признаков."
   ]
  },
  {
   "cell_type": "markdown",
   "metadata": {},
   "source": [
    "## Обучение модели случайного леса без учёта дисбаланса классов"
   ]
  },
  {
   "cell_type": "markdown",
   "metadata": {},
   "source": [
    "#### Обучение модели, разбиение на обучающую и валидационную выборки"
   ]
  },
  {
   "cell_type": "code",
   "execution_count": 15,
   "metadata": {},
   "outputs": [
    {
     "data": {
      "text/plain": [
       "GridSearchCV(cv=5, estimator=RandomForestClassifier(random_state=12345),\n",
       "             param_grid={'criterion': ['gini', 'entropy'],\n",
       "                         'min_samples_split': range(5, 15),\n",
       "                         'n_estimators': [3, 10, 30]},\n",
       "             scoring='f1')"
      ]
     },
     "execution_count": 15,
     "metadata": {},
     "output_type": "execute_result"
    }
   ],
   "source": [
    "model = RandomForestClassifier(random_state=12345)\n",
    "\n",
    "par_grid_ensemble = {'n_estimators': [3, 10, 30],\n",
    "                     'criterion': ['gini', 'entropy'],\n",
    "                     'min_samples_split': range(5, 15)\n",
    "                    }\n",
    "\n",
    "grid_search = GridSearchCV(model, par_grid_ensemble, cv=5,\n",
    "                           scoring='f1'\n",
    "                          )\n",
    "grid_search.fit(features_train, target_train)"
   ]
  },
  {
   "cell_type": "code",
   "execution_count": 16,
   "metadata": {},
   "outputs": [
    {
     "name": "stdout",
     "output_type": "stream",
     "text": [
      "F1: 0.5949720670391062\n"
     ]
    }
   ],
   "source": [
    "model_rf = RandomForestClassifier(random_state=12345, criterion='entropy', \n",
    "                               min_samples_split=7, n_estimators=30)\n",
    "model_rf.fit(features_train, target_train)\n",
    "predicted_valid = model_rf.predict(features_valid)\n",
    "print(\"F1:\", f1_score(target_valid, predicted_valid))"
   ]
  },
  {
   "cell_type": "markdown",
   "metadata": {},
   "source": [
    "#### График ROC-curve и расчет AUC-ROC"
   ]
  },
  {
   "cell_type": "code",
   "execution_count": 17,
   "metadata": {},
   "outputs": [
    {
     "data": {
      "image/png": "[encoded data removed]",
      "text/plain": [
       "<Figure size 360x360 with 1 Axes>"
      ]
     },
     "metadata": {
      "needs_background": "light"
     },
     "output_type": "display_data"
    },
    {
     "name": "stdout",
     "output_type": "stream",
     "text": [
      "AUC: 0.8547842214276848\n"
     ]
    }
   ],
   "source": [
    "probabilities_valid = model_rf.predict_proba(features_valid)\n",
    "probabilities_one_valid = probabilities_valid[:, 1]\n",
    "\n",
    "fpr, tpr, thresholds = roc_curve(target_valid, probabilities_one_valid) \n",
    "\n",
    "plt.figure(figsize=(5, 5))\n",
    "plt.plot(fpr, tpr, linestyle='-')\n",
    "plt.plot([0, 1], [0, 1], linestyle='--')\n",
    "plt.xlim([0.0, 1.0])\n",
    "plt.ylim([0.0, 1.0])\n",
    "plt.xlabel('False Positive Rate')\n",
    "plt.ylabel('True Positive Rate')\n",
    "plt.title('ROC-curve')\n",
    "plt.show()\n",
    "\n",
    "auc_roc = roc_auc_score (target_valid, probabilities_one_valid)\n",
    "\n",
    "print(\"AUC:\", auc_roc)"
   ]
  },
  {
   "cell_type": "markdown",
   "metadata": {},
   "source": [
    "Значение AUC-ROC для модели случайного лева выше, чем для логистической регрессии, что говорит о большей точности модели."
   ]
  },
  {
   "cell_type": "markdown",
   "metadata": {},
   "source": [
    "## Обучение модели DecisionTreeClassifier"
   ]
  },
  {
   "cell_type": "markdown",
   "metadata": {},
   "source": [
    "#### Обучение модели"
   ]
  },
  {
   "cell_type": "code",
   "execution_count": 18,
   "metadata": {},
   "outputs": [
    {
     "name": "stdout",
     "output_type": "stream",
     "text": [
      "{'max_depth': 7, 'min_samples_leaf': 1, 'min_samples_split': 2, 'random_state': 0}\n"
     ]
    }
   ],
   "source": [
    "dtree_c = DecisionTreeClassifier(class_weight='balanced')\n",
    "param_grid = {\n",
    "    'max_depth': [3, 4, 5, 6, 7, 8],\n",
    "    'min_samples_split': [2, 3, 4],\n",
    "    'min_samples_leaf': [1, 2, 3, 4],\n",
    "    'random_state': [0, 12345]\n",
    "}\n",
    "\n",
    "# Perform a grid search with cross-validation to find the best hyperparameters\n",
    "grid_search = GridSearchCV(dtree_c, param_grid, cv=5)\n",
    "grid_search.fit(features_train, target_train)\n",
    "\n",
    "# Print the best hyperparameters\n",
    "print(grid_search.best_params_)"
   ]
  },
  {
   "cell_type": "code",
   "execution_count": 19,
   "metadata": {},
   "outputs": [
    {
     "name": "stdout",
     "output_type": "stream",
     "text": [
      "F1:  0.7716673999120107\n"
     ]
    }
   ],
   "source": [
    "dtree_c = DecisionTreeClassifier(random_state=12345, max_depth=7, min_samples_leaf=1, min_samples_split=2, class_weight='balanced')\n",
    "dtree_c.fit(features_train, target_train)\n",
    "dtree_c_pred = dtree_c.predict(features_valid)\n",
    "print('F1: ',(f1_score(target_valid, dtree_c_pred, average='micro')))"
   ]
  },
  {
   "cell_type": "markdown",
   "metadata": {},
   "source": [
    "#### График ROC-curve и расчет AUC-ROC"
   ]
  },
  {
   "cell_type": "code",
   "execution_count": 20,
   "metadata": {},
   "outputs": [
    {
     "data": {
      "image/png": "[encoded data removed]",
      "text/plain": [
       "<Figure size 360x360 with 1 Axes>"
      ]
     },
     "metadata": {
      "needs_background": "light"
     },
     "output_type": "display_data"
    },
    {
     "name": "stdout",
     "output_type": "stream",
     "text": [
      "AUC: 0.8272098106172161\n"
     ]
    }
   ],
   "source": [
    "probabilities_valid = dtree_c.predict_proba(features_valid)\n",
    "probabilities_one_valid = probabilities_valid[:, 1]\n",
    "\n",
    "fpr, tpr, thresholds = roc_curve(target_valid, probabilities_one_valid) \n",
    "\n",
    "plt.figure(figsize=(5, 5))\n",
    "plt.plot(fpr, tpr, linestyle='-')\n",
    "plt.plot([0, 1], [0, 1], linestyle='--')\n",
    "plt.xlim([0.0, 1.0])\n",
    "plt.ylim([0.0, 1.0])\n",
    "plt.xlabel('False Positive Rate')\n",
    "plt.ylabel('True Positive Rate')\n",
    "plt.title('ROC-curve')\n",
    "plt.show()\n",
    "\n",
    "auc_roc = roc_auc_score (target_valid, probabilities_one_valid)\n",
    "\n",
    "print(\"AUC:\", auc_roc)"
   ]
  },
  {
   "cell_type": "markdown",
   "metadata": {},
   "source": [
    "Значение F1 наиболее высокое для модели DecisionTreeClassifier. Однако, показатель AUC-ROC немного ниже чем для модели случайного леса. "
   ]
  },
  {
   "cell_type": "markdown",
   "metadata": {},
   "source": [
    "## Борьба с дисбалансом"
   ]
  },
  {
   "cell_type": "markdown",
   "metadata": {},
   "source": [
    "##### Взвешивание классов"
   ]
  },
  {
   "cell_type": "markdown",
   "metadata": {},
   "source": [
    "Добавим взвешивание классов с помощью class_weight. Если указать class_weight='balanced' (англ. «сбалансированный»), алгоритм посчитает, больший вес будет у редкого класса, что позволит увеличить показатель F1."
   ]
  },
  {
   "cell_type": "code",
   "execution_count": 21,
   "metadata": {},
   "outputs": [
    {
     "name": "stdout",
     "output_type": "stream",
     "text": [
      "(6818, 11)\n",
      "F1: 0.5109375\n"
     ]
    }
   ],
   "source": [
    "model = LogisticRegression(random_state=12345, solver='liblinear', class_weight='balanced')\n",
    "model.fit(features_train, target_train)\n",
    "predicted_valid = model.predict(features_valid)\n",
    "\n",
    "print(features_train.shape) \n",
    "print(\"F1:\", f1_score(target_valid, predicted_valid))"
   ]
  },
  {
   "cell_type": "markdown",
   "metadata": {},
   "source": [
    "Показатель F1 увеличился, как и ожидалось."
   ]
  },
  {
   "cell_type": "markdown",
   "metadata": {},
   "source": [
    "##### Уменьшение выборки downsampling."
   ]
  },
  {
   "cell_type": "code",
   "execution_count": 22,
   "metadata": {},
   "outputs": [
    {
     "name": "stdout",
     "output_type": "stream",
     "text": [
      "(2973, 11)\n",
      "F1: 0.519134775374376\n"
     ]
    }
   ],
   "source": [
    "def downsample(features, target, fraction):\n",
    "    features_zeros = features[target == 0]\n",
    "    features_ones = features[target == 1]\n",
    "    target_zeros = target[target == 0]\n",
    "    target_ones = target[target == 1]\n",
    "\n",
    "    features_downsampled = pd.concat(\n",
    "        [features_zeros.sample(frac=fraction, random_state=12345)] + [features_ones])\n",
    "    target_downsampled = pd.concat(\n",
    "        [target_zeros.sample(frac=fraction, random_state=12345)] + [target_ones])\n",
    "    \n",
    "    features_downsampled, target_downsampled = shuffle(\n",
    "        features_downsampled, target_downsampled, random_state=12345)\n",
    "    \n",
    "    return features_downsampled, target_downsampled\n",
    "\n",
    "features_downsampled, target_downsampled = downsample(features_train, target_train, 0.29)\n",
    "\n",
    "model = LogisticRegression(random_state=12345, solver='liblinear')\n",
    "model.fit(features_downsampled, target_downsampled)\n",
    "predicted_valid = model.predict(features_valid)\n",
    "\n",
    "# < напишите код здесь >\n",
    "print(features_downsampled.shape) \n",
    "print(\"F1:\", f1_score(target_valid, predicted_valid))"
   ]
  },
  {
   "cell_type": "markdown",
   "metadata": {},
   "source": [
    "Техника уменьшения выборки не позволила существенно поднять показатель F1."
   ]
  },
  {
   "cell_type": "markdown",
   "metadata": {},
   "source": [
    "##### Увеличение выборки"
   ]
  },
  {
   "cell_type": "code",
   "execution_count": 23,
   "metadata": {},
   "outputs": [
    {
     "name": "stdout",
     "output_type": "stream",
     "text": [
      "(11027, 11)\n",
      "F1: 0.5080091533180778\n"
     ]
    }
   ],
   "source": [
    "def upsample(features, target, repeat):\n",
    "    features_zeros = features[target == 0]\n",
    "    features_ones = features[target == 1]\n",
    "    target_zeros = target[target == 0]\n",
    "    target_ones = target[target == 1]\n",
    "\n",
    "    features_upsampled = pd.concat([features_zeros] + [features_ones]*repeat )\n",
    "    target_upsampled = pd.concat([target_zeros] + [target_ones]*repeat )\n",
    "    \n",
    "    features_upsampled, target_upsampled = shuffle(\n",
    "        features_upsampled, target_upsampled, random_state=12345)\n",
    "    \n",
    "    return features_upsampled, target_upsampled\n",
    "\n",
    "features_upsampled, target_upsampled = upsample(features_train, target_train, 4)\n",
    "\n",
    "model = LogisticRegression(random_state=12345, solver='liblinear')\n",
    "model.fit(features_upsampled, target_upsampled)\n",
    "predicted_valid = model.predict(features_valid)\n",
    "print(features_upsampled.shape) \n",
    "print(\"F1:\", f1_score(predicted_valid, target_valid))"
   ]
  },
  {
   "cell_type": "code",
   "execution_count": 24,
   "metadata": {},
   "outputs": [
    {
     "data": {
      "text/html": [
       "<div>\n",
       "<style scoped>\n",
       "    .dataframe tbody tr th:only-of-type {\n",
       "        vertical-align: middle;\n",
       "    }\n",
       "\n",
       "    .dataframe tbody tr th {\n",
       "        vertical-align: top;\n",
       "    }\n",
       "\n",
       "    .dataframe thead th {\n",
       "        text-align: right;\n",
       "    }\n",
       "</style>\n",
       "<table border=\"1\" class=\"dataframe\">\n",
       "  <thead>\n",
       "    <tr style=\"text-align: right;\">\n",
       "      <th></th>\n",
       "      <th>exited</th>\n",
       "    </tr>\n",
       "  </thead>\n",
       "  <tbody>\n",
       "    <tr>\n",
       "      <th>1</th>\n",
       "      <td>5612</td>\n",
       "    </tr>\n",
       "    <tr>\n",
       "      <th>0</th>\n",
       "      <td>5415</td>\n",
       "    </tr>\n",
       "  </tbody>\n",
       "</table>\n",
       "</div>"
      ],
      "text/plain": [
       "   exited\n",
       "1    5612\n",
       "0    5415"
      ]
     },
     "execution_count": 24,
     "metadata": {},
     "output_type": "execute_result"
    }
   ],
   "source": [
    "target_upsampled.value_counts().to_frame()"
   ]
  },
  {
   "cell_type": "raw",
   "metadata": {},
   "source": [
    "Техника увеличения выборки не позволила существенно поднять показатель F1."
   ]
  },
  {
   "cell_type": "markdown",
   "metadata": {},
   "source": [
    "## Модель случайного леса "
   ]
  },
  {
   "cell_type": "code",
   "execution_count": 25,
   "metadata": {},
   "outputs": [
    {
     "data": {
      "text/plain": [
       "{'max_depth': 7,\n",
       " 'min_samples_leaf': 1,\n",
       " 'min_samples_split': 2,\n",
       " 'random_state': 0}"
      ]
     },
     "execution_count": 25,
     "metadata": {},
     "output_type": "execute_result"
    }
   ],
   "source": [
    "grid_search.best_params_"
   ]
  },
  {
   "cell_type": "code",
   "execution_count": 26,
   "metadata": {},
   "outputs": [
    {
     "name": "stdout",
     "output_type": "stream",
     "text": [
      "F1: 0.5949720670391062\n"
     ]
    }
   ],
   "source": [
    "model_rf = RandomForestClassifier(random_state=12345, criterion='entropy', \n",
    "                               min_samples_split=7, n_estimators=30)\n",
    "model_rf.fit(features_train, target_train)\n",
    "predicted_valid = model_rf.predict(features_valid)\n",
    "print(\"F1:\", f1_score(target_valid, predicted_valid))"
   ]
  },
  {
   "cell_type": "markdown",
   "metadata": {},
   "source": [
    "Показатель F1 для модели случайного леса вырос выше необходимого порога (не менее 0.59), что говорит о том, что удалось найти подходящую модель."
   ]
  },
  {
   "cell_type": "markdown",
   "metadata": {},
   "source": [
    "#### Значения метрики AUC-ROC для модели случайного леса"
   ]
  },
  {
   "cell_type": "code",
   "execution_count": 27,
   "metadata": {},
   "outputs": [
    {
     "data": {
      "image/png": "[encoded data removed]",
      "text/plain": [
       "<Figure size 360x360 with 1 Axes>"
      ]
     },
     "metadata": {
      "needs_background": "light"
     },
     "output_type": "display_data"
    },
    {
     "name": "stdout",
     "output_type": "stream",
     "text": [
      "AUC: 0.8547842214276848\n"
     ]
    }
   ],
   "source": [
    "probabilities_valid = model_rf.predict_proba(features_valid)\n",
    "probabilities_one_valid = probabilities_valid[:, 1]\n",
    "\n",
    "fpr, tpr, thresholds = roc_curve(target_valid, probabilities_one_valid) \n",
    "\n",
    "plt.figure(figsize=(5, 5))\n",
    "plt.plot(fpr, tpr, linestyle='-')\n",
    "plt.plot([0, 1], [0, 1], linestyle='--')\n",
    "plt.xlim([0.0, 1.0])\n",
    "plt.ylim([0.0, 1.0])\n",
    "plt.xlabel('False Positive Rate')\n",
    "plt.ylabel('True Positive Rate')\n",
    "plt.title('ROC-curve')\n",
    "plt.show()\n",
    "\n",
    "auc_roc = roc_auc_score (target_valid, probabilities_one_valid)\n",
    "\n",
    "print(\"AUC:\", auc_roc)"
   ]
  },
  {
   "cell_type": "markdown",
   "metadata": {},
   "source": [
    "Метрика AUC-ROC - достаточно высока 0.85, что говорит об отличии нашей модели от случайной (AUC-ROC случайной модели равна 0.5)"
   ]
  },
  {
   "cell_type": "markdown",
   "metadata": {},
   "source": [
    "## Тестирование модели"
   ]
  },
  {
   "cell_type": "code",
   "execution_count": 28,
   "metadata": {},
   "outputs": [
    {
     "name": "stdout",
     "output_type": "stream",
     "text": [
      "F1 константной модели: 0.0\n",
      "AUC-ROC константной модели: 0.5\n",
      "F1 модели случайного леса: 0.5949720670391062\n",
      "AUC-ROC модели случайного леса: 0.8547842214276848\n"
     ]
    }
   ],
   "source": [
    "target_pred_constant = pd.Series(0, index=target.index)\n",
    "\n",
    "print('F1 константной модели:',f1_score(target, target_pred_constant))\n",
    "print('AUC-ROC константной модели:',roc_auc_score(target, target_pred_constant))\n",
    "\n",
    "\n",
    "\n",
    "predictions_test = model_rf.predict(features_valid)\n",
    "\n",
    "\n",
    "print('F1 модели случайного леса:',f1_score(target_valid, predicted_valid))\n",
    "print('AUC-ROC модели случайного леса:',roc_auc_score(target_valid, probabilities_one_valid))"
   ]
  },
  {
   "cell_type": "markdown",
   "metadata": {},
   "source": [
    "Тестирование модели показало ее адекватность и отличие от константной модели."
   ]
  },
  {
   "cell_type": "markdown",
   "metadata": {},
   "source": [
    "## Чек-лист готовности проекта"
   ]
  },
  {
   "cell_type": "markdown",
   "metadata": {},
   "source": [
    "Поставьте 'x' в выполненных пунктах. Далее нажмите Shift+Enter."
   ]
  },
  {
   "cell_type": "markdown",
   "metadata": {},
   "source": [
    "- [x]  Jupyter Notebook открыт\n",
    "- [ ]  Весь код выполняется без ошибок\n",
    "- [ ]  Ячейки с кодом расположены в порядке исполнения\n",
    "- [ ]  Выполнен шаг 1: данные подготовлены\n",
    "- [ ]  Выполнен шаг 2: задача исследована\n",
    "    - [ ]  Исследован баланс классов\n",
    "    - [ ]  Изучены модели без учёта дисбаланса\n",
    "    - [ ]  Написаны выводы по результатам исследования\n",
    "- [ ]  Выполнен шаг 3: учтён дисбаланс\n",
    "    - [ ]  Применено несколько способов борьбы с дисбалансом\n",
    "    - [ ]  Написаны выводы по результатам исследования\n",
    "- [ ]  Выполнен шаг 4: проведено тестирование\n",
    "- [ ]  Удалось достичь *F1*-меры не менее 0.59\n",
    "- [ ]  Исследована метрика *AUC-ROC*"
   ]
  }
 ],
 "metadata": {
  "ExecuteTimeLog": [
   {
    "duration": 1843,
    "start_time": "2023-06-23T08:17:15.707Z"
   },
   {
    "duration": 250,
    "start_time": "2023-06-23T08:17:21.111Z"
   },
   {
    "duration": 22,
    "start_time": "2023-06-23T08:17:22.821Z"
   },
   {
    "duration": 14,
    "start_time": "2023-06-23T08:17:23.506Z"
   },
   {
    "duration": 17,
    "start_time": "2023-06-23T08:17:24.136Z"
   },
   {
    "duration": 14,
    "start_time": "2023-06-23T08:17:24.906Z"
   },
   {
    "duration": 8,
    "start_time": "2023-06-23T08:17:25.507Z"
   },
   {
    "duration": 61,
    "start_time": "2023-06-23T08:17:26.549Z"
   },
   {
    "duration": 5,
    "start_time": "2023-06-23T08:17:29.226Z"
   },
   {
    "duration": 9,
    "start_time": "2023-06-23T08:17:30.117Z"
   },
   {
    "duration": 20,
    "start_time": "2023-06-23T08:17:32.016Z"
   },
   {
    "duration": 52,
    "start_time": "2023-06-23T08:17:34.917Z"
   },
   {
    "duration": 118,
    "start_time": "2023-06-23T08:17:36.354Z"
   },
   {
    "duration": 289,
    "start_time": "2023-06-23T08:17:37.819Z"
   },
   {
    "duration": 163,
    "start_time": "2023-06-23T08:17:40.336Z"
   },
   {
    "duration": 290,
    "start_time": "2023-06-23T08:17:41.106Z"
   },
   {
    "duration": 163,
    "start_time": "2023-06-23T08:17:42.499Z"
   },
   {
    "duration": 4,
    "start_time": "2023-06-23T08:20:23.411Z"
   },
   {
    "duration": 76,
    "start_time": "2023-06-23T08:20:24.501Z"
   },
   {
    "duration": 14,
    "start_time": "2023-06-23T08:20:25.105Z"
   },
   {
    "duration": 16,
    "start_time": "2023-06-23T08:20:25.402Z"
   },
   {
    "duration": 22,
    "start_time": "2023-06-23T08:20:25.666Z"
   },
   {
    "duration": 9,
    "start_time": "2023-06-23T08:20:25.902Z"
   },
   {
    "duration": 8,
    "start_time": "2023-06-23T08:20:26.116Z"
   },
   {
    "duration": 44,
    "start_time": "2023-06-23T08:20:27.013Z"
   },
   {
    "duration": 5,
    "start_time": "2023-06-23T08:20:28.602Z"
   },
   {
    "duration": 10,
    "start_time": "2023-06-23T08:20:29.105Z"
   },
   {
    "duration": 18,
    "start_time": "2023-06-23T08:20:30.735Z"
   },
   {
    "duration": 47,
    "start_time": "2023-06-23T08:20:32.222Z"
   },
   {
    "duration": 66,
    "start_time": "2023-06-23T08:20:33.404Z"
   },
   {
    "duration": 1597,
    "start_time": "2023-06-23T08:21:00.406Z"
   },
   {
    "duration": 101,
    "start_time": "2023-06-23T08:21:02.005Z"
   },
   {
    "duration": 19,
    "start_time": "2023-06-23T08:21:02.819Z"
   },
   {
    "duration": 15,
    "start_time": "2023-06-23T08:21:03.514Z"
   },
   {
    "duration": 16,
    "start_time": "2023-06-23T08:21:04.317Z"
   },
   {
    "duration": 14,
    "start_time": "2023-06-23T08:21:04.963Z"
   },
   {
    "duration": 9,
    "start_time": "2023-06-23T08:21:05.734Z"
   },
   {
    "duration": 69,
    "start_time": "2023-06-23T08:21:07.410Z"
   },
   {
    "duration": 5,
    "start_time": "2023-06-23T08:21:10.346Z"
   },
   {
    "duration": 18,
    "start_time": "2023-06-23T08:21:11.483Z"
   },
   {
    "duration": 21,
    "start_time": "2023-06-23T08:21:13.316Z"
   },
   {
    "duration": 54,
    "start_time": "2023-06-23T08:21:15.360Z"
   },
   {
    "duration": 49,
    "start_time": "2023-06-23T08:21:16.905Z"
   },
   {
    "duration": 1708,
    "start_time": "2023-06-23T08:34:23.114Z"
   },
   {
    "duration": 95,
    "start_time": "2023-06-23T08:34:28.956Z"
   },
   {
    "duration": 19,
    "start_time": "2023-06-23T08:34:30.209Z"
   },
   {
    "duration": 15,
    "start_time": "2023-06-23T08:34:32.237Z"
   },
   {
    "duration": 30,
    "start_time": "2023-06-23T08:34:33.361Z"
   },
   {
    "duration": 12,
    "start_time": "2023-06-23T08:34:34.826Z"
   },
   {
    "duration": 11,
    "start_time": "2023-06-23T08:34:35.850Z"
   },
   {
    "duration": 54,
    "start_time": "2023-06-23T08:34:39.225Z"
   },
   {
    "duration": 6,
    "start_time": "2023-06-23T08:34:42.753Z"
   },
   {
    "duration": 13,
    "start_time": "2023-06-23T08:34:43.925Z"
   },
   {
    "duration": 20,
    "start_time": "2023-06-23T08:34:46.021Z"
   },
   {
    "duration": 70,
    "start_time": "2023-06-23T08:34:48.014Z"
   },
   {
    "duration": 52,
    "start_time": "2023-06-23T08:34:50.125Z"
   },
   {
    "duration": 279,
    "start_time": "2023-06-23T08:35:22.422Z"
   },
   {
    "duration": 128,
    "start_time": "2023-06-23T08:35:28.629Z"
   },
   {
    "duration": 34806,
    "start_time": "2023-06-23T08:40:05.919Z"
   },
   {
    "duration": 12,
    "start_time": "2023-06-23T08:41:47.917Z"
   },
   {
    "duration": 1570,
    "start_time": "2023-06-23T08:42:18.345Z"
   },
   {
    "duration": 89,
    "start_time": "2023-06-23T08:42:19.917Z"
   },
   {
    "duration": 19,
    "start_time": "2023-06-23T08:42:20.724Z"
   },
   {
    "duration": 16,
    "start_time": "2023-06-23T08:42:21.234Z"
   },
   {
    "duration": 15,
    "start_time": "2023-06-23T08:42:21.916Z"
   },
   {
    "duration": 14,
    "start_time": "2023-06-23T08:42:22.413Z"
   },
   {
    "duration": 11,
    "start_time": "2023-06-23T08:42:22.959Z"
   },
   {
    "duration": 66,
    "start_time": "2023-06-23T08:42:24.062Z"
   },
   {
    "duration": 5,
    "start_time": "2023-06-23T08:42:27.238Z"
   },
   {
    "duration": 12,
    "start_time": "2023-06-23T08:42:28.931Z"
   },
   {
    "duration": 31,
    "start_time": "2023-06-23T08:42:31.069Z"
   },
   {
    "duration": 159,
    "start_time": "2023-06-23T08:42:33.137Z"
   },
   {
    "duration": 64,
    "start_time": "2023-06-23T08:42:35.549Z"
   },
   {
    "duration": 297,
    "start_time": "2023-06-23T08:42:42.110Z"
   },
   {
    "duration": 36008,
    "start_time": "2023-06-23T08:42:44.130Z"
   },
   {
    "duration": 316,
    "start_time": "2023-06-23T08:43:20.141Z"
   },
   {
    "duration": 164,
    "start_time": "2023-06-23T08:43:20.462Z"
   },
   {
    "duration": 15578,
    "start_time": "2023-06-23T08:57:06.206Z"
   },
   {
    "duration": 15580,
    "start_time": "2023-06-23T08:57:38.782Z"
   },
   {
    "duration": 43,
    "start_time": "2023-06-23T08:58:07.545Z"
   },
   {
    "duration": 192,
    "start_time": "2023-06-23T08:58:09.537Z"
   },
   {
    "duration": 91,
    "start_time": "2023-06-23T08:58:14.388Z"
   },
   {
    "duration": 72,
    "start_time": "2023-06-23T08:58:16.107Z"
   },
   {
    "duration": 114,
    "start_time": "2023-06-23T08:58:18.517Z"
   },
   {
    "duration": 11,
    "start_time": "2023-06-23T08:58:23.641Z"
   },
   {
    "duration": 5,
    "start_time": "2023-06-23T08:58:27.348Z"
   },
   {
    "duration": 396,
    "start_time": "2023-06-23T08:58:27.924Z"
   },
   {
    "duration": 197,
    "start_time": "2023-06-23T08:58:28.827Z"
   },
   {
    "duration": 54,
    "start_time": "2023-06-23T08:58:31.337Z"
   },
   {
    "duration": 1948,
    "start_time": "2023-06-23T08:59:41.325Z"
   },
   {
    "duration": 0,
    "start_time": "2023-06-23T08:59:43.275Z"
   },
   {
    "duration": 0,
    "start_time": "2023-06-23T08:59:43.278Z"
   },
   {
    "duration": 11,
    "start_time": "2023-06-23T08:59:43.636Z"
   },
   {
    "duration": 11,
    "start_time": "2023-06-23T08:59:44.533Z"
   },
   {
    "duration": 11,
    "start_time": "2023-06-23T08:59:58.241Z"
   },
   {
    "duration": 12,
    "start_time": "2023-06-23T08:59:59.311Z"
   },
   {
    "duration": 10,
    "start_time": "2023-06-23T09:00:00.939Z"
   },
   {
    "duration": 21,
    "start_time": "2023-06-23T09:00:25.567Z"
   },
   {
    "duration": 1987,
    "start_time": "2023-06-23T09:00:35.853Z"
   },
   {
    "duration": 113,
    "start_time": "2023-06-23T09:00:39.044Z"
   },
   {
    "duration": 26,
    "start_time": "2023-06-23T09:00:40.130Z"
   },
   {
    "duration": 33,
    "start_time": "2023-06-23T09:00:40.859Z"
   },
   {
    "duration": 15,
    "start_time": "2023-06-23T09:00:41.314Z"
   },
   {
    "duration": 14,
    "start_time": "2023-06-23T09:00:41.742Z"
   },
   {
    "duration": 16,
    "start_time": "2023-06-23T09:00:42.191Z"
   },
   {
    "duration": 109,
    "start_time": "2023-06-23T09:00:43.029Z"
   },
   {
    "duration": 6,
    "start_time": "2023-06-23T09:00:45.258Z"
   },
   {
    "duration": 9,
    "start_time": "2023-06-23T09:00:46.120Z"
   },
   {
    "duration": 59,
    "start_time": "2023-06-23T09:00:47.452Z"
   },
   {
    "duration": 156,
    "start_time": "2023-06-23T09:00:48.835Z"
   },
   {
    "duration": 112,
    "start_time": "2023-06-23T09:00:50.421Z"
   },
   {
    "duration": 336,
    "start_time": "2023-06-23T09:00:51.616Z"
   },
   {
    "duration": 40239,
    "start_time": "2023-06-23T09:00:53.725Z"
   },
   {
    "duration": 391,
    "start_time": "2023-06-23T09:01:33.967Z"
   },
   {
    "duration": 250,
    "start_time": "2023-06-23T09:01:34.361Z"
   },
   {
    "duration": 14428,
    "start_time": "2023-06-23T09:02:37.147Z"
   },
   {
    "duration": 38,
    "start_time": "2023-06-23T09:03:12.280Z"
   },
   {
    "duration": 212,
    "start_time": "2023-06-23T09:03:14.241Z"
   },
   {
    "duration": 107,
    "start_time": "2023-06-23T09:03:18.964Z"
   },
   {
    "duration": 77,
    "start_time": "2023-06-23T09:03:20.806Z"
   },
   {
    "duration": 50,
    "start_time": "2023-06-23T09:03:23.041Z"
   },
   {
    "duration": 22,
    "start_time": "2023-06-23T09:03:24.209Z"
   },
   {
    "duration": 6,
    "start_time": "2023-06-23T09:03:27.209Z"
   },
   {
    "duration": 349,
    "start_time": "2023-06-23T09:03:27.740Z"
   },
   {
    "duration": 164,
    "start_time": "2023-06-23T09:03:29.114Z"
   },
   {
    "duration": 49,
    "start_time": "2023-06-23T09:03:31.356Z"
   }
  ],
  "kernelspec": {
   "display_name": "Python 3 (ipykernel)",
   "language": "python",
   "name": "python3"
  },
  "language_info": {
   "codemirror_mode": {
    "name": "ipython",
    "version": 3
   },
   "file_extension": ".py",
   "mimetype": "text/x-python",
   "name": "python",
   "nbconvert_exporter": "python",
   "pygments_lexer": "ipython3",
   "version": "3.9.13"
  },
  "toc": {
   "base_numbering": 1,
   "nav_menu": {},
   "number_sections": true,
   "sideBar": true,
   "skip_h1_title": true,
   "title_cell": "Содержание",
   "title_sidebar": "Contents",
   "toc_cell": true,
   "toc_position": {
    "height": "calc(100% - 180px)",
    "left": "10px",
    "top": "150px",
    "width": "403.233px"
   },
   "toc_section_display": true,
   "toc_window_display": true
  }
 },
 "nbformat": 4,
 "nbformat_minor": 2
}
