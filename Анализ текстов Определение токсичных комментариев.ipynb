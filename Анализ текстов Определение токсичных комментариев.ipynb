{
 "cells": [
  {
   "cell_type": "markdown",
   "metadata": {},
   "source": [
    "# Проект для «Викишоп»"
   ]
  },
  {
   "cell_type": "markdown",
   "metadata": {},
   "source": [
    "Интернет-магазин «Викишоп» запускает новый сервис. Теперь пользователи могут редактировать и дополнять описания товаров, как в вики-сообществах. То есть клиенты предлагают свои правки и комментируют изменения других. Магазину нужен инструмент, который будет искать токсичные комментарии и отправлять их на модерацию. \n",
    "\n",
    "Обучите модель классифицировать комментарии на позитивные и негативные. В вашем распоряжении набор данных с разметкой о токсичности правок.\n",
    "\n",
    "Постройте модель со значением метрики качества *F1* не меньше 0.75. \n",
    "\n",
    "**Инструкция по выполнению проекта**\n",
    "\n",
    "1. Загрузите и подготовьте данные.\n",
    "2. Обучите разные модели. \n",
    "3. Сделайте выводы.\n",
    "\n",
    "Для выполнения проекта применять *BERT* необязательно, но вы можете попробовать.\n",
    "\n",
    "**Описание данных**\n",
    "\n",
    "Данные находятся в файле `toxic_comments.csv`. Столбец *text* в нём содержит текст комментария, а *toxic* — целевой признак."
   ]
  },
  {
   "cell_type": "markdown",
   "metadata": {},
   "source": [
    "## Подготовка"
   ]
  },
  {
   "cell_type": "code",
   "execution_count": 1,
   "metadata": {},
   "outputs": [
    {
     "name": "stderr",
     "output_type": "stream",
     "text": [
      "[nltk_data] Downloading package omw-1.4 to\n",
      "[nltk_data]     C:\\Users\\Victoria\\AppData\\Roaming\\nltk_data...\n",
      "[nltk_data]   Package omw-1.4 is already up-to-date!\n",
      "[nltk_data] Downloading package punkt to\n",
      "[nltk_data]     C:\\Users\\Victoria\\AppData\\Roaming\\nltk_data...\n",
      "[nltk_data]   Package punkt is already up-to-date!\n",
      "[nltk_data] Downloading package wordnet to\n",
      "[nltk_data]     C:\\Users\\Victoria\\AppData\\Roaming\\nltk_data...\n",
      "[nltk_data]   Package wordnet is already up-to-date!\n",
      "[nltk_data] Downloading package averaged_perceptron_tagger to\n",
      "[nltk_data]     C:\\Users\\Victoria\\AppData\\Roaming\\nltk_data...\n",
      "[nltk_data]   Package averaged_perceptron_tagger is already up-to-\n",
      "[nltk_data]       date!\n"
     ]
    }
   ],
   "source": [
    "import os\n",
    "\n",
    "import numpy as np\n",
    "import pandas as pd\n",
    "import re\n",
    "\n",
    "import nltk\n",
    "nltk.download('omw-1.4')\n",
    "nltk.download('punkt')\n",
    "nltk.download('wordnet')\n",
    "nltk.download('averaged_perceptron_tagger')\n",
    "from nltk.corpus import wordnet\n",
    "from nltk.corpus.reader.wordnet import WordNetError\n",
    "\n",
    "from nltk.stem import WordNetLemmatizer\n",
    "from nltk.corpus import stopwords as nltk_stopwords\n",
    "\n",
    "from sklearn.feature_extraction.text import TfidfVectorizer\n",
    "from sklearn.model_selection import train_test_split, cross_val_score, GridSearchCV\n",
    "from sklearn.linear_model import LogisticRegression\n",
    "\n",
    "from sklearn.pipeline import Pipeline\n",
    "\n",
    "from sklearn.feature_extraction.text import CountVectorizer\n",
    "\n",
    "from sklearn.tree import DecisionTreeClassifier\n",
    "\n",
    "from sklearn.metrics import f1_score, precision_score, recall_score, accuracy_score, roc_auc_score, roc_curve\n",
    "from sklearn.utils import shuffle\n",
    "import matplotlib.pyplot as plt\n",
    "import warnings\n",
    "warnings.filterwarnings('ignore')"
   ]
  },
  {
   "cell_type": "code",
   "execution_count": 2,
   "metadata": {},
   "outputs": [],
   "source": [
    "pth = r'C:\\Users\\Victoria\\anaconda\\envs\\ds_practicum_env\\toxic_comments.csv'\n",
    "\n",
    "pth1 = '/datasets/toxic_comments.csv'\n",
    "\n",
    "if os.path.exists(pth):\n",
    "    data = pd.read_csv(pth)\n",
    "elif os.path.exists(pth1):\n",
    "    data = pd.read_csv(pth1)\n",
    "else:\n",
    "    print('Something is wrong')"
   ]
  },
  {
   "cell_type": "code",
   "execution_count": 3,
   "metadata": {},
   "outputs": [
    {
     "name": "stdout",
     "output_type": "stream",
     "text": [
      "<class 'pandas.core.frame.DataFrame'>\n",
      "RangeIndex: 159292 entries, 0 to 159291\n",
      "Data columns (total 3 columns):\n",
      " #   Column      Non-Null Count   Dtype \n",
      "---  ------      --------------   ----- \n",
      " 0   Unnamed: 0  159292 non-null  int64 \n",
      " 1   text        159292 non-null  object\n",
      " 2   toxic       159292 non-null  int64 \n",
      "dtypes: int64(2), object(1)\n",
      "memory usage: 3.6+ MB\n"
     ]
    }
   ],
   "source": [
    "data.info()"
   ]
  },
  {
   "cell_type": "code",
   "execution_count": 4,
   "metadata": {},
   "outputs": [
    {
     "data": {
      "text/plain": [
       "0"
      ]
     },
     "execution_count": 4,
     "metadata": {},
     "output_type": "execute_result"
    }
   ],
   "source": [
    "data['text'].duplicated().sum()"
   ]
  },
  {
   "cell_type": "code",
   "execution_count": 5,
   "metadata": {},
   "outputs": [
    {
     "data": {
      "text/plain": [
       "0    143106\n",
       "1     16186\n",
       "Name: toxic, dtype: int64"
      ]
     },
     "execution_count": 5,
     "metadata": {},
     "output_type": "execute_result"
    }
   ],
   "source": [
    "data['toxic'].value_counts()"
   ]
  },
  {
   "cell_type": "code",
   "execution_count": 6,
   "metadata": {},
   "outputs": [
    {
     "data": {
      "text/plain": [
       "8.841344371679229"
      ]
     },
     "execution_count": 6,
     "metadata": {},
     "output_type": "execute_result"
    }
   ],
   "source": [
    "class_ratio = data['toxic'].value_counts()[0] / data['toxic'].value_counts()[1]\n",
    "class_ratio"
   ]
  },
  {
   "cell_type": "code",
   "execution_count": 7,
   "metadata": {},
   "outputs": [],
   "source": [
    "#удаляю столбец Unnamed:\n",
    "data = data.drop(['Unnamed: 0'], axis=1)"
   ]
  },
  {
   "cell_type": "code",
   "execution_count": 8,
   "metadata": {},
   "outputs": [
    {
     "data": {
      "text/html": [
       "<div>\n",
       "<style scoped>\n",
       "    .dataframe tbody tr th:only-of-type {\n",
       "        vertical-align: middle;\n",
       "    }\n",
       "\n",
       "    .dataframe tbody tr th {\n",
       "        vertical-align: top;\n",
       "    }\n",
       "\n",
       "    .dataframe thead th {\n",
       "        text-align: right;\n",
       "    }\n",
       "</style>\n",
       "<table border=\"1\" class=\"dataframe\">\n",
       "  <thead>\n",
       "    <tr style=\"text-align: right;\">\n",
       "      <th></th>\n",
       "      <th>text</th>\n",
       "      <th>toxic</th>\n",
       "    </tr>\n",
       "  </thead>\n",
       "  <tbody>\n",
       "    <tr>\n",
       "      <th>0</th>\n",
       "      <td>Explanation\\nWhy the edits made under my usern...</td>\n",
       "      <td>0</td>\n",
       "    </tr>\n",
       "    <tr>\n",
       "      <th>1</th>\n",
       "      <td>D'aww! He matches this background colour I'm s...</td>\n",
       "      <td>0</td>\n",
       "    </tr>\n",
       "    <tr>\n",
       "      <th>2</th>\n",
       "      <td>Hey man, I'm really not trying to edit war. It...</td>\n",
       "      <td>0</td>\n",
       "    </tr>\n",
       "    <tr>\n",
       "      <th>3</th>\n",
       "      <td>\"\\nMore\\nI can't make any real suggestions on ...</td>\n",
       "      <td>0</td>\n",
       "    </tr>\n",
       "    <tr>\n",
       "      <th>4</th>\n",
       "      <td>You, sir, are my hero. Any chance you remember...</td>\n",
       "      <td>0</td>\n",
       "    </tr>\n",
       "  </tbody>\n",
       "</table>\n",
       "</div>"
      ],
      "text/plain": [
       "                                                text  toxic\n",
       "0  Explanation\\nWhy the edits made under my usern...      0\n",
       "1  D'aww! He matches this background colour I'm s...      0\n",
       "2  Hey man, I'm really not trying to edit war. It...      0\n",
       "3  \"\\nMore\\nI can't make any real suggestions on ...      0\n",
       "4  You, sir, are my hero. Any chance you remember...      0"
      ]
     },
     "execution_count": 8,
     "metadata": {},
     "output_type": "execute_result"
    }
   ],
   "source": [
    "data.head()"
   ]
  },
  {
   "cell_type": "code",
   "execution_count": 9,
   "metadata": {},
   "outputs": [],
   "source": [
    "def clear_text(text):\n",
    "    text = text.lower()\n",
    "    text = re.sub(r'[^a-zA-Z]', ' ', text)   \n",
    "    text = ' '.join(text.split())\n",
    "    return text\n",
    "\n",
    "data['text'] = data['text'].apply(clear_text) "
   ]
  },
  {
   "cell_type": "code",
   "execution_count": 11,
   "metadata": {},
   "outputs": [],
   "source": [
    "def get_wordnet_pos(word):\n",
    "    tag = nltk.pos_tag([word])[0][1][0].upper()\n",
    "    tag_dict = {\"J\": wordnet.ADJ,               #прилагательное\n",
    "                \"N\": wordnet.NOUN,              #существительное\n",
    "                \"V\": wordnet.VERB,              #глагол\n",
    "                \"R\": wordnet.ADV                #наречие\n",
    "               }  \n",
    "    return tag_dict.get(tag, wordnet.NOUN)"
   ]
  },
  {
   "cell_type": "code",
   "execution_count": 12,
   "metadata": {},
   "outputs": [],
   "source": [
    "lemmatizer = WordNetLemmatizer()\n",
    "\n",
    "#ввожу функцию леммализации тектов постов:\n",
    "def lemmatize_text(text):\n",
    "    text = [lemmatizer.lemmatize(w, get_wordnet_pos(w)) for w in nltk.word_tokenize(text)]\n",
    "    return ' '.join(text)\n",
    "\n",
    "data['lemm_text'] = data['text'].apply(lemmatize_text)\n",
    "\n",
    "data = data.drop(['text'], axis=1)"
   ]
  },
  {
   "cell_type": "code",
   "execution_count": 13,
   "metadata": {},
   "outputs": [
    {
     "data": {
      "text/html": [
       "<div>\n",
       "<style scoped>\n",
       "    .dataframe tbody tr th:only-of-type {\n",
       "        vertical-align: middle;\n",
       "    }\n",
       "\n",
       "    .dataframe tbody tr th {\n",
       "        vertical-align: top;\n",
       "    }\n",
       "\n",
       "    .dataframe thead th {\n",
       "        text-align: right;\n",
       "    }\n",
       "</style>\n",
       "<table border=\"1\" class=\"dataframe\">\n",
       "  <thead>\n",
       "    <tr style=\"text-align: right;\">\n",
       "      <th></th>\n",
       "      <th>toxic</th>\n",
       "      <th>lemm_text</th>\n",
       "    </tr>\n",
       "  </thead>\n",
       "  <tbody>\n",
       "    <tr>\n",
       "      <th>0</th>\n",
       "      <td>0</td>\n",
       "      <td>explanation why the edits make under my userna...</td>\n",
       "    </tr>\n",
       "    <tr>\n",
       "      <th>1</th>\n",
       "      <td>0</td>\n",
       "      <td>d aww he match this background colour i m seem...</td>\n",
       "    </tr>\n",
       "    <tr>\n",
       "      <th>2</th>\n",
       "      <td>0</td>\n",
       "      <td>hey man i m really not try to edit war it s ju...</td>\n",
       "    </tr>\n",
       "    <tr>\n",
       "      <th>3</th>\n",
       "      <td>0</td>\n",
       "      <td>more i can t make any real suggestion on impro...</td>\n",
       "    </tr>\n",
       "    <tr>\n",
       "      <th>4</th>\n",
       "      <td>0</td>\n",
       "      <td>you sir be my hero any chance you remember wha...</td>\n",
       "    </tr>\n",
       "  </tbody>\n",
       "</table>\n",
       "</div>"
      ],
      "text/plain": [
       "   toxic                                          lemm_text\n",
       "0      0  explanation why the edits make under my userna...\n",
       "1      0  d aww he match this background colour i m seem...\n",
       "2      0  hey man i m really not try to edit war it s ju...\n",
       "3      0  more i can t make any real suggestion on impro...\n",
       "4      0  you sir be my hero any chance you remember wha..."
      ]
     },
     "execution_count": 13,
     "metadata": {},
     "output_type": "execute_result"
    }
   ],
   "source": [
    "data.head()"
   ]
  },
  {
   "cell_type": "code",
   "execution_count": 18,
   "metadata": {},
   "outputs": [],
   "source": [
    "corpus = data['lemm_text'].values.astype('str')"
   ]
  },
  {
   "cell_type": "code",
   "execution_count": 19,
   "metadata": {},
   "outputs": [],
   "source": [
    "stopwords = set(nltk_stopwords.words('english'))"
   ]
  },
  {
   "cell_type": "code",
   "execution_count": 20,
   "metadata": {},
   "outputs": [
    {
     "name": "stdout",
     "output_type": "stream",
     "text": [
      "Размер мешка без учёта стоп-слов: (159292, 151900)\n",
      "Размер мешка с учётом стоп-слов: (159292, 151766)\n"
     ]
    }
   ],
   "source": [
    "count_vect = CountVectorizer()\n",
    "bow_no_stop = count_vect.fit_transform(corpus) \n",
    "\n",
    "# создайте мешок слов без учёта стоп-слов\n",
    "# < напишите код здесь >\n",
    "\n",
    "print(\"Размер мешка без учёта стоп-слов:\", bow_no_stop.shape)\n",
    "\n",
    "count_vect = CountVectorizer(stop_words=stopwords)\n",
    "bow_stop = count_vect.fit_transform(corpus) \n",
    "\n",
    "# создайте новый мешок слов с учётом стоп-слов\n",
    "# < напишите код здесь >\n",
    "\n",
    "print(\"Размер мешка с учётом стоп-слов:\", bow_stop.shape)"
   ]
  },
  {
   "cell_type": "code",
   "execution_count": 21,
   "metadata": {},
   "outputs": [],
   "source": [
    "tf_idf = count_vect.fit_transform(corpus)"
   ]
  },
  {
   "cell_type": "code",
   "execution_count": 22,
   "metadata": {},
   "outputs": [
    {
     "name": "stdout",
     "output_type": "stream",
     "text": [
      "Размер матрицы: (159292, 151766)\n"
     ]
    }
   ],
   "source": [
    "print(\"Размер матрицы:\", tf_idf.shape)"
   ]
  },
  {
   "cell_type": "markdown",
   "metadata": {},
   "source": [
    "Получили матрицу со значениями TF-IDF. Признаков столько же, сколько было у мешка слов."
   ]
  },
  {
   "cell_type": "markdown",
   "metadata": {},
   "source": [
    "**Выводы:**\n",
    "\n",
    "- Удалила ненужный столбец\n",
    "- Леммализировала тексты, убрала стоп-слова"
   ]
  },
  {
   "cell_type": "markdown",
   "metadata": {},
   "source": [
    "## Обучение"
   ]
  },
  {
   "cell_type": "code",
   "execution_count": 28,
   "metadata": {},
   "outputs": [],
   "source": [
    "#разделяю выборки в соотношении 80/20:\n",
    "\n",
    "train, test = train_test_split(data, test_size=0.2, random_state=12345)\n",
    "\n",
    "features_train = train.drop(['toxic'], axis=1) \n",
    "target_train = train['toxic']\n",
    "\n",
    "features_test = test.drop(['toxic'], axis=1) \n",
    "target_test = test['toxic']"
   ]
  },
  {
   "cell_type": "code",
   "execution_count": 29,
   "metadata": {},
   "outputs": [
    {
     "name": "stdout",
     "output_type": "stream",
     "text": [
      "(127433, 1)\n",
      "(127433,)\n",
      "(31859, 1)\n",
      "(31859,)\n"
     ]
    }
   ],
   "source": [
    "for i in [features_train, target_train, features_test, target_test]:\n",
    "    print(i.shape)"
   ]
  },
  {
   "cell_type": "code",
   "execution_count": 30,
   "metadata": {},
   "outputs": [],
   "source": [
    "features_train = features_train['lemm_text']"
   ]
  },
  {
   "cell_type": "markdown",
   "metadata": {},
   "source": [
    "### Модель дерева решений"
   ]
  },
  {
   "cell_type": "code",
   "execution_count": 31,
   "metadata": {},
   "outputs": [],
   "source": [
    "pipeline = Pipeline([(\"vect\", TfidfVectorizer(stop_words='english')), \n",
    "                     (\"dtc\", DecisionTreeClassifier())])"
   ]
  },
  {
   "cell_type": "code",
   "execution_count": 32,
   "metadata": {},
   "outputs": [
    {
     "name": "stdout",
     "output_type": "stream",
     "text": [
      "F1 дерева решений = 0.63\n",
      "при параметрах {'dtc__class_weight': 'balanced', 'dtc__max_depth': 24}\n",
      "\n"
     ]
    }
   ],
   "source": [
    "parameters = {'dtc__max_depth': ([x for x in range(1, 25)]),\n",
    "              'dtc__class_weight': (['balanced'])}\n",
    "\n",
    "gscv = GridSearchCV(pipeline, parameters, scoring='f1', cv=3)\n",
    "\n",
    "gscv.fit(features_train, target_train)\n",
    "\n",
    "mts = gscv.cv_results_['mean_test_score']\n",
    "dtc_train_f1 = max(mts)\n",
    "\n",
    "print('F1 дерева решений =', round(dtc_train_f1,2))\n",
    "print('при параметрах', gscv.best_params_)\n",
    "print()"
   ]
  },
  {
   "cell_type": "markdown",
   "metadata": {},
   "source": [
    "Метрика F1 хуже необходимого значения по условию проекта (не менее 0.75). Модель не подходит, рассмотрим другую модель."
   ]
  },
  {
   "cell_type": "markdown",
   "metadata": {},
   "source": [
    "### Модель логистической регрессии LogisticRegression"
   ]
  },
  {
   "cell_type": "code",
   "execution_count": 34,
   "metadata": {},
   "outputs": [],
   "source": [
    "pipeline = Pipeline([(\"vect\", TfidfVectorizer(stop_words='english', sublinear_tf=True)), \n",
    "                     (\"lr\", LogisticRegression())])"
   ]
  },
  {
   "cell_type": "code",
   "execution_count": 35,
   "metadata": {},
   "outputs": [
    {
     "name": "stdout",
     "output_type": "stream",
     "text": [
      "F1 логистической регрессии = 0.76\n",
      "при параметрах {'lr__C': 5, 'lr__class_weight': 'balanced', 'lr__max_iter': 200}\n",
      "\n"
     ]
    }
   ],
   "source": [
    "#обучение:\n",
    "    \n",
    "parameters = {'lr__C': (.1, 1, 5, 10),\n",
    "              'lr__max_iter': ([200]),\n",
    "              'lr__class_weight': (['balanced'])}\n",
    "\n",
    "gscv = GridSearchCV(pipeline, parameters, scoring='f1', cv=3)\n",
    "\n",
    "gscv.fit(features_train, target_train)\n",
    "\n",
    "mts = gscv.cv_results_['mean_test_score']\n",
    "lr_train_f1 = max(mts)\n",
    "\n",
    "print('F1 логистической регрессии =', round(lr_train_f1,2))\n",
    "print('при параметрах', gscv.best_params_)\n",
    "print()"
   ]
  },
  {
   "cell_type": "markdown",
   "metadata": {},
   "source": [
    "**Вывод:** при сравнении метрики F1 разных моделей на кросс-валидации модель логистической регрессии показывает лучше результат, чем модель дерева решений"
   ]
  },
  {
   "cell_type": "markdown",
   "metadata": {},
   "source": [
    "### Расчет метрики F1 лучшей модели на тестовой выборке"
   ]
  },
  {
   "cell_type": "code",
   "execution_count": 39,
   "metadata": {},
   "outputs": [
    {
     "name": "stdout",
     "output_type": "stream",
     "text": [
      "финальный F1 логистической регрессии = 0.76\n",
      "полнота: 0.84\n",
      "точность: 0.7\n"
     ]
    }
   ],
   "source": [
    "#тестирование:\n",
    "predictions_test = gscv.predict(features_test['lemm_text'])\n",
    "lr_test_f1 = f1_score(target_test, predictions_test)\n",
    "print('финальный F1 логистической регрессии =', round(lr_test_f1,2))\n",
    "print('полнота:',round(recall_score(target_test,predictions_test),2))\n",
    "print('точность:', round(precision_score(target_test,predictions_test),2))"
   ]
  },
  {
   "cell_type": "markdown",
   "metadata": {},
   "source": [
    "**Вывод:** F1 выше необходмого условия не менее 0.75. Модель подходит"
   ]
  },
  {
   "cell_type": "markdown",
   "metadata": {},
   "source": [
    "## Выводы"
   ]
  },
  {
   "cell_type": "markdown",
   "metadata": {},
   "source": [
    "Модель логистической реграссии показала лучшие результаты, чем модель логистической регрессии. \n",
    "Модель логистической реграссии показала результат лучше, чем модель логистической регрессии. F1 не менее 0.77. \n",
    "В этой метрике учтены как полнота так и точность предсказания. \n",
    "Модель хорошо предсказывает положительные классы (токсичные комментарии), поскольку высока как точность (0.7), так и полнота (0.84).\n"
   ]
  },
  {
   "cell_type": "markdown",
   "metadata": {},
   "source": [
    "## Чек-лист проверки"
   ]
  },
  {
   "cell_type": "markdown",
   "metadata": {},
   "source": [
    "- [x]  Jupyter Notebook открыт\n",
    "- [ ]  Весь код выполняется без ошибок\n",
    "- [ ]  Ячейки с кодом расположены в порядке исполнения\n",
    "- [ ]  Данные загружены и подготовлены\n",
    "- [ ]  Модели обучены\n",
    "- [ ]  Значение метрики *F1* не меньше 0.75\n",
    "- [ ]  Выводы написаны"
   ]
  }
 ],
 "metadata": {
  "ExecuteTimeLog": [
   {
    "duration": 1988,
    "start_time": "2023-08-31T11:41:41.402Z"
   },
   {
    "duration": 2735,
    "start_time": "2023-08-31T11:42:05.080Z"
   },
   {
    "duration": 37,
    "start_time": "2023-08-31T11:42:24.238Z"
   },
   {
    "duration": 85,
    "start_time": "2023-08-31T11:42:39.582Z"
   },
   {
    "duration": 7,
    "start_time": "2023-08-31T11:42:53.465Z"
   },
   {
    "duration": 8155,
    "start_time": "2023-08-31T11:43:09.839Z"
   },
   {
    "duration": 11,
    "start_time": "2023-08-31T11:54:17.820Z"
   },
   {
    "duration": 13450,
    "start_time": "2023-08-31T11:57:15.746Z"
   },
   {
    "duration": 85,
    "start_time": "2023-08-31T11:58:14.175Z"
   },
   {
    "duration": 144,
    "start_time": "2023-08-31T12:02:48.014Z"
   },
   {
    "duration": 97,
    "start_time": "2023-08-31T12:03:23.241Z"
   },
   {
    "duration": 147,
    "start_time": "2023-08-31T12:03:39.482Z"
   },
   {
    "duration": 189,
    "start_time": "2023-08-31T12:04:27.298Z"
   },
   {
    "duration": 194,
    "start_time": "2023-08-31T12:04:45.324Z"
   },
   {
    "duration": 4,
    "start_time": "2023-08-31T12:05:29.675Z"
   },
   {
    "duration": 5,
    "start_time": "2023-08-31T12:05:40.483Z"
   },
   {
    "duration": 108,
    "start_time": "2023-08-31T12:05:50.194Z"
   },
   {
    "duration": 20,
    "start_time": "2023-08-31T12:10:18.469Z"
   },
   {
    "duration": 8,
    "start_time": "2023-08-31T12:12:23.440Z"
   },
   {
    "duration": 1445,
    "start_time": "2023-08-31T12:12:40.849Z"
   },
   {
    "duration": 1829,
    "start_time": "2023-08-31T12:13:10.085Z"
   },
   {
    "duration": 1053,
    "start_time": "2023-08-31T12:13:11.918Z"
   },
   {
    "duration": 46,
    "start_time": "2023-08-31T12:13:12.973Z"
   },
   {
    "duration": 96,
    "start_time": "2023-08-31T12:13:13.914Z"
   },
   {
    "duration": 9,
    "start_time": "2023-08-31T12:13:14.646Z"
   },
   {
    "duration": 7979,
    "start_time": "2023-08-31T12:13:15.656Z"
   },
   {
    "duration": 18,
    "start_time": "2023-08-31T12:13:23.638Z"
   },
   {
    "duration": 12,
    "start_time": "2023-08-31T12:13:23.657Z"
   },
   {
    "duration": 6,
    "start_time": "2023-08-31T12:13:23.671Z"
   },
   {
    "duration": 28,
    "start_time": "2023-08-31T12:14:08.199Z"
   },
   {
    "duration": 19,
    "start_time": "2023-08-31T12:14:08.679Z"
   },
   {
    "duration": 8,
    "start_time": "2023-08-31T12:14:08.919Z"
   },
   {
    "duration": 18,
    "start_time": "2023-08-31T12:16:44.847Z"
   },
   {
    "duration": 11,
    "start_time": "2023-08-31T12:16:45.536Z"
   },
   {
    "duration": 5,
    "start_time": "2023-08-31T12:16:46.093Z"
   },
   {
    "duration": 157,
    "start_time": "2023-08-31T12:16:47.221Z"
   },
   {
    "duration": 1843,
    "start_time": "2023-08-31T12:25:04.279Z"
   },
   {
    "duration": 1045,
    "start_time": "2023-08-31T12:25:06.857Z"
   },
   {
    "duration": 38,
    "start_time": "2023-08-31T12:25:08.578Z"
   },
   {
    "duration": 83,
    "start_time": "2023-08-31T12:25:09.337Z"
   },
   {
    "duration": 8,
    "start_time": "2023-08-31T12:25:09.935Z"
   },
   {
    "duration": 8021,
    "start_time": "2023-08-31T12:25:10.827Z"
   },
   {
    "duration": 23,
    "start_time": "2023-08-31T12:25:18.850Z"
   },
   {
    "duration": 12,
    "start_time": "2023-08-31T12:25:20.881Z"
   },
   {
    "duration": 160,
    "start_time": "2023-08-31T12:25:24.802Z"
   },
   {
    "duration": 8,
    "start_time": "2023-08-31T12:25:31.639Z"
   },
   {
    "duration": 16,
    "start_time": "2023-08-31T12:25:33.390Z"
   },
   {
    "duration": 43,
    "start_time": "2023-08-31T12:25:40.769Z"
   },
   {
    "duration": 15,
    "start_time": "2023-08-31T12:26:39.335Z"
   },
   {
    "duration": 17,
    "start_time": "2023-08-31T12:26:47.920Z"
   },
   {
    "duration": 4,
    "start_time": "2023-08-31T12:27:09.633Z"
   },
   {
    "duration": 13,
    "start_time": "2023-08-31T12:27:11.747Z"
   },
   {
    "duration": 110,
    "start_time": "2023-08-31T12:29:00.053Z"
   },
   {
    "duration": 5,
    "start_time": "2023-08-31T12:29:09.322Z"
   },
   {
    "duration": 13,
    "start_time": "2023-08-31T12:29:23.461Z"
   },
   {
    "duration": 10,
    "start_time": "2023-08-31T12:30:14.382Z"
   },
   {
    "duration": 1862,
    "start_time": "2023-08-31T12:30:23.622Z"
   },
   {
    "duration": 1129,
    "start_time": "2023-08-31T12:30:26.129Z"
   },
   {
    "duration": 37,
    "start_time": "2023-08-31T12:30:27.831Z"
   },
   {
    "duration": 99,
    "start_time": "2023-08-31T12:30:28.460Z"
   },
   {
    "duration": 17,
    "start_time": "2023-08-31T12:30:29.121Z"
   },
   {
    "duration": 7,
    "start_time": "2023-08-31T12:30:29.767Z"
   },
   {
    "duration": 8884,
    "start_time": "2023-08-31T12:30:30.443Z"
   },
   {
    "duration": 19,
    "start_time": "2023-08-31T12:30:39.332Z"
   },
   {
    "duration": 12,
    "start_time": "2023-08-31T12:30:39.352Z"
   },
   {
    "duration": 6,
    "start_time": "2023-08-31T12:30:39.366Z"
   },
   {
    "duration": 68,
    "start_time": "2023-08-31T12:30:40.967Z"
   },
   {
    "duration": 4,
    "start_time": "2023-08-31T12:30:42.531Z"
   },
   {
    "duration": 140,
    "start_time": "2023-08-31T12:30:46.030Z"
   },
   {
    "duration": 15,
    "start_time": "2023-08-31T12:31:14.275Z"
   },
   {
    "duration": 13,
    "start_time": "2023-08-31T12:31:15.623Z"
   },
   {
    "duration": 18,
    "start_time": "2023-08-31T12:31:46.423Z"
   },
   {
    "duration": 11,
    "start_time": "2023-08-31T12:31:47.858Z"
   },
   {
    "duration": 2010,
    "start_time": "2023-08-31T12:32:00.788Z"
   },
   {
    "duration": 1146,
    "start_time": "2023-08-31T12:32:03.582Z"
   },
   {
    "duration": 45,
    "start_time": "2023-08-31T12:32:04.730Z"
   },
   {
    "duration": 103,
    "start_time": "2023-08-31T12:32:04.777Z"
   },
   {
    "duration": 7,
    "start_time": "2023-08-31T12:32:05.829Z"
   },
   {
    "duration": 9,
    "start_time": "2023-08-31T12:32:06.383Z"
   },
   {
    "duration": 8963,
    "start_time": "2023-08-31T12:32:06.953Z"
   },
   {
    "duration": 23,
    "start_time": "2023-08-31T12:32:58.372Z"
   },
   {
    "duration": 19,
    "start_time": "2023-08-31T12:32:59.384Z"
   },
   {
    "duration": 7,
    "start_time": "2023-08-31T12:33:00.668Z"
   },
   {
    "duration": 41,
    "start_time": "2023-08-31T12:33:02.059Z"
   },
   {
    "duration": 3,
    "start_time": "2023-08-31T12:33:03.241Z"
   },
   {
    "duration": 180,
    "start_time": "2023-08-31T12:33:03.558Z"
   },
   {
    "duration": 4,
    "start_time": "2023-08-31T12:33:40.760Z"
   },
   {
    "duration": 21,
    "start_time": "2023-08-31T12:33:41.595Z"
   },
   {
    "duration": 191,
    "start_time": "2023-08-31T12:34:21.647Z"
   },
   {
    "duration": 5,
    "start_time": "2023-08-31T12:35:03.640Z"
   },
   {
    "duration": 6,
    "start_time": "2023-08-31T12:35:17.104Z"
   },
   {
    "duration": 835,
    "start_time": "2023-08-31T12:35:18.224Z"
   },
   {
    "duration": 19,
    "start_time": "2023-08-31T12:35:24.320Z"
   },
   {
    "duration": 3,
    "start_time": "2023-08-31T12:36:02.048Z"
   },
   {
    "duration": 420,
    "start_time": "2023-08-31T12:36:02.800Z"
   },
   {
    "duration": 1850,
    "start_time": "2023-08-31T12:38:34.419Z"
   },
   {
    "duration": 1166,
    "start_time": "2023-08-31T12:38:37.151Z"
   },
   {
    "duration": 35,
    "start_time": "2023-08-31T12:38:39.148Z"
   },
   {
    "duration": 85,
    "start_time": "2023-08-31T12:38:39.946Z"
   },
   {
    "duration": 7,
    "start_time": "2023-08-31T12:38:40.561Z"
   },
   {
    "duration": 7,
    "start_time": "2023-08-31T12:38:41.232Z"
   },
   {
    "duration": 8804,
    "start_time": "2023-08-31T12:38:41.823Z"
   },
   {
    "duration": 159,
    "start_time": "2023-08-31T12:38:59.891Z"
   },
   {
    "duration": 13,
    "start_time": "2023-08-31T12:39:27.384Z"
   },
   {
    "duration": 5,
    "start_time": "2023-08-31T12:39:44.041Z"
   },
   {
    "duration": 998,
    "start_time": "2023-08-31T12:39:45.331Z"
   },
   {
    "duration": 34,
    "start_time": "2023-08-31T12:39:46.333Z"
   },
   {
    "duration": 95,
    "start_time": "2023-08-31T12:39:46.368Z"
   },
   {
    "duration": 18,
    "start_time": "2023-08-31T12:39:46.466Z"
   },
   {
    "duration": 11,
    "start_time": "2023-08-31T12:39:46.665Z"
   },
   {
    "duration": 7264,
    "start_time": "2023-08-31T12:39:47.206Z"
   },
   {
    "duration": 11,
    "start_time": "2023-08-31T12:39:54.472Z"
   },
   {
    "duration": 20,
    "start_time": "2023-08-31T12:40:31.276Z"
   },
   {
    "duration": 15962,
    "start_time": "2023-08-31T12:40:35.041Z"
   },
   {
    "duration": 1839,
    "start_time": "2023-08-31T12:41:08.031Z"
   },
   {
    "duration": 1315,
    "start_time": "2023-08-31T12:41:10.930Z"
   },
   {
    "duration": 35,
    "start_time": "2023-08-31T12:41:12.856Z"
   },
   {
    "duration": 105,
    "start_time": "2023-08-31T12:41:13.626Z"
   },
   {
    "duration": 9,
    "start_time": "2023-08-31T12:41:14.187Z"
   },
   {
    "duration": 13,
    "start_time": "2023-08-31T12:41:15.583Z"
   },
   {
    "duration": 8793,
    "start_time": "2023-08-31T12:41:17.150Z"
   },
   {
    "duration": 4,
    "start_time": "2023-08-31T12:41:26.770Z"
   },
   {
    "duration": 15698,
    "start_time": "2023-08-31T12:41:27.868Z"
   },
   {
    "duration": 186,
    "start_time": "2023-08-31T12:42:14.686Z"
   },
   {
    "duration": 8,
    "start_time": "2023-08-31T12:42:46.699Z"
   },
   {
    "duration": 30,
    "start_time": "2023-08-31T12:42:53.190Z"
   },
   {
    "duration": 2199,
    "start_time": "2023-08-31T12:43:06.669Z"
   },
   {
    "duration": 1206,
    "start_time": "2023-08-31T12:43:10.454Z"
   },
   {
    "duration": 58,
    "start_time": "2023-08-31T12:43:11.662Z"
   },
   {
    "duration": 118,
    "start_time": "2023-08-31T12:43:12.391Z"
   },
   {
    "duration": 7,
    "start_time": "2023-08-31T12:43:13.266Z"
   },
   {
    "duration": 25,
    "start_time": "2023-08-31T12:43:14.519Z"
   },
   {
    "duration": 10139,
    "start_time": "2023-08-31T12:43:15.255Z"
   },
   {
    "duration": 5,
    "start_time": "2023-08-31T12:43:40.970Z"
   },
   {
    "duration": 17419,
    "start_time": "2023-08-31T12:43:41.824Z"
   },
   {
    "duration": 149,
    "start_time": "2023-08-31T13:06:40.178Z"
   },
   {
    "duration": 20,
    "start_time": "2023-08-31T13:07:20.092Z"
   },
   {
    "duration": 1747,
    "start_time": "2023-08-31T13:07:54.725Z"
   },
   {
    "duration": 1082,
    "start_time": "2023-08-31T13:07:57.076Z"
   },
   {
    "duration": 35,
    "start_time": "2023-08-31T13:07:58.715Z"
   },
   {
    "duration": 85,
    "start_time": "2023-08-31T13:07:59.388Z"
   },
   {
    "duration": 9,
    "start_time": "2023-08-31T13:07:59.942Z"
   },
   {
    "duration": 8,
    "start_time": "2023-08-31T13:08:00.469Z"
   },
   {
    "duration": 8279,
    "start_time": "2023-08-31T13:08:01.217Z"
   },
   {
    "duration": 11,
    "start_time": "2023-08-31T13:08:09.501Z"
   },
   {
    "duration": 14588,
    "start_time": "2023-08-31T13:08:16.336Z"
   },
   {
    "duration": 142,
    "start_time": "2023-08-31T13:08:33.539Z"
   },
   {
    "duration": 17,
    "start_time": "2023-08-31T13:08:34.717Z"
   },
   {
    "duration": 12,
    "start_time": "2023-08-31T13:08:35.730Z"
   },
   {
    "duration": 13,
    "start_time": "2023-08-31T13:08:37.101Z"
   },
   {
    "duration": 18,
    "start_time": "2023-08-31T13:08:38.615Z"
   },
   {
    "duration": 1808,
    "start_time": "2023-08-31T13:23:57.645Z"
   },
   {
    "duration": 1185,
    "start_time": "2023-08-31T13:24:00.265Z"
   },
   {
    "duration": 39,
    "start_time": "2023-08-31T13:24:02.523Z"
   },
   {
    "duration": 95,
    "start_time": "2023-08-31T13:24:03.638Z"
   },
   {
    "duration": 14,
    "start_time": "2023-08-31T13:24:05.200Z"
   },
   {
    "duration": 13,
    "start_time": "2023-08-31T13:24:05.819Z"
   },
   {
    "duration": 15,
    "start_time": "2023-08-31T13:24:07.070Z"
   },
   {
    "duration": 8533,
    "start_time": "2023-08-31T13:24:08.930Z"
   },
   {
    "duration": 4,
    "start_time": "2023-08-31T13:24:58.328Z"
   },
   {
    "duration": 15305,
    "start_time": "2023-08-31T13:24:58.925Z"
   },
   {
    "duration": 153,
    "start_time": "2023-08-31T13:25:19.459Z"
   },
   {
    "duration": 12,
    "start_time": "2023-08-31T13:25:40.852Z"
   },
   {
    "duration": 1939,
    "start_time": "2023-08-31T13:25:50.652Z"
   },
   {
    "duration": 1241,
    "start_time": "2023-08-31T13:25:52.593Z"
   },
   {
    "duration": 35,
    "start_time": "2023-08-31T13:25:53.836Z"
   },
   {
    "duration": 97,
    "start_time": "2023-08-31T13:25:53.874Z"
   },
   {
    "duration": 8,
    "start_time": "2023-08-31T13:25:54.641Z"
   },
   {
    "duration": 9,
    "start_time": "2023-08-31T13:25:55.537Z"
   },
   {
    "duration": 15,
    "start_time": "2023-08-31T13:25:56.928Z"
   },
   {
    "duration": 9,
    "start_time": "2023-08-31T13:25:57.525Z"
   },
   {
    "duration": 8705,
    "start_time": "2023-08-31T13:27:18.458Z"
   },
   {
    "duration": 4,
    "start_time": "2023-08-31T13:27:28.093Z"
   },
   {
    "duration": 33,
    "start_time": "2023-08-31T13:27:35.231Z"
   },
   {
    "duration": 18,
    "start_time": "2023-08-31T13:27:36.245Z"
   },
   {
    "duration": 20,
    "start_time": "2023-08-31T13:27:37.350Z"
   },
   {
    "duration": 6,
    "start_time": "2023-08-31T13:27:38.849Z"
   },
   {
    "duration": 52,
    "start_time": "2023-08-31T13:28:15.987Z"
   },
   {
    "duration": 3,
    "start_time": "2023-08-31T13:28:21.079Z"
   },
   {
    "duration": 473,
    "start_time": "2023-08-31T13:28:26.687Z"
   },
   {
    "duration": 4,
    "start_time": "2023-08-31T13:28:50.766Z"
   },
   {
    "duration": 11,
    "start_time": "2023-08-31T13:29:20.080Z"
   },
   {
    "duration": 5,
    "start_time": "2023-08-31T13:29:21.220Z"
   },
   {
    "duration": 5,
    "start_time": "2023-08-31T13:29:30.727Z"
   },
   {
    "duration": 140,
    "start_time": "2023-08-31T13:32:13.035Z"
   },
   {
    "duration": 5,
    "start_time": "2023-08-31T13:32:25.524Z"
   },
   {
    "duration": 1949,
    "start_time": "2023-08-31T13:32:36.114Z"
   },
   {
    "duration": 1176,
    "start_time": "2023-08-31T13:32:39.581Z"
   },
   {
    "duration": 43,
    "start_time": "2023-08-31T13:32:40.760Z"
   },
   {
    "duration": 92,
    "start_time": "2023-08-31T13:32:41.458Z"
   },
   {
    "duration": 6,
    "start_time": "2023-08-31T13:32:42.041Z"
   },
   {
    "duration": 9,
    "start_time": "2023-08-31T13:32:42.724Z"
   },
   {
    "duration": 14,
    "start_time": "2023-08-31T13:32:43.461Z"
   },
   {
    "duration": 11,
    "start_time": "2023-08-31T13:32:44.768Z"
   },
   {
    "duration": 8687,
    "start_time": "2023-08-31T13:32:46.241Z"
   },
   {
    "duration": 6,
    "start_time": "2023-08-31T13:32:54.932Z"
   },
   {
    "duration": 41,
    "start_time": "2023-08-31T13:33:07.384Z"
   },
   {
    "duration": 18,
    "start_time": "2023-08-31T13:33:08.141Z"
   },
   {
    "duration": 21,
    "start_time": "2023-08-31T13:33:09.004Z"
   },
   {
    "duration": 6,
    "start_time": "2023-08-31T13:33:09.858Z"
   },
   {
    "duration": 63,
    "start_time": "2023-08-31T13:33:13.195Z"
   },
   {
    "duration": 4,
    "start_time": "2023-08-31T13:33:15.394Z"
   },
   {
    "duration": 3,
    "start_time": "2023-08-31T13:33:16.072Z"
   },
   {
    "duration": 469,
    "start_time": "2023-08-31T13:33:16.894Z"
   },
   {
    "duration": 2259,
    "start_time": "2023-08-31T13:35:29.011Z"
   },
   {
    "duration": 1146,
    "start_time": "2023-08-31T13:35:31.276Z"
   },
   {
    "duration": 34,
    "start_time": "2023-08-31T13:35:33.042Z"
   },
   {
    "duration": 90,
    "start_time": "2023-08-31T13:35:33.926Z"
   },
   {
    "duration": 8,
    "start_time": "2023-08-31T13:35:34.579Z"
   },
   {
    "duration": 9,
    "start_time": "2023-08-31T13:35:35.196Z"
   },
   {
    "duration": 15,
    "start_time": "2023-08-31T13:35:36.342Z"
   },
   {
    "duration": 10,
    "start_time": "2023-08-31T13:35:37.075Z"
   },
   {
    "duration": 8518,
    "start_time": "2023-08-31T13:35:37.825Z"
   },
   {
    "duration": 4,
    "start_time": "2023-08-31T13:35:46.345Z"
   },
   {
    "duration": 45,
    "start_time": "2023-08-31T13:35:47.682Z"
   },
   {
    "duration": 28,
    "start_time": "2023-08-31T13:35:48.384Z"
   },
   {
    "duration": 20,
    "start_time": "2023-08-31T13:35:49.119Z"
   },
   {
    "duration": 7,
    "start_time": "2023-08-31T13:35:49.683Z"
   },
   {
    "duration": 56,
    "start_time": "2023-08-31T13:35:51.394Z"
   },
   {
    "duration": 5,
    "start_time": "2023-08-31T13:35:52.945Z"
   },
   {
    "duration": 3,
    "start_time": "2023-08-31T13:35:53.664Z"
   },
   {
    "duration": 469,
    "start_time": "2023-08-31T13:35:54.289Z"
   },
   {
    "duration": 2179,
    "start_time": "2023-08-31T13:36:55.673Z"
   },
   {
    "duration": 3608,
    "start_time": "2023-08-31T13:37:32.050Z"
   },
   {
    "duration": 4419,
    "start_time": "2023-08-31T13:37:49.834Z"
   },
   {
    "duration": 1952,
    "start_time": "2023-08-31T13:38:10.180Z"
   },
   {
    "duration": 1142,
    "start_time": "2023-08-31T13:38:13.147Z"
   },
   {
    "duration": 52,
    "start_time": "2023-08-31T13:38:14.291Z"
   },
   {
    "duration": 85,
    "start_time": "2023-08-31T13:38:15.087Z"
   },
   {
    "duration": 6,
    "start_time": "2023-08-31T13:38:15.924Z"
   },
   {
    "duration": 14,
    "start_time": "2023-08-31T13:38:16.495Z"
   },
   {
    "duration": 14,
    "start_time": "2023-08-31T13:38:17.064Z"
   },
   {
    "duration": 10,
    "start_time": "2023-08-31T13:38:18.027Z"
   },
   {
    "duration": 8437,
    "start_time": "2023-08-31T13:38:18.736Z"
   },
   {
    "duration": 4,
    "start_time": "2023-08-31T13:38:27.175Z"
   },
   {
    "duration": 32,
    "start_time": "2023-08-31T13:38:54.426Z"
   },
   {
    "duration": 50,
    "start_time": "2023-08-31T13:38:55.199Z"
   },
   {
    "duration": 12,
    "start_time": "2023-08-31T13:38:55.768Z"
   },
   {
    "duration": 7,
    "start_time": "2023-08-31T13:38:56.350Z"
   },
   {
    "duration": 50,
    "start_time": "2023-08-31T13:38:58.521Z"
   },
   {
    "duration": 4,
    "start_time": "2023-08-31T13:38:59.841Z"
   },
   {
    "duration": 1047,
    "start_time": "2023-08-31T13:39:00.458Z"
   },
   {
    "duration": 5,
    "start_time": "2023-08-31T13:46:45.116Z"
   },
   {
    "duration": 1927,
    "start_time": "2023-08-31T13:46:45.920Z"
   },
   {
    "duration": 1797,
    "start_time": "2023-09-01T12:56:55.638Z"
   },
   {
    "duration": 3539,
    "start_time": "2023-09-01T12:56:57.538Z"
   },
   {
    "duration": 37,
    "start_time": "2023-09-01T12:57:01.080Z"
   },
   {
    "duration": 85,
    "start_time": "2023-09-01T12:57:02.365Z"
   },
   {
    "duration": 7,
    "start_time": "2023-09-01T12:57:03.766Z"
   },
   {
    "duration": 9,
    "start_time": "2023-09-01T12:57:05.194Z"
   },
   {
    "duration": 20,
    "start_time": "2023-09-01T12:57:07.658Z"
   },
   {
    "duration": 11,
    "start_time": "2023-09-01T12:57:10.494Z"
   },
   {
    "duration": 6643,
    "start_time": "2023-09-01T12:57:13.360Z"
   },
   {
    "duration": 5,
    "start_time": "2023-09-01T12:57:22.758Z"
   },
   {
    "duration": 35,
    "start_time": "2023-09-01T12:58:08.732Z"
   },
   {
    "duration": 19,
    "start_time": "2023-09-01T12:58:09.674Z"
   },
   {
    "duration": 12,
    "start_time": "2023-09-01T12:58:10.391Z"
   },
   {
    "duration": 6,
    "start_time": "2023-09-01T12:58:10.878Z"
   },
   {
    "duration": 47,
    "start_time": "2023-09-01T12:58:23.570Z"
   },
   {
    "duration": 5,
    "start_time": "2023-09-01T12:58:29.434Z"
   },
   {
    "duration": 942,
    "start_time": "2023-09-01T12:58:30.892Z"
   },
   {
    "duration": 1602,
    "start_time": "2023-09-01T12:59:53.584Z"
   },
   {
    "duration": 956,
    "start_time": "2023-09-01T12:59:55.188Z"
   },
   {
    "duration": 36,
    "start_time": "2023-09-01T12:59:56.145Z"
   },
   {
    "duration": 89,
    "start_time": "2023-09-01T12:59:56.183Z"
   },
   {
    "duration": 19,
    "start_time": "2023-09-01T12:59:56.273Z"
   },
   {
    "duration": 7,
    "start_time": "2023-09-01T12:59:56.448Z"
   },
   {
    "duration": 16,
    "start_time": "2023-09-01T12:59:57.286Z"
   },
   {
    "duration": 9,
    "start_time": "2023-09-01T12:59:57.912Z"
   },
   {
    "duration": 6604,
    "start_time": "2023-09-01T12:59:59.032Z"
   },
   {
    "duration": 4,
    "start_time": "2023-09-01T13:00:05.638Z"
   },
   {
    "duration": 51,
    "start_time": "2023-09-01T13:00:05.643Z"
   },
   {
    "duration": 1585,
    "start_time": "2023-09-01T13:18:50.123Z"
   },
   {
    "duration": 941,
    "start_time": "2023-09-01T13:18:52.568Z"
   },
   {
    "duration": 30,
    "start_time": "2023-09-01T13:18:53.511Z"
   },
   {
    "duration": 85,
    "start_time": "2023-09-01T13:18:54.664Z"
   },
   {
    "duration": 6,
    "start_time": "2023-09-01T13:18:55.247Z"
   },
   {
    "duration": 7,
    "start_time": "2023-09-01T13:18:56.072Z"
   },
   {
    "duration": 18,
    "start_time": "2023-09-01T13:18:58.793Z"
   },
   {
    "duration": 12,
    "start_time": "2023-09-01T13:19:01.233Z"
   },
   {
    "duration": 6681,
    "start_time": "2023-09-01T13:19:02.066Z"
   },
   {
    "duration": 4,
    "start_time": "2023-09-01T13:19:08.749Z"
   },
   {
    "duration": 18,
    "start_time": "2023-09-01T13:19:10.991Z"
   },
   {
    "duration": 20,
    "start_time": "2023-09-01T13:19:36.524Z"
   },
   {
    "duration": 2000,
    "start_time": "2023-09-01T13:22:02.633Z"
   },
   {
    "duration": 1553,
    "start_time": "2023-09-01T13:22:18.224Z"
   },
   {
    "duration": 923,
    "start_time": "2023-09-01T13:22:20.246Z"
   },
   {
    "duration": 36,
    "start_time": "2023-09-01T13:22:22.380Z"
   },
   {
    "duration": 78,
    "start_time": "2023-09-01T13:22:23.313Z"
   },
   {
    "duration": 7,
    "start_time": "2023-09-01T13:22:24.263Z"
   },
   {
    "duration": 7,
    "start_time": "2023-09-01T13:22:25.052Z"
   },
   {
    "duration": 15,
    "start_time": "2023-09-01T13:22:25.852Z"
   },
   {
    "duration": 9,
    "start_time": "2023-09-01T13:22:26.760Z"
   },
   {
    "duration": 6704,
    "start_time": "2023-09-01T13:22:27.621Z"
   },
   {
    "duration": 2025,
    "start_time": "2023-09-01T13:22:34.327Z"
   },
   {
    "duration": 1661,
    "start_time": "2023-09-01T13:23:19.788Z"
   },
   {
    "duration": 989,
    "start_time": "2023-09-01T13:23:21.451Z"
   },
   {
    "duration": 40,
    "start_time": "2023-09-01T13:23:22.442Z"
   },
   {
    "duration": 86,
    "start_time": "2023-09-01T13:23:23.393Z"
   },
   {
    "duration": 6,
    "start_time": "2023-09-01T13:23:24.299Z"
   },
   {
    "duration": 8,
    "start_time": "2023-09-01T13:23:25.131Z"
   },
   {
    "duration": 15,
    "start_time": "2023-09-01T13:23:26.275Z"
   },
   {
    "duration": 9,
    "start_time": "2023-09-01T13:23:27.756Z"
   },
   {
    "duration": 2009,
    "start_time": "2023-09-01T13:23:28.799Z"
   },
   {
    "duration": 35,
    "start_time": "2023-09-01T13:24:20.987Z"
   },
   {
    "duration": 8154,
    "start_time": "2023-09-01T13:31:30.296Z"
   },
   {
    "duration": 1987,
    "start_time": "2023-09-01T13:32:01.052Z"
   },
   {
    "duration": 2030,
    "start_time": "2023-09-01T13:32:18.001Z"
   },
   {
    "duration": 1728,
    "start_time": "2023-09-01T13:32:35.439Z"
   },
   {
    "duration": 923,
    "start_time": "2023-09-01T13:32:40.244Z"
   },
   {
    "duration": 35,
    "start_time": "2023-09-01T13:32:42.474Z"
   },
   {
    "duration": 80,
    "start_time": "2023-09-01T13:32:43.490Z"
   },
   {
    "duration": 7,
    "start_time": "2023-09-01T13:32:44.481Z"
   },
   {
    "duration": 8,
    "start_time": "2023-09-01T13:32:45.634Z"
   },
   {
    "duration": 15,
    "start_time": "2023-09-01T13:32:46.988Z"
   },
   {
    "duration": 9,
    "start_time": "2023-09-01T13:32:48.036Z"
   },
   {
    "duration": 1886,
    "start_time": "2023-09-01T13:32:48.549Z"
   },
   {
    "duration": 7852,
    "start_time": "2023-09-01T13:32:50.437Z"
   },
   {
    "duration": 3,
    "start_time": "2023-09-01T13:32:58.291Z"
   },
   {
    "duration": 43,
    "start_time": "2023-09-01T13:35:29.426Z"
   },
   {
    "duration": 4,
    "start_time": "2023-09-01T13:35:30.010Z"
   },
   {
    "duration": 1997,
    "start_time": "2023-09-01T13:35:31.287Z"
   },
   {
    "duration": 1759,
    "start_time": "2023-09-01T13:36:35.562Z"
   },
   {
    "duration": 2403,
    "start_time": "2023-09-01T13:36:51.731Z"
   },
   {
    "duration": 1804,
    "start_time": "2023-09-01T13:39:17.614Z"
   },
   {
    "duration": 1797,
    "start_time": "2023-09-01T13:40:30.686Z"
   },
   {
    "duration": 1000,
    "start_time": "2023-09-01T13:40:32.485Z"
   },
   {
    "duration": 37,
    "start_time": "2023-09-01T13:40:33.488Z"
   },
   {
    "duration": 104,
    "start_time": "2023-09-01T13:40:34.330Z"
   },
   {
    "duration": 8,
    "start_time": "2023-09-01T13:40:35.048Z"
   },
   {
    "duration": 8,
    "start_time": "2023-09-01T13:40:35.979Z"
   },
   {
    "duration": 15,
    "start_time": "2023-09-01T13:40:37.302Z"
   },
   {
    "duration": 11,
    "start_time": "2023-09-01T13:40:42.723Z"
   },
   {
    "duration": 1981,
    "start_time": "2023-09-01T13:40:44.564Z"
   },
   {
    "duration": 8225,
    "start_time": "2023-09-01T13:41:04.784Z"
   },
   {
    "duration": 5,
    "start_time": "2023-09-01T13:41:33.836Z"
   },
   {
    "duration": 6,
    "start_time": "2023-09-01T13:42:09.825Z"
   },
   {
    "duration": 154,
    "start_time": "2023-09-01T13:43:24.888Z"
   },
   {
    "duration": 5,
    "start_time": "2023-09-01T13:43:32.166Z"
   },
   {
    "duration": 9886,
    "start_time": "2023-09-01T13:43:53.233Z"
   },
   {
    "duration": 3,
    "start_time": "2023-09-01T13:44:19.293Z"
   },
   {
    "duration": 1668,
    "start_time": "2023-09-01T13:47:45.023Z"
   },
   {
    "duration": 979,
    "start_time": "2023-09-01T13:47:46.693Z"
   },
   {
    "duration": 38,
    "start_time": "2023-09-01T13:47:47.674Z"
   },
   {
    "duration": 82,
    "start_time": "2023-09-01T13:47:48.178Z"
   },
   {
    "duration": 6,
    "start_time": "2023-09-01T13:47:51.005Z"
   },
   {
    "duration": 8,
    "start_time": "2023-09-01T13:47:52.796Z"
   },
   {
    "duration": 14,
    "start_time": "2023-09-01T13:47:53.804Z"
   },
   {
    "duration": 10,
    "start_time": "2023-09-01T13:47:54.682Z"
   },
   {
    "duration": 1879,
    "start_time": "2023-09-01T13:47:55.792Z"
   },
   {
    "duration": 7979,
    "start_time": "2023-09-01T13:47:57.673Z"
   },
   {
    "duration": 9,
    "start_time": "2023-09-01T13:48:16.744Z"
   },
   {
    "duration": 5,
    "start_time": "2023-09-01T13:48:27.898Z"
   },
   {
    "duration": 10023,
    "start_time": "2023-09-01T13:48:30.346Z"
   },
   {
    "duration": 3,
    "start_time": "2023-09-01T13:48:41.499Z"
   },
   {
    "duration": 46,
    "start_time": "2023-09-01T13:53:08.524Z"
   },
   {
    "duration": 4,
    "start_time": "2023-09-01T13:53:11.061Z"
   },
   {
    "duration": 1945,
    "start_time": "2023-09-01T13:53:16.774Z"
   },
   {
    "duration": 1397,
    "start_time": "2023-09-01T13:53:38.418Z"
   },
   {
    "duration": 27,
    "start_time": "2023-09-01T13:55:11.526Z"
   },
   {
    "duration": 24,
    "start_time": "2023-09-01T13:55:28.085Z"
   },
   {
    "duration": 39,
    "start_time": "2023-09-01T13:55:40.124Z"
   },
   {
    "duration": 849,
    "start_time": "2023-09-01T13:59:00.546Z"
   },
   {
    "duration": 23,
    "start_time": "2023-09-01T14:05:25.500Z"
   },
   {
    "duration": 13,
    "start_time": "2023-09-01T14:12:58.453Z"
   },
   {
    "duration": 1669,
    "start_time": "2023-09-01T14:13:37.594Z"
   },
   {
    "duration": 988,
    "start_time": "2023-09-01T14:13:39.265Z"
   },
   {
    "duration": 37,
    "start_time": "2023-09-01T14:13:40.254Z"
   },
   {
    "duration": 101,
    "start_time": "2023-09-01T14:13:40.293Z"
   },
   {
    "duration": 1651,
    "start_time": "2023-09-01T14:15:31.185Z"
   },
   {
    "duration": 968,
    "start_time": "2023-09-01T14:15:36.433Z"
   },
   {
    "duration": 40,
    "start_time": "2023-09-01T14:15:39.682Z"
   },
   {
    "duration": 93,
    "start_time": "2023-09-01T14:15:40.586Z"
   },
   {
    "duration": 9,
    "start_time": "2023-09-01T14:15:41.339Z"
   },
   {
    "duration": 9,
    "start_time": "2023-09-01T14:15:42.745Z"
   },
   {
    "duration": 16,
    "start_time": "2023-09-01T14:15:43.589Z"
   },
   {
    "duration": 10,
    "start_time": "2023-09-01T14:15:44.563Z"
   },
   {
    "duration": 1970,
    "start_time": "2023-09-01T14:15:45.441Z"
   },
   {
    "duration": 8135,
    "start_time": "2023-09-01T14:15:47.413Z"
   },
   {
    "duration": 8,
    "start_time": "2023-09-01T14:15:55.550Z"
   },
   {
    "duration": 3,
    "start_time": "2023-09-01T14:15:57.237Z"
   },
   {
    "duration": 10469,
    "start_time": "2023-09-01T14:15:58.094Z"
   },
   {
    "duration": 20809,
    "start_time": "2023-09-01T14:16:26.526Z"
   },
   {
    "duration": 13,
    "start_time": "2023-09-01T14:17:19.487Z"
   },
   {
    "duration": 9655,
    "start_time": "2023-09-01T14:18:13.755Z"
   },
   {
    "duration": 4,
    "start_time": "2023-09-01T14:18:27.048Z"
   },
   {
    "duration": 42,
    "start_time": "2023-09-01T14:19:39.662Z"
   },
   {
    "duration": 4,
    "start_time": "2023-09-01T14:19:40.219Z"
   },
   {
    "duration": 30,
    "start_time": "2023-09-01T14:19:41.883Z"
   },
   {
    "duration": 12,
    "start_time": "2023-09-01T14:22:58.280Z"
   },
   {
    "duration": 19,
    "start_time": "2023-09-01T14:22:59.132Z"
   },
   {
    "duration": 1987,
    "start_time": "2023-09-01T14:23:17.453Z"
   },
   {
    "duration": 3,
    "start_time": "2023-09-01T14:23:35.532Z"
   },
   {
    "duration": 22,
    "start_time": "2023-09-01T14:23:38.148Z"
   },
   {
    "duration": 18,
    "start_time": "2023-09-01T14:24:00.660Z"
   },
   {
    "duration": 1644,
    "start_time": "2023-09-01T14:34:19.813Z"
   },
   {
    "duration": 976,
    "start_time": "2023-09-01T14:34:21.459Z"
   },
   {
    "duration": 38,
    "start_time": "2023-09-01T14:34:23.543Z"
   },
   {
    "duration": 96,
    "start_time": "2023-09-01T14:34:24.394Z"
   },
   {
    "duration": 7,
    "start_time": "2023-09-01T14:34:25.343Z"
   },
   {
    "duration": 9,
    "start_time": "2023-09-01T14:34:26.085Z"
   },
   {
    "duration": 17,
    "start_time": "2023-09-01T14:34:26.985Z"
   },
   {
    "duration": 10,
    "start_time": "2023-09-01T14:34:28.499Z"
   },
   {
    "duration": 2042,
    "start_time": "2023-09-01T14:34:29.368Z"
   },
   {
    "duration": 8727,
    "start_time": "2023-09-01T14:34:31.412Z"
   },
   {
    "duration": 8,
    "start_time": "2023-09-01T14:34:40.141Z"
   },
   {
    "duration": 4,
    "start_time": "2023-09-01T14:34:42.588Z"
   },
   {
    "duration": 20732,
    "start_time": "2023-09-01T14:34:43.592Z"
   },
   {
    "duration": 10378,
    "start_time": "2023-09-01T14:35:08.045Z"
   },
   {
    "duration": 4,
    "start_time": "2023-09-01T14:35:20.667Z"
   },
   {
    "duration": 6,
    "start_time": "2023-09-01T14:35:27.350Z"
   },
   {
    "duration": 47,
    "start_time": "2023-09-01T14:35:43.755Z"
   },
   {
    "duration": 6,
    "start_time": "2023-09-01T14:35:45.578Z"
   },
   {
    "duration": 5,
    "start_time": "2023-09-01T14:35:55.071Z"
   },
   {
    "duration": 1814,
    "start_time": "2023-09-01T14:36:37.438Z"
   },
   {
    "duration": 1007,
    "start_time": "2023-09-01T14:36:39.694Z"
   },
   {
    "duration": 44,
    "start_time": "2023-09-01T14:36:41.566Z"
   },
   {
    "duration": 96,
    "start_time": "2023-09-01T14:36:42.414Z"
   },
   {
    "duration": 6,
    "start_time": "2023-09-01T14:36:43.361Z"
   },
   {
    "duration": 9,
    "start_time": "2023-09-01T14:36:44.720Z"
   },
   {
    "duration": 17,
    "start_time": "2023-09-01T14:36:45.571Z"
   },
   {
    "duration": 10,
    "start_time": "2023-09-01T14:36:46.418Z"
   },
   {
    "duration": 1980,
    "start_time": "2023-09-01T14:36:47.188Z"
   },
   {
    "duration": 8240,
    "start_time": "2023-09-01T14:36:50.080Z"
   },
   {
    "duration": 7,
    "start_time": "2023-09-01T14:36:58.322Z"
   },
   {
    "duration": 4,
    "start_time": "2023-09-01T14:36:59.656Z"
   },
   {
    "duration": 20497,
    "start_time": "2023-09-01T14:37:00.835Z"
   },
   {
    "duration": 10106,
    "start_time": "2023-09-01T14:37:22.932Z"
   },
   {
    "duration": 4,
    "start_time": "2023-09-01T14:37:33.040Z"
   },
   {
    "duration": 62,
    "start_time": "2023-09-01T14:37:41.033Z"
   },
   {
    "duration": 4,
    "start_time": "2023-09-01T14:37:42.551Z"
   },
   {
    "duration": 5,
    "start_time": "2023-09-01T14:37:43.625Z"
   },
   {
    "duration": 4,
    "start_time": "2023-09-01T14:37:47.559Z"
   },
   {
    "duration": 3,
    "start_time": "2023-09-01T14:37:49.203Z"
   },
   {
    "duration": 128,
    "start_time": "2023-09-01T14:37:54.628Z"
   },
   {
    "duration": 1578,
    "start_time": "2023-09-01T14:40:34.259Z"
   },
   {
    "duration": 12,
    "start_time": "2023-09-01T14:41:32.042Z"
   },
   {
    "duration": 2995,
    "start_time": "2023-09-01T14:43:32.446Z"
   },
   {
    "duration": 1590,
    "start_time": "2023-09-01T14:43:48.391Z"
   },
   {
    "duration": 957,
    "start_time": "2023-09-01T14:43:49.983Z"
   },
   {
    "duration": 44,
    "start_time": "2023-09-01T14:43:50.943Z"
   },
   {
    "duration": 85,
    "start_time": "2023-09-01T14:43:51.949Z"
   },
   {
    "duration": 7,
    "start_time": "2023-09-01T14:43:52.893Z"
   },
   {
    "duration": 8,
    "start_time": "2023-09-01T14:43:53.677Z"
   },
   {
    "duration": 15,
    "start_time": "2023-09-01T14:43:54.682Z"
   },
   {
    "duration": 12,
    "start_time": "2023-09-01T14:43:55.890Z"
   },
   {
    "duration": 1931,
    "start_time": "2023-09-01T14:43:56.728Z"
   },
   {
    "duration": 8120,
    "start_time": "2023-09-01T14:43:58.667Z"
   },
   {
    "duration": 10,
    "start_time": "2023-09-01T14:44:06.790Z"
   },
   {
    "duration": 4,
    "start_time": "2023-09-01T14:44:10.483Z"
   },
   {
    "duration": 20841,
    "start_time": "2023-09-01T14:44:13.662Z"
   },
   {
    "duration": 10051,
    "start_time": "2023-09-01T14:44:36.134Z"
   },
   {
    "duration": 7,
    "start_time": "2023-09-01T14:44:49.766Z"
   },
   {
    "duration": 53,
    "start_time": "2023-09-01T14:44:52.757Z"
   },
   {
    "duration": 3,
    "start_time": "2023-09-01T14:44:55.331Z"
   },
   {
    "duration": 5,
    "start_time": "2023-09-01T14:44:56.730Z"
   },
   {
    "duration": 4,
    "start_time": "2023-09-01T14:45:04.594Z"
   },
   {
    "duration": 3,
    "start_time": "2023-09-01T14:45:13.682Z"
   },
   {
    "duration": 5,
    "start_time": "2023-09-01T14:45:14.826Z"
   },
   {
    "duration": 5,
    "start_time": "2023-09-01T14:45:24.905Z"
   },
   {
    "duration": 3,
    "start_time": "2023-09-01T14:45:41.297Z"
   },
   {
    "duration": 4,
    "start_time": "2023-09-01T14:45:42.239Z"
   },
   {
    "duration": 3065,
    "start_time": "2023-09-01T14:45:43.210Z"
   },
   {
    "duration": 1657,
    "start_time": "2023-09-01T14:49:08.988Z"
   },
   {
    "duration": 3525,
    "start_time": "2023-09-01T14:49:10.647Z"
   },
   {
    "duration": 37,
    "start_time": "2023-09-01T14:49:14.174Z"
   },
   {
    "duration": 88,
    "start_time": "2023-09-01T14:49:15.344Z"
   },
   {
    "duration": 7,
    "start_time": "2023-09-01T14:49:16.034Z"
   },
   {
    "duration": 8,
    "start_time": "2023-09-01T14:49:16.810Z"
   },
   {
    "duration": 16,
    "start_time": "2023-09-01T14:49:17.576Z"
   },
   {
    "duration": 9,
    "start_time": "2023-09-01T14:49:18.349Z"
   },
   {
    "duration": 1909,
    "start_time": "2023-09-01T14:49:19.193Z"
   },
   {
    "duration": 7821,
    "start_time": "2023-09-01T14:49:21.104Z"
   },
   {
    "duration": 8,
    "start_time": "2023-09-01T14:49:28.927Z"
   },
   {
    "duration": 5,
    "start_time": "2023-09-01T14:49:30.009Z"
   },
   {
    "duration": 19559,
    "start_time": "2023-09-01T14:49:30.901Z"
   },
   {
    "duration": 9523,
    "start_time": "2023-09-01T14:49:50.467Z"
   },
   {
    "duration": 3,
    "start_time": "2023-09-01T14:49:59.992Z"
   },
   {
    "duration": 38,
    "start_time": "2023-09-01T14:50:03.414Z"
   },
   {
    "duration": 4,
    "start_time": "2023-09-01T14:50:05.012Z"
   },
   {
    "duration": 4,
    "start_time": "2023-09-01T14:50:05.938Z"
   },
   {
    "duration": 3,
    "start_time": "2023-09-01T14:50:06.614Z"
   },
   {
    "duration": 2989,
    "start_time": "2023-09-01T14:50:08.243Z"
   },
   {
    "duration": 46,
    "start_time": "2023-09-01T14:50:28.543Z"
   },
   {
    "duration": 1641,
    "start_time": "2023-09-01T14:50:54.742Z"
   },
   {
    "duration": 3540,
    "start_time": "2023-09-01T14:51:00.609Z"
   },
   {
    "duration": 30,
    "start_time": "2023-09-01T14:51:04.151Z"
   },
   {
    "duration": 1694,
    "start_time": "2023-09-01T14:51:10.146Z"
   },
   {
    "duration": 969,
    "start_time": "2023-09-01T14:51:11.843Z"
   },
   {
    "duration": 40,
    "start_time": "2023-09-01T14:51:12.814Z"
   },
   {
    "duration": 85,
    "start_time": "2023-09-01T14:51:12.867Z"
   },
   {
    "duration": 14,
    "start_time": "2023-09-01T14:51:12.953Z"
   },
   {
    "duration": 10,
    "start_time": "2023-09-01T14:51:12.969Z"
   },
   {
    "duration": 24,
    "start_time": "2023-09-01T14:51:12.981Z"
   },
   {
    "duration": 9,
    "start_time": "2023-09-01T14:51:13.006Z"
   },
   {
    "duration": 1941,
    "start_time": "2023-09-01T14:51:13.016Z"
   },
   {
    "duration": 7828,
    "start_time": "2023-09-01T14:51:14.959Z"
   },
   {
    "duration": 8,
    "start_time": "2023-09-01T14:51:22.789Z"
   },
   {
    "duration": 19,
    "start_time": "2023-09-01T14:51:22.799Z"
   },
   {
    "duration": 19343,
    "start_time": "2023-09-01T14:51:22.820Z"
   },
   {
    "duration": 9853,
    "start_time": "2023-09-01T14:51:42.168Z"
   },
   {
    "duration": 4,
    "start_time": "2023-09-01T14:51:52.023Z"
   },
   {
    "duration": 251,
    "start_time": "2023-09-01T14:51:52.029Z"
   },
   {
    "duration": 4,
    "start_time": "2023-09-01T14:51:55.389Z"
   },
   {
    "duration": 3,
    "start_time": "2023-09-01T14:51:56.378Z"
   },
   {
    "duration": 4,
    "start_time": "2023-09-01T14:51:57.618Z"
   },
   {
    "duration": 2935,
    "start_time": "2023-09-01T14:52:00.081Z"
   },
   {
    "duration": 61,
    "start_time": "2023-09-01T14:52:52.297Z"
   },
   {
    "duration": 7,
    "start_time": "2023-09-01T14:52:56.559Z"
   },
   {
    "duration": 1574,
    "start_time": "2023-09-01T14:53:06.098Z"
   },
   {
    "duration": 3538,
    "start_time": "2023-09-01T14:53:07.674Z"
   },
   {
    "duration": 40,
    "start_time": "2023-09-01T14:53:11.214Z"
   },
   {
    "duration": 93,
    "start_time": "2023-09-01T14:53:11.256Z"
   },
   {
    "duration": 12,
    "start_time": "2023-09-01T14:53:11.350Z"
   },
   {
    "duration": 8,
    "start_time": "2023-09-01T14:53:11.367Z"
   },
   {
    "duration": 22,
    "start_time": "2023-09-01T14:53:11.377Z"
   },
   {
    "duration": 15,
    "start_time": "2023-09-01T14:53:11.401Z"
   },
   {
    "duration": 1991,
    "start_time": "2023-09-01T14:53:12.576Z"
   },
   {
    "duration": 7650,
    "start_time": "2023-09-01T14:53:14.569Z"
   },
   {
    "duration": 9,
    "start_time": "2023-09-01T14:53:22.221Z"
   },
   {
    "duration": 9,
    "start_time": "2023-09-01T14:53:22.232Z"
   },
   {
    "duration": 19286,
    "start_time": "2023-09-01T14:53:22.243Z"
   },
   {
    "duration": 9858,
    "start_time": "2023-09-01T14:53:41.531Z"
   },
   {
    "duration": 3,
    "start_time": "2023-09-01T14:53:51.392Z"
   },
   {
    "duration": 40,
    "start_time": "2023-09-01T14:54:11.233Z"
   },
   {
    "duration": 5,
    "start_time": "2023-09-01T14:54:13.485Z"
   },
   {
    "duration": 3,
    "start_time": "2023-09-01T14:54:14.258Z"
   },
   {
    "duration": 4,
    "start_time": "2023-09-01T14:54:14.730Z"
   },
   {
    "duration": 2936,
    "start_time": "2023-09-01T14:54:15.274Z"
   },
   {
    "duration": 123,
    "start_time": "2023-09-01T14:54:18.212Z"
   },
   {
    "duration": 1646,
    "start_time": "2023-09-01T14:57:44.050Z"
   },
   {
    "duration": 965,
    "start_time": "2023-09-01T14:57:45.698Z"
   },
   {
    "duration": 38,
    "start_time": "2023-09-01T14:57:46.667Z"
   },
   {
    "duration": 96,
    "start_time": "2023-09-01T14:57:46.707Z"
   },
   {
    "duration": 8,
    "start_time": "2023-09-01T14:57:47.632Z"
   },
   {
    "duration": 9,
    "start_time": "2023-09-01T14:57:47.905Z"
   },
   {
    "duration": 20,
    "start_time": "2023-09-01T14:57:48.079Z"
   },
   {
    "duration": 11,
    "start_time": "2023-09-01T14:57:48.249Z"
   },
   {
    "duration": 1991,
    "start_time": "2023-09-01T14:57:48.399Z"
   },
   {
    "duration": 7682,
    "start_time": "2023-09-01T14:57:50.392Z"
   },
   {
    "duration": 7,
    "start_time": "2023-09-01T14:57:58.076Z"
   },
   {
    "duration": 8,
    "start_time": "2023-09-01T14:57:58.085Z"
   },
   {
    "duration": 19615,
    "start_time": "2023-09-01T14:57:58.094Z"
   },
   {
    "duration": 9598,
    "start_time": "2023-09-01T14:58:17.711Z"
   },
   {
    "duration": 3,
    "start_time": "2023-09-01T14:58:27.310Z"
   },
   {
    "duration": 53,
    "start_time": "2023-09-01T14:58:27.315Z"
   },
   {
    "duration": 4,
    "start_time": "2023-09-01T14:58:27.369Z"
   },
   {
    "duration": 3,
    "start_time": "2023-09-01T14:58:36.882Z"
   },
   {
    "duration": 3,
    "start_time": "2023-09-01T14:58:37.737Z"
   },
   {
    "duration": 2894,
    "start_time": "2023-09-01T14:58:39.400Z"
   },
   {
    "duration": 48,
    "start_time": "2023-09-01T15:01:09.025Z"
   },
   {
    "duration": 8,
    "start_time": "2023-09-01T15:01:11.747Z"
   },
   {
    "duration": 1612,
    "start_time": "2023-09-01T15:04:46.991Z"
   },
   {
    "duration": 3479,
    "start_time": "2023-09-01T15:04:48.605Z"
   },
   {
    "duration": 32,
    "start_time": "2023-09-01T15:04:52.086Z"
   },
   {
    "duration": 83,
    "start_time": "2023-09-01T15:04:52.120Z"
   },
   {
    "duration": 7,
    "start_time": "2023-09-01T15:04:52.944Z"
   },
   {
    "duration": 8,
    "start_time": "2023-09-01T15:04:53.443Z"
   },
   {
    "duration": 15,
    "start_time": "2023-09-01T15:04:54.131Z"
   },
   {
    "duration": 10,
    "start_time": "2023-09-01T15:04:54.676Z"
   },
   {
    "duration": 1963,
    "start_time": "2023-09-01T15:04:55.178Z"
   },
   {
    "duration": 7994,
    "start_time": "2023-09-01T15:04:57.144Z"
   },
   {
    "duration": 8,
    "start_time": "2023-09-01T15:05:05.966Z"
   },
   {
    "duration": 4,
    "start_time": "2023-09-01T15:05:06.797Z"
   },
   {
    "duration": 19618,
    "start_time": "2023-09-01T15:05:07.973Z"
   },
   {
    "duration": 9845,
    "start_time": "2023-09-01T15:05:27.593Z"
   },
   {
    "duration": 3,
    "start_time": "2023-09-01T15:05:37.440Z"
   },
   {
    "duration": 55,
    "start_time": "2023-09-01T15:05:37.446Z"
   },
   {
    "duration": 4,
    "start_time": "2023-09-01T15:05:37.503Z"
   },
   {
    "duration": 7,
    "start_time": "2023-09-01T15:05:37.508Z"
   },
   {
    "duration": 1606,
    "start_time": "2023-09-01T15:08:22.184Z"
   },
   {
    "duration": 988,
    "start_time": "2023-09-01T15:08:23.792Z"
   },
   {
    "duration": 35,
    "start_time": "2023-09-01T15:08:24.783Z"
   },
   {
    "duration": 96,
    "start_time": "2023-09-01T15:08:24.821Z"
   },
   {
    "duration": 19,
    "start_time": "2023-09-01T15:08:24.918Z"
   },
   {
    "duration": 8,
    "start_time": "2023-09-01T15:08:24.938Z"
   },
   {
    "duration": 23,
    "start_time": "2023-09-01T15:08:24.947Z"
   },
   {
    "duration": 8,
    "start_time": "2023-09-01T15:08:24.972Z"
   },
   {
    "duration": 1976,
    "start_time": "2023-09-01T15:08:24.982Z"
   },
   {
    "duration": 7656,
    "start_time": "2023-09-01T15:08:26.966Z"
   },
   {
    "duration": 8,
    "start_time": "2023-09-01T15:08:34.623Z"
   },
   {
    "duration": 19,
    "start_time": "2023-09-01T15:08:34.632Z"
   },
   {
    "duration": 19508,
    "start_time": "2023-09-01T15:08:34.653Z"
   },
   {
    "duration": 9489,
    "start_time": "2023-09-01T15:08:54.162Z"
   },
   {
    "duration": 3,
    "start_time": "2023-09-01T15:09:03.653Z"
   },
   {
    "duration": 54,
    "start_time": "2023-09-01T15:09:03.658Z"
   },
   {
    "duration": 4,
    "start_time": "2023-09-01T15:09:03.714Z"
   },
   {
    "duration": 5,
    "start_time": "2023-09-01T15:09:03.720Z"
   },
   {
    "duration": 49,
    "start_time": "2023-09-01T15:13:37.187Z"
   },
   {
    "duration": 7,
    "start_time": "2023-09-01T15:13:37.596Z"
   },
   {
    "duration": 1679,
    "start_time": "2023-09-01T15:13:42.960Z"
   },
   {
    "duration": 985,
    "start_time": "2023-09-01T15:13:44.641Z"
   },
   {
    "duration": 38,
    "start_time": "2023-09-01T15:13:46.569Z"
   },
   {
    "duration": 89,
    "start_time": "2023-09-01T15:13:47.438Z"
   },
   {
    "duration": 6,
    "start_time": "2023-09-01T15:13:47.913Z"
   },
   {
    "duration": 8,
    "start_time": "2023-09-01T15:13:48.629Z"
   },
   {
    "duration": 16,
    "start_time": "2023-09-01T15:13:49.073Z"
   },
   {
    "duration": 9,
    "start_time": "2023-09-01T15:13:49.630Z"
   },
   {
    "duration": 1986,
    "start_time": "2023-09-01T15:13:50.136Z"
   },
   {
    "duration": 8012,
    "start_time": "2023-09-01T15:13:52.124Z"
   },
   {
    "duration": 9,
    "start_time": "2023-09-01T15:14:01.235Z"
   },
   {
    "duration": 5,
    "start_time": "2023-09-01T15:14:02.256Z"
   },
   {
    "duration": 20845,
    "start_time": "2023-09-01T15:14:02.758Z"
   },
   {
    "duration": 9738,
    "start_time": "2023-09-01T15:14:23.605Z"
   },
   {
    "duration": 3,
    "start_time": "2023-09-01T15:14:48.972Z"
   },
   {
    "duration": 40,
    "start_time": "2023-09-01T15:14:50.557Z"
   },
   {
    "duration": 4,
    "start_time": "2023-09-01T15:14:51.470Z"
   },
   {
    "duration": 4,
    "start_time": "2023-09-01T15:14:52.248Z"
   },
   {
    "duration": 3,
    "start_time": "2023-09-01T15:14:52.761Z"
   },
   {
    "duration": 1615,
    "start_time": "2023-09-01T15:18:56.587Z"
   },
   {
    "duration": 951,
    "start_time": "2023-09-01T15:18:58.204Z"
   },
   {
    "duration": 37,
    "start_time": "2023-09-01T15:18:59.156Z"
   },
   {
    "duration": 96,
    "start_time": "2023-09-01T15:18:59.195Z"
   },
   {
    "duration": 20,
    "start_time": "2023-09-01T15:18:59.292Z"
   },
   {
    "duration": 7,
    "start_time": "2023-09-01T15:18:59.314Z"
   },
   {
    "duration": 32,
    "start_time": "2023-09-01T15:18:59.322Z"
   },
   {
    "duration": 23,
    "start_time": "2023-09-01T15:18:59.356Z"
   },
   {
    "duration": 2004,
    "start_time": "2023-09-01T15:18:59.381Z"
   },
   {
    "duration": 7706,
    "start_time": "2023-09-01T15:19:01.387Z"
   },
   {
    "duration": 6,
    "start_time": "2023-09-01T15:19:09.095Z"
   },
   {
    "duration": 7,
    "start_time": "2023-09-01T15:19:09.102Z"
   },
   {
    "duration": 19959,
    "start_time": "2023-09-01T15:19:09.111Z"
   },
   {
    "duration": 10095,
    "start_time": "2023-09-01T15:19:29.072Z"
   },
   {
    "duration": 10,
    "start_time": "2023-09-01T15:19:39.169Z"
   },
   {
    "duration": 42,
    "start_time": "2023-09-01T15:19:39.181Z"
   },
   {
    "duration": 4,
    "start_time": "2023-09-01T15:19:39.226Z"
   },
   {
    "duration": 7,
    "start_time": "2023-09-01T15:19:39.231Z"
   },
   {
    "duration": 11,
    "start_time": "2023-09-01T15:19:39.239Z"
   },
   {
    "duration": 146,
    "start_time": "2023-09-01T15:19:39.268Z"
   },
   {
    "duration": 0,
    "start_time": "2023-09-01T15:19:39.415Z"
   },
   {
    "duration": 680399,
    "start_time": "2023-09-01T15:20:02.271Z"
   },
   {
    "duration": 14,
    "start_time": "2023-09-01T15:34:02.880Z"
   },
   {
    "duration": 4,
    "start_time": "2023-09-01T15:34:44.426Z"
   },
   {
    "duration": 122,
    "start_time": "2023-09-01T15:34:53.252Z"
   },
   {
    "duration": 116,
    "start_time": "2023-09-01T15:35:19.494Z"
   },
   {
    "duration": 640,
    "start_time": "2023-09-01T15:35:37.607Z"
   },
   {
    "duration": 12,
    "start_time": "2023-09-01T15:35:46.149Z"
   },
   {
    "duration": 649,
    "start_time": "2023-09-01T15:36:04.963Z"
   },
   {
    "duration": 138,
    "start_time": "2023-09-01T15:38:07.569Z"
   },
   {
    "duration": 4,
    "start_time": "2023-09-01T15:39:02.296Z"
   },
   {
    "duration": 768312,
    "start_time": "2023-09-01T15:40:39.587Z"
   },
   {
    "duration": 12,
    "start_time": "2023-09-01T15:55:38.613Z"
   },
   {
    "duration": 111,
    "start_time": "2023-09-01T15:55:58.798Z"
   },
   {
    "duration": 675,
    "start_time": "2023-09-01T15:56:08.826Z"
   },
   {
    "duration": 686,
    "start_time": "2023-09-01T15:56:22.629Z"
   }
  ],
  "kernelspec": {
   "display_name": "Python 3 (ipykernel)",
   "language": "python",
   "name": "python3"
  },
  "language_info": {
   "codemirror_mode": {
    "name": "ipython",
    "version": 3
   },
   "file_extension": ".py",
   "mimetype": "text/x-python",
   "name": "python",
   "nbconvert_exporter": "python",
   "pygments_lexer": "ipython3",
   "version": "3.9.13"
  },
  "toc": {
   "base_numbering": 1,
   "nav_menu": {},
   "number_sections": true,
   "sideBar": true,
   "skip_h1_title": true,
   "title_cell": "Содержание",
   "title_sidebar": "Contents",
   "toc_cell": true,
   "toc_position": {
    "height": "calc(100% - 180px)",
    "left": "10px",
    "top": "150px",
    "width": "302.391px"
   },
   "toc_section_display": true,
   "toc_window_display": false
  }
 },
 "nbformat": 4,
 "nbformat_minor": 2
}
