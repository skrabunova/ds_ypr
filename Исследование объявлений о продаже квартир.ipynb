{
 "cells": [
  {
   "cell_type": "markdown",
   "metadata": {},
   "source": [
    "# Исследование объявлений о продаже квартир\n",
    "\n",
    "В вашем распоряжении данные сервиса Яндекс.Недвижимость — архив объявлений о продаже квартир в Санкт-Петербурге и соседних населённых пунктов за несколько лет. Нужно научиться определять рыночную стоимость объектов недвижимости. Ваша задача — установить параметры. Это позволит построить автоматизированную систему: она отследит аномалии и мошенническую деятельность. \n",
    "\n",
    "По каждой квартире на продажу доступны два вида данных. Первые вписаны пользователем, вторые — получены автоматически на основе картографических данных. Например, расстояние до центра, аэропорта, ближайшего парка и водоёма. "
   ]
  },
  {
   "cell_type": "markdown",
   "metadata": {},
   "source": [
    "### Откройте файл с данными и изучите общую информацию. "
   ]
  },
  {
   "cell_type": "code",
   "execution_count": 1,
   "metadata": {},
   "outputs": [],
   "source": [
    "import pandas as pd\n",
    "import plotly.express as px\n",
    "import datetime\n",
    "import seaborn as sns; sns.set()"
   ]
  },
  {
   "cell_type": "code",
   "execution_count": 2,
   "metadata": {},
   "outputs": [],
   "source": [
    "try:\n",
    "    data = pd.read_csv('https://code.s3.yandex.net/datasets/real_estate_data.csv', sep = \"\\t\")\n",
    "except:\n",
    "    data = pd.read_csv('C:/Users/Victoria/anaconda/envs/ds_practicum_env/real_estate_data.csv' , sep = \"\\t\")"
   ]
  },
  {
   "cell_type": "code",
   "execution_count": 3,
   "metadata": {},
   "outputs": [
    {
     "name": "stdout",
     "output_type": "stream",
     "text": [
      "<class 'pandas.core.frame.DataFrame'>\n",
      "RangeIndex: 23699 entries, 0 to 23698\n",
      "Data columns (total 22 columns):\n",
      " #   Column                Non-Null Count  Dtype  \n",
      "---  ------                --------------  -----  \n",
      " 0   total_images          23699 non-null  int64  \n",
      " 1   last_price            23699 non-null  float64\n",
      " 2   total_area            23699 non-null  float64\n",
      " 3   first_day_exposition  23699 non-null  object \n",
      " 4   rooms                 23699 non-null  int64  \n",
      " 5   ceiling_height        14504 non-null  float64\n",
      " 6   floors_total          23613 non-null  float64\n",
      " 7   living_area           21796 non-null  float64\n",
      " 8   floor                 23699 non-null  int64  \n",
      " 9   is_apartment          2775 non-null   object \n",
      " 10  studio                23699 non-null  bool   \n",
      " 11  open_plan             23699 non-null  bool   \n",
      " 12  kitchen_area          21421 non-null  float64\n",
      " 13  balcony               12180 non-null  float64\n",
      " 14  locality_name         23650 non-null  object \n",
      " 15  airports_nearest      18157 non-null  float64\n",
      " 16  cityCenters_nearest   18180 non-null  float64\n",
      " 17  parks_around3000      18181 non-null  float64\n",
      " 18  parks_nearest         8079 non-null   float64\n",
      " 19  ponds_around3000      18181 non-null  float64\n",
      " 20  ponds_nearest         9110 non-null   float64\n",
      " 21  days_exposition       20518 non-null  float64\n",
      "dtypes: bool(2), float64(14), int64(3), object(3)\n",
      "memory usage: 3.7+ MB\n"
     ]
    }
   ],
   "source": [
    "#Изучим общую информацию о датафрейме\n",
    "data.info()"
   ]
  },
  {
   "cell_type": "markdown",
   "metadata": {},
   "source": [
    "В данных много нулевых значений, а также некорректный тип данных. Постараемся устранить пропуски там, где это возможно."
   ]
  },
  {
   "cell_type": "code",
   "execution_count": 4,
   "metadata": {},
   "outputs": [
    {
     "data": {
      "text/html": [
       "<div>\n",
       "<style scoped>\n",
       "    .dataframe tbody tr th:only-of-type {\n",
       "        vertical-align: middle;\n",
       "    }\n",
       "\n",
       "    .dataframe tbody tr th {\n",
       "        vertical-align: top;\n",
       "    }\n",
       "\n",
       "    .dataframe thead th {\n",
       "        text-align: right;\n",
       "    }\n",
       "</style>\n",
       "<table border=\"1\" class=\"dataframe\">\n",
       "  <thead>\n",
       "    <tr style=\"text-align: right;\">\n",
       "      <th></th>\n",
       "      <th>total_images</th>\n",
       "      <th>last_price</th>\n",
       "      <th>total_area</th>\n",
       "      <th>first_day_exposition</th>\n",
       "      <th>rooms</th>\n",
       "      <th>ceiling_height</th>\n",
       "      <th>floors_total</th>\n",
       "      <th>living_area</th>\n",
       "      <th>floor</th>\n",
       "      <th>is_apartment</th>\n",
       "      <th>...</th>\n",
       "      <th>kitchen_area</th>\n",
       "      <th>balcony</th>\n",
       "      <th>locality_name</th>\n",
       "      <th>airports_nearest</th>\n",
       "      <th>cityCenters_nearest</th>\n",
       "      <th>parks_around3000</th>\n",
       "      <th>parks_nearest</th>\n",
       "      <th>ponds_around3000</th>\n",
       "      <th>ponds_nearest</th>\n",
       "      <th>days_exposition</th>\n",
       "    </tr>\n",
       "  </thead>\n",
       "  <tbody>\n",
       "    <tr>\n",
       "      <th>0</th>\n",
       "      <td>20</td>\n",
       "      <td>13000000.0</td>\n",
       "      <td>108.0</td>\n",
       "      <td>2019-03-07T00:00:00</td>\n",
       "      <td>3</td>\n",
       "      <td>2.70</td>\n",
       "      <td>16.0</td>\n",
       "      <td>51.0</td>\n",
       "      <td>8</td>\n",
       "      <td>NaN</td>\n",
       "      <td>...</td>\n",
       "      <td>25.0</td>\n",
       "      <td>NaN</td>\n",
       "      <td>Санкт-Петербург</td>\n",
       "      <td>18863.0</td>\n",
       "      <td>16028.0</td>\n",
       "      <td>1.0</td>\n",
       "      <td>482.0</td>\n",
       "      <td>2.0</td>\n",
       "      <td>755.0</td>\n",
       "      <td>NaN</td>\n",
       "    </tr>\n",
       "    <tr>\n",
       "      <th>1</th>\n",
       "      <td>7</td>\n",
       "      <td>3350000.0</td>\n",
       "      <td>40.4</td>\n",
       "      <td>2018-12-04T00:00:00</td>\n",
       "      <td>1</td>\n",
       "      <td>NaN</td>\n",
       "      <td>11.0</td>\n",
       "      <td>18.6</td>\n",
       "      <td>1</td>\n",
       "      <td>NaN</td>\n",
       "      <td>...</td>\n",
       "      <td>11.0</td>\n",
       "      <td>2.0</td>\n",
       "      <td>посёлок Шушары</td>\n",
       "      <td>12817.0</td>\n",
       "      <td>18603.0</td>\n",
       "      <td>0.0</td>\n",
       "      <td>NaN</td>\n",
       "      <td>0.0</td>\n",
       "      <td>NaN</td>\n",
       "      <td>81.0</td>\n",
       "    </tr>\n",
       "    <tr>\n",
       "      <th>2</th>\n",
       "      <td>10</td>\n",
       "      <td>5196000.0</td>\n",
       "      <td>56.0</td>\n",
       "      <td>2015-08-20T00:00:00</td>\n",
       "      <td>2</td>\n",
       "      <td>NaN</td>\n",
       "      <td>5.0</td>\n",
       "      <td>34.3</td>\n",
       "      <td>4</td>\n",
       "      <td>NaN</td>\n",
       "      <td>...</td>\n",
       "      <td>8.3</td>\n",
       "      <td>0.0</td>\n",
       "      <td>Санкт-Петербург</td>\n",
       "      <td>21741.0</td>\n",
       "      <td>13933.0</td>\n",
       "      <td>1.0</td>\n",
       "      <td>90.0</td>\n",
       "      <td>2.0</td>\n",
       "      <td>574.0</td>\n",
       "      <td>558.0</td>\n",
       "    </tr>\n",
       "    <tr>\n",
       "      <th>3</th>\n",
       "      <td>0</td>\n",
       "      <td>64900000.0</td>\n",
       "      <td>159.0</td>\n",
       "      <td>2015-07-24T00:00:00</td>\n",
       "      <td>3</td>\n",
       "      <td>NaN</td>\n",
       "      <td>14.0</td>\n",
       "      <td>NaN</td>\n",
       "      <td>9</td>\n",
       "      <td>NaN</td>\n",
       "      <td>...</td>\n",
       "      <td>NaN</td>\n",
       "      <td>0.0</td>\n",
       "      <td>Санкт-Петербург</td>\n",
       "      <td>28098.0</td>\n",
       "      <td>6800.0</td>\n",
       "      <td>2.0</td>\n",
       "      <td>84.0</td>\n",
       "      <td>3.0</td>\n",
       "      <td>234.0</td>\n",
       "      <td>424.0</td>\n",
       "    </tr>\n",
       "    <tr>\n",
       "      <th>4</th>\n",
       "      <td>2</td>\n",
       "      <td>10000000.0</td>\n",
       "      <td>100.0</td>\n",
       "      <td>2018-06-19T00:00:00</td>\n",
       "      <td>2</td>\n",
       "      <td>3.03</td>\n",
       "      <td>14.0</td>\n",
       "      <td>32.0</td>\n",
       "      <td>13</td>\n",
       "      <td>NaN</td>\n",
       "      <td>...</td>\n",
       "      <td>41.0</td>\n",
       "      <td>NaN</td>\n",
       "      <td>Санкт-Петербург</td>\n",
       "      <td>31856.0</td>\n",
       "      <td>8098.0</td>\n",
       "      <td>2.0</td>\n",
       "      <td>112.0</td>\n",
       "      <td>1.0</td>\n",
       "      <td>48.0</td>\n",
       "      <td>121.0</td>\n",
       "    </tr>\n",
       "  </tbody>\n",
       "</table>\n",
       "<p>5 rows × 22 columns</p>\n",
       "</div>"
      ],
      "text/plain": [
       "   total_images  last_price  total_area first_day_exposition  rooms  \\\n",
       "0            20  13000000.0       108.0  2019-03-07T00:00:00      3   \n",
       "1             7   3350000.0        40.4  2018-12-04T00:00:00      1   \n",
       "2            10   5196000.0        56.0  2015-08-20T00:00:00      2   \n",
       "3             0  64900000.0       159.0  2015-07-24T00:00:00      3   \n",
       "4             2  10000000.0       100.0  2018-06-19T00:00:00      2   \n",
       "\n",
       "   ceiling_height  floors_total  living_area  floor is_apartment  ...  \\\n",
       "0            2.70          16.0         51.0      8          NaN  ...   \n",
       "1             NaN          11.0         18.6      1          NaN  ...   \n",
       "2             NaN           5.0         34.3      4          NaN  ...   \n",
       "3             NaN          14.0          NaN      9          NaN  ...   \n",
       "4            3.03          14.0         32.0     13          NaN  ...   \n",
       "\n",
       "   kitchen_area  balcony    locality_name  airports_nearest  \\\n",
       "0          25.0      NaN  Санкт-Петербург           18863.0   \n",
       "1          11.0      2.0   посёлок Шушары           12817.0   \n",
       "2           8.3      0.0  Санкт-Петербург           21741.0   \n",
       "3           NaN      0.0  Санкт-Петербург           28098.0   \n",
       "4          41.0      NaN  Санкт-Петербург           31856.0   \n",
       "\n",
       "  cityCenters_nearest  parks_around3000  parks_nearest  ponds_around3000  \\\n",
       "0             16028.0               1.0          482.0               2.0   \n",
       "1             18603.0               0.0            NaN               0.0   \n",
       "2             13933.0               1.0           90.0               2.0   \n",
       "3              6800.0               2.0           84.0               3.0   \n",
       "4              8098.0               2.0          112.0               1.0   \n",
       "\n",
       "   ponds_nearest  days_exposition  \n",
       "0          755.0              NaN  \n",
       "1            NaN             81.0  \n",
       "2          574.0            558.0  \n",
       "3          234.0            424.0  \n",
       "4           48.0            121.0  \n",
       "\n",
       "[5 rows x 22 columns]"
      ]
     },
     "metadata": {},
     "output_type": "display_data"
    }
   ],
   "source": [
    "display(data.head())"
   ]
  },
  {
   "cell_type": "code",
   "execution_count": 5,
   "metadata": {},
   "outputs": [
    {
     "data": {
      "image/png": "[encoded data removed]",
      "text/plain": [
       "<Figure size 1080x1440 with 20 Axes>"
      ]
     },
     "metadata": {},
     "output_type": "display_data"
    }
   ],
   "source": [
    "# Построим общую гистограмму для всех столбцов таблицы\n",
    "\n",
    "data.hist(figsize = (15,20));"
   ]
  },
  {
   "cell_type": "code",
   "execution_count": 6,
   "metadata": {},
   "outputs": [
    {
     "data": {
      "text/plain": [
       "total_images             0.0\n",
       "last_price               0.0\n",
       "total_area               0.0\n",
       "first_day_exposition     0.0\n",
       "rooms                    0.0\n",
       "ceiling_height          39.0\n",
       "floors_total             0.0\n",
       "living_area              8.0\n",
       "floor                    0.0\n",
       "is_apartment            88.0\n",
       "studio                   0.0\n",
       "open_plan                0.0\n",
       "kitchen_area            10.0\n",
       "balcony                 49.0\n",
       "locality_name            0.0\n",
       "airports_nearest        23.0\n",
       "cityCenters_nearest     23.0\n",
       "parks_around3000        23.0\n",
       "parks_nearest           66.0\n",
       "ponds_around3000        23.0\n",
       "ponds_nearest           62.0\n",
       "days_exposition         13.0\n",
       "dtype: float64"
      ]
     },
     "execution_count": 6,
     "metadata": {},
     "output_type": "execute_result"
    }
   ],
   "source": [
    "# Посмотрим в каких стобцах есть пропуски\n",
    "data.isna().sum()\n",
    "round(data.isna().sum()/len(data)*100)"
   ]
  },
  {
   "cell_type": "markdown",
   "metadata": {},
   "source": [
    "**Проблемы в данных**\n",
    "\n",
    "<b>Пропуски</b>\n",
    "\n",
    "- is_apartment - **88%** (возможно столбец в датафрейме появился позже, логично заменить пропуски на False, т.к если не указали что это апартаменты, то скорее всего они ими не являются)\n",
    "- parks_nearest - **66%** и ponds_nearest - **62%** (пропуски в столбцах с картографическими данными, заполнять не нужно, кроме тех случаев, когда мы знаем, что водоемов или парков в близи нет). \n",
    "- balcony **49%** (заменим пропуски на 0 т.к скорее всего если продавец не указал о наличии балкона, то его нет)\n",
    "- ceiling_height - **39%** (скорее всего пропуски возникли случайно, можно заменить пропуски на медианные значения, так как основная часть данных в этом столбце находится в небольшом диапазоне.)          \n",
    "- parks_around3000 **23%** и ponds_around3000 **23%** (заполним пропуски на 0, т.к скорее всего, если продавец не указал данные о наличии парков и водоемов, то их нет)\n",
    "- cityCenters_nearest **23%** и airports_nearest **23%** (пропуски в столбцах с картографическими данными, заполнять не нужно)\n",
    "- days_exposition - **13%** (раз кол-во дней не указано, то вероятнее всего, квартира еще не продана - эти пропуски заполнять не нужно)\n",
    "- kitchen_area **10%** (нужно проверить не студия ли это, для студий заменить пропуски на 0)\n",
    "-living_area 8% \n",
    "\n",
    "<b>Типы данных, которые нужно заменить:</b>\n",
    "- first_day_exposition  тип **object** - нужно заменить на формат даты date, чтобы работать дальше с этими значениями было возможно\n",
    "- is_apartment тип **object** - нужно заменить на bool, т.к данные в столбце (False и True) - логические значенич \n",
    "- balcony тип **float64** - нужно заменить на int, т.к кол-во балконов это целочисленное значение\n",
    "- parks_around3000 тип **float64** - нужно заменить на int, т.к кол-во парков это целочисленное значение\n",
    "- ponds_around3000 тип **float64** - нужно заменить на int, т.к кол-во водоемов это целочисленное значение\n",
    "\n",
    "<b>Дубликаты</b>\n",
    "\n",
    "Необходимо проверить данные на наличие явных и неявных дубликатов: при предпросмотре датафрейма в столбце locality_name можно заменить наличие буквы ё - частой причины возникновения неявных дубликатов.\n",
    "\n",
    "<b>Странные значения</b>\n",
    "\n",
    "Необходимо проверить данные на наличие странных значений и выбросов - лучше всего это сделать используя визуализацию"
   ]
  },
  {
   "cell_type": "markdown",
   "metadata": {},
   "source": [
    "### Предобработка данных"
   ]
  },
  {
   "cell_type": "code",
   "execution_count": 7,
   "metadata": {},
   "outputs": [
    {
     "data": {
      "text/plain": [
       "0"
      ]
     },
     "execution_count": 7,
     "metadata": {},
     "output_type": "execute_result"
    }
   ],
   "source": [
    "#Поиск явных дубликатов\n",
    "data.duplicated().sum()"
   ]
  },
  {
   "cell_type": "markdown",
   "metadata": {},
   "source": [
    "Явных дубликатов не обнаружено"
   ]
  },
  {
   "cell_type": "code",
   "execution_count": 8,
   "metadata": {},
   "outputs": [],
   "source": [
    "#Замена пропусков и изменение типов данных\n",
    "\n",
    "data['balcony'] = data['balcony'].fillna(0) #Заполняем пропуски на значение \"0\", так как раз продавец не указал количетсво балконов, то их, скорее всего нет.\n",
    "data['balcony'] = data['balcony'].astype('int') #Меняем тип данных на int, поскольку кол-во балконов это целочисленные значения\n",
    "\n",
    "data['ceiling_height'] = data['ceiling_height'].fillna(data['ceiling_height'].mean()) #Заполняем пропуски на медианные значения, так как данные о продаже квартир в одном регионе (Санкт-Петербург и окрестности) и медиана лучше всего опишет этот параметр.\n",
    "\n",
    "data['is_apartment'] = data['is_apartment'].fillna(False) #Заполняем пропуски на значение False, так как если продавец зне указал является ли жилье апартаментами, то скорее всего не является.\n",
    "data['is_apartment'] = data['is_apartment'].astype('bool') #Меняем тип данных на bool, поскольку это логическое значение\n",
    "\n",
    "data['ponds_around3000'] = data['ponds_around3000'].fillna(0) #Заполняем пропуски на значение \"0\", так как раз продавец не указал количетсво водоемов в радиусе 3 км, то их, скорее всего нет.\n",
    "data['ponds_nearest'] = data.query('ponds_around3000 == 0')['ponds_nearest'].fillna(0) #Заполняем пропуски на значение \"0\" для тех квартир, в радиусе 3 км от которых нет водоемов, поскольку выше 3 км только одно значение в выборке\n",
    "\n",
    "data['parks_around3000'] = data['parks_around3000'].fillna(0) #Заполняем пропуски на значение \"0\", так как раз продавец не указал количетсво парков в радиусе 3 км, то их, скорее всего нет.\n",
    "data['parks_nearest'] = data.query('parks_around3000 == 0')['parks_nearest'].fillna(0) #Заполняем пропуски на значение \"0\" для тех квартир, в радиусе 3 км от которых нет парков.\n",
    "\n",
    "data['kitchen_area'] = data.query('studio == 0')['kitchen_area'].fillna(0) #Заполняем пропуски на значение \"0\" для тех квартир, которые являются студиями.\n",
    "\n",
    "data['living_area'] = data['living_area'].fillna(data['total_area']*data['living_area'].median()/data['total_area'].median()) #Заполняем пропуски на долю жилой площади выборки, рассчитанной по медианным значениям, общей и жилой площадей.\n",
    "\n",
    "data['first_day_exposition'] = pd.to_datetime(data['first_day_exposition'], format = '%Y-%m-%d') #Меняем формат даты на формат без времени, т.к время не указано.\n",
    "\n",
    "data['ceiling_height'] = data['ceiling_height'].round(2) #Округляем значения до 2 знаков после запятой для удобства просмотра"
   ]
  },
  {
   "cell_type": "code",
   "execution_count": 9,
   "metadata": {},
   "outputs": [
    {
     "name": "stdout",
     "output_type": "stream",
     "text": [
      "364\n"
     ]
    }
   ],
   "source": [
    "#Поиск неявных дубликатов\n",
    "\n",
    "print(data['locality_name'].nunique())\n"
   ]
  },
  {
   "cell_type": "code",
   "execution_count": 10,
   "metadata": {},
   "outputs": [],
   "source": [
    "#Устраняем неявные дубликаты\n",
    "data['locality_name'] = data['locality_name'].str.replace('посёлок ','поселок ')\n",
    "data['locality_name'] = data['locality_name'].str.replace('деревня ',' ')\n",
    "data['locality_name'] = data['locality_name'].str.replace('село ',' ')\n",
    "data['locality_name'] = data['locality_name'].str.replace('садовое товарищество ',' ')\n",
    "data['locality_name'] = data['locality_name'].str.replace('городского типа ','')\n",
    "data['locality_name'] = data['locality_name'].str.replace('городской ','')\n"
   ]
  },
  {
   "cell_type": "code",
   "execution_count": 11,
   "metadata": {},
   "outputs": [
    {
     "name": "stdout",
     "output_type": "stream",
     "text": [
      "322\n"
     ]
    }
   ],
   "source": [
    "print(data['locality_name'].nunique()) "
   ]
  },
  {
   "cell_type": "markdown",
   "metadata": {},
   "source": [
    "Убрали значительное количество неявных дубликатов в названии населенного пункта."
   ]
  },
  {
   "cell_type": "code",
   "execution_count": 12,
   "metadata": {},
   "outputs": [],
   "source": [
    "#Поиск редких и выбивающихся значений\n",
    "\n",
    "data.loc[data['ceiling_height'] >= 20,'ceiling_height'] = data['ceiling_height']/10 #Устраняем ошибки в значениях высоты потолка, средняя высота потолков 2,7 м, т.е во всех значениях больше 20 вероятнее всего ошиблись в запятой \n",
    "\n",
    "data = data[data['ceiling_height'] < 3] #Устраняем выбросы - все записи, для которых высота потолков выше 3 метров."
   ]
  },
  {
   "cell_type": "code",
   "execution_count": 13,
   "metadata": {},
   "outputs": [
    {
     "data": {
      "text/html": [
       "<div>\n",
       "<style scoped>\n",
       "    .dataframe tbody tr th:only-of-type {\n",
       "        vertical-align: middle;\n",
       "    }\n",
       "\n",
       "    .dataframe tbody tr th {\n",
       "        vertical-align: top;\n",
       "    }\n",
       "\n",
       "    .dataframe thead th {\n",
       "        text-align: right;\n",
       "    }\n",
       "</style>\n",
       "<table border=\"1\" class=\"dataframe\">\n",
       "  <thead>\n",
       "    <tr style=\"text-align: right;\">\n",
       "      <th></th>\n",
       "      <th>total_images</th>\n",
       "      <th>last_price</th>\n",
       "      <th>total_area</th>\n",
       "      <th>rooms</th>\n",
       "      <th>ceiling_height</th>\n",
       "      <th>floors_total</th>\n",
       "      <th>living_area</th>\n",
       "      <th>floor</th>\n",
       "      <th>kitchen_area</th>\n",
       "      <th>balcony</th>\n",
       "      <th>airports_nearest</th>\n",
       "      <th>cityCenters_nearest</th>\n",
       "      <th>parks_around3000</th>\n",
       "      <th>parks_nearest</th>\n",
       "      <th>ponds_around3000</th>\n",
       "      <th>ponds_nearest</th>\n",
       "      <th>days_exposition</th>\n",
       "    </tr>\n",
       "  </thead>\n",
       "  <tbody>\n",
       "    <tr>\n",
       "      <th>count</th>\n",
       "      <td>21078.000000</td>\n",
       "      <td>2.107800e+04</td>\n",
       "      <td>21078.000000</td>\n",
       "      <td>21078.000000</td>\n",
       "      <td>21078.000000</td>\n",
       "      <td>20993.000000</td>\n",
       "      <td>21078.000000</td>\n",
       "      <td>21078.000000</td>\n",
       "      <td>20940.000000</td>\n",
       "      <td>21078.000000</td>\n",
       "      <td>15730.000000</td>\n",
       "      <td>15749.000000</td>\n",
       "      <td>21078.000000</td>\n",
       "      <td>14669.000000</td>\n",
       "      <td>21078.000000</td>\n",
       "      <td>13524.0</td>\n",
       "      <td>18478.000000</td>\n",
       "    </tr>\n",
       "    <tr>\n",
       "      <th>mean</th>\n",
       "      <td>9.765490</td>\n",
       "      <td>5.604654e+06</td>\n",
       "      <td>56.070672</td>\n",
       "      <td>1.972531</td>\n",
       "      <td>2.686131</td>\n",
       "      <td>11.148097</td>\n",
       "      <td>31.966451</td>\n",
       "      <td>6.110732</td>\n",
       "      <td>9.103607</td>\n",
       "      <td>0.612487</td>\n",
       "      <td>29174.499046</td>\n",
       "      <td>15114.401930</td>\n",
       "      <td>0.400939</td>\n",
       "      <td>0.643807</td>\n",
       "      <td>0.525999</td>\n",
       "      <td>0.0</td>\n",
       "      <td>172.715662</td>\n",
       "    </tr>\n",
       "    <tr>\n",
       "      <th>std</th>\n",
       "      <td>5.629521</td>\n",
       "      <td>8.799945e+06</td>\n",
       "      <td>28.996175</td>\n",
       "      <td>0.983594</td>\n",
       "      <td>0.115648</td>\n",
       "      <td>6.672076</td>\n",
       "      <td>18.099148</td>\n",
       "      <td>5.007522</td>\n",
       "      <td>5.636381</td>\n",
       "      <td>0.961092</td>\n",
       "      <td>13035.388273</td>\n",
       "      <td>8341.141009</td>\n",
       "      <td>0.685513</td>\n",
       "      <td>45.023867</td>\n",
       "      <td>0.824186</td>\n",
       "      <td>0.0</td>\n",
       "      <td>211.152938</td>\n",
       "    </tr>\n",
       "    <tr>\n",
       "      <th>min</th>\n",
       "      <td>0.000000</td>\n",
       "      <td>1.219000e+04</td>\n",
       "      <td>12.000000</td>\n",
       "      <td>0.000000</td>\n",
       "      <td>1.000000</td>\n",
       "      <td>1.000000</td>\n",
       "      <td>2.000000</td>\n",
       "      <td>1.000000</td>\n",
       "      <td>0.000000</td>\n",
       "      <td>0.000000</td>\n",
       "      <td>0.000000</td>\n",
       "      <td>318.000000</td>\n",
       "      <td>0.000000</td>\n",
       "      <td>0.000000</td>\n",
       "      <td>0.000000</td>\n",
       "      <td>0.0</td>\n",
       "      <td>1.000000</td>\n",
       "    </tr>\n",
       "    <tr>\n",
       "      <th>25%</th>\n",
       "      <td>6.000000</td>\n",
       "      <td>3.300000e+06</td>\n",
       "      <td>39.000000</td>\n",
       "      <td>1.000000</td>\n",
       "      <td>2.600000</td>\n",
       "      <td>5.000000</td>\n",
       "      <td>18.400000</td>\n",
       "      <td>2.000000</td>\n",
       "      <td>6.200000</td>\n",
       "      <td>0.000000</td>\n",
       "      <td>18041.000000</td>\n",
       "      <td>10893.000000</td>\n",
       "      <td>0.000000</td>\n",
       "      <td>0.000000</td>\n",
       "      <td>0.000000</td>\n",
       "      <td>0.0</td>\n",
       "      <td>44.000000</td>\n",
       "    </tr>\n",
       "    <tr>\n",
       "      <th>50%</th>\n",
       "      <td>9.000000</td>\n",
       "      <td>4.400000e+06</td>\n",
       "      <td>49.700000</td>\n",
       "      <td>2.000000</td>\n",
       "      <td>2.770000</td>\n",
       "      <td>9.000000</td>\n",
       "      <td>29.300000</td>\n",
       "      <td>5.000000</td>\n",
       "      <td>8.500000</td>\n",
       "      <td>0.000000</td>\n",
       "      <td>27738.500000</td>\n",
       "      <td>13723.000000</td>\n",
       "      <td>0.000000</td>\n",
       "      <td>0.000000</td>\n",
       "      <td>0.000000</td>\n",
       "      <td>0.0</td>\n",
       "      <td>91.000000</td>\n",
       "    </tr>\n",
       "    <tr>\n",
       "      <th>75%</th>\n",
       "      <td>14.000000</td>\n",
       "      <td>6.077500e+06</td>\n",
       "      <td>65.000000</td>\n",
       "      <td>3.000000</td>\n",
       "      <td>2.770000</td>\n",
       "      <td>16.000000</td>\n",
       "      <td>40.000000</td>\n",
       "      <td>8.000000</td>\n",
       "      <td>11.000000</td>\n",
       "      <td>1.000000</td>\n",
       "      <td>38171.000000</td>\n",
       "      <td>16722.000000</td>\n",
       "      <td>1.000000</td>\n",
       "      <td>0.000000</td>\n",
       "      <td>1.000000</td>\n",
       "      <td>0.0</td>\n",
       "      <td>217.000000</td>\n",
       "    </tr>\n",
       "    <tr>\n",
       "      <th>max</th>\n",
       "      <td>50.000000</td>\n",
       "      <td>7.630000e+08</td>\n",
       "      <td>900.000000</td>\n",
       "      <td>19.000000</td>\n",
       "      <td>2.990000</td>\n",
       "      <td>60.000000</td>\n",
       "      <td>409.700000</td>\n",
       "      <td>33.000000</td>\n",
       "      <td>112.000000</td>\n",
       "      <td>5.000000</td>\n",
       "      <td>84869.000000</td>\n",
       "      <td>65968.000000</td>\n",
       "      <td>3.000000</td>\n",
       "      <td>3190.000000</td>\n",
       "      <td>3.000000</td>\n",
       "      <td>0.0</td>\n",
       "      <td>1580.000000</td>\n",
       "    </tr>\n",
       "  </tbody>\n",
       "</table>\n",
       "</div>"
      ],
      "text/plain": [
       "       total_images    last_price    total_area         rooms  ceiling_height  \\\n",
       "count  21078.000000  2.107800e+04  21078.000000  21078.000000    21078.000000   \n",
       "mean       9.765490  5.604654e+06     56.070672      1.972531        2.686131   \n",
       "std        5.629521  8.799945e+06     28.996175      0.983594        0.115648   \n",
       "min        0.000000  1.219000e+04     12.000000      0.000000        1.000000   \n",
       "25%        6.000000  3.300000e+06     39.000000      1.000000        2.600000   \n",
       "50%        9.000000  4.400000e+06     49.700000      2.000000        2.770000   \n",
       "75%       14.000000  6.077500e+06     65.000000      3.000000        2.770000   \n",
       "max       50.000000  7.630000e+08    900.000000     19.000000        2.990000   \n",
       "\n",
       "       floors_total   living_area         floor  kitchen_area       balcony  \\\n",
       "count  20993.000000  21078.000000  21078.000000  20940.000000  21078.000000   \n",
       "mean      11.148097     31.966451      6.110732      9.103607      0.612487   \n",
       "std        6.672076     18.099148      5.007522      5.636381      0.961092   \n",
       "min        1.000000      2.000000      1.000000      0.000000      0.000000   \n",
       "25%        5.000000     18.400000      2.000000      6.200000      0.000000   \n",
       "50%        9.000000     29.300000      5.000000      8.500000      0.000000   \n",
       "75%       16.000000     40.000000      8.000000     11.000000      1.000000   \n",
       "max       60.000000    409.700000     33.000000    112.000000      5.000000   \n",
       "\n",
       "       airports_nearest  cityCenters_nearest  parks_around3000  parks_nearest  \\\n",
       "count      15730.000000         15749.000000      21078.000000   14669.000000   \n",
       "mean       29174.499046         15114.401930          0.400939       0.643807   \n",
       "std        13035.388273          8341.141009          0.685513      45.023867   \n",
       "min            0.000000           318.000000          0.000000       0.000000   \n",
       "25%        18041.000000         10893.000000          0.000000       0.000000   \n",
       "50%        27738.500000         13723.000000          0.000000       0.000000   \n",
       "75%        38171.000000         16722.000000          1.000000       0.000000   \n",
       "max        84869.000000         65968.000000          3.000000    3190.000000   \n",
       "\n",
       "       ponds_around3000  ponds_nearest  days_exposition  \n",
       "count      21078.000000        13524.0     18478.000000  \n",
       "mean           0.525999            0.0       172.715662  \n",
       "std            0.824186            0.0       211.152938  \n",
       "min            0.000000            0.0         1.000000  \n",
       "25%            0.000000            0.0        44.000000  \n",
       "50%            0.000000            0.0        91.000000  \n",
       "75%            1.000000            0.0       217.000000  \n",
       "max            3.000000            0.0      1580.000000  "
      ]
     },
     "execution_count": 13,
     "metadata": {},
     "output_type": "execute_result"
    }
   ],
   "source": [
    "data.describe() #Оцениваем выбросы в других значениях"
   ]
  },
  {
   "cell_type": "markdown",
   "metadata": {},
   "source": [
    "Все прочие максимальные значения являются приемлемыми"
   ]
  },
  {
   "cell_type": "code",
   "execution_count": 14,
   "metadata": {},
   "outputs": [],
   "source": [
    "data['last_price'] = data['last_price']/1000000 #Приводим значение цены к млн руб, для удобства просмотра"
   ]
  },
  {
   "cell_type": "code",
   "execution_count": 15,
   "metadata": {},
   "outputs": [
    {
     "data": {
      "text/plain": [
       "total_images               0\n",
       "last_price                 0\n",
       "total_area                 0\n",
       "first_day_exposition       0\n",
       "rooms                      0\n",
       "ceiling_height             0\n",
       "floors_total              85\n",
       "living_area                0\n",
       "floor                      0\n",
       "is_apartment               0\n",
       "studio                     0\n",
       "open_plan                  0\n",
       "kitchen_area             138\n",
       "balcony                    0\n",
       "locality_name             42\n",
       "airports_nearest        5348\n",
       "cityCenters_nearest     5329\n",
       "parks_around3000           0\n",
       "parks_nearest           6409\n",
       "ponds_around3000           0\n",
       "ponds_nearest           7554\n",
       "days_exposition         2600\n",
       "dtype: int64"
      ]
     },
     "execution_count": 15,
     "metadata": {},
     "output_type": "execute_result"
    }
   ],
   "source": [
    "data.isna().sum() # в данных остались пропуски, которые мы не можем заполнить, на анализ данные пропуски не должны повлиять, поэтому можем их оставить"
   ]
  },
  {
   "cell_type": "markdown",
   "metadata": {},
   "source": [
    "### Посчитайте и добавьте в таблицу новые столбцы"
   ]
  },
  {
   "cell_type": "code",
   "execution_count": 16,
   "metadata": {},
   "outputs": [],
   "source": [
    "#Добавляем столбец с ценой квадратного метра\n",
    "data['price_per_square_meter'] = (data['last_price']*1000000)/ data['total_area'] \n",
    "data['price_per_square_meter'] = data['price_per_square_meter'].astype('int') #Присваеваем тим int для наглядности\n",
    "\n",
    "#Добавляем столбец со днем недели публикации объявления\n",
    "data['weekday_exposition'] = data['first_day_exposition'].dt.weekday\n",
    "\n",
    "\n",
    "#Добавляем столбец с месяцем публикации объявления\n",
    "data['month_exposition'] = data['first_day_exposition'].dt.month\n",
    "\n",
    "#Добавляем столбец с годом публикации объявления\n",
    "data['year_exposition'] = data['first_day_exposition'].dt.year\n",
    "\n",
    "#Добавляем тип этажа квартиры\n",
    "data['floor_category'] = data.apply(\n",
    "    lambda x: 'первый' if (x.floor == 1) \n",
    "    else ('последний' if (x.floor == x.floors_total)  \n",
    "    else 'другой'), axis=1\n",
    ")\n",
    "\n",
    "data['floor_category_digit'] = data.apply(\n",
    "    lambda x: 0 if (x.floor == 1) \n",
    "    else (2 if (x.floor == x.floors_total) & isinstance(x.floors_total,int) \n",
    "    else 1), axis=1\n",
    ")\n",
    "\n",
    "#Добавляем столбец со значением расстояние до центра города в километрах \n",
    "data['cityCenters_nearest_km'] = round(data['cityCenters_nearest'] / 1000)\n"
   ]
  },
  {
   "cell_type": "code",
   "execution_count": 17,
   "metadata": {},
   "outputs": [
    {
     "data": {
      "text/html": [
       "<div>\n",
       "<style scoped>\n",
       "    .dataframe tbody tr th:only-of-type {\n",
       "        vertical-align: middle;\n",
       "    }\n",
       "\n",
       "    .dataframe tbody tr th {\n",
       "        vertical-align: top;\n",
       "    }\n",
       "\n",
       "    .dataframe thead th {\n",
       "        text-align: right;\n",
       "    }\n",
       "</style>\n",
       "<table border=\"1\" class=\"dataframe\">\n",
       "  <thead>\n",
       "    <tr style=\"text-align: right;\">\n",
       "      <th></th>\n",
       "      <th>total_images</th>\n",
       "      <th>last_price</th>\n",
       "      <th>total_area</th>\n",
       "      <th>first_day_exposition</th>\n",
       "      <th>rooms</th>\n",
       "      <th>ceiling_height</th>\n",
       "      <th>floors_total</th>\n",
       "      <th>living_area</th>\n",
       "      <th>floor</th>\n",
       "      <th>is_apartment</th>\n",
       "      <th>...</th>\n",
       "      <th>ponds_around3000</th>\n",
       "      <th>ponds_nearest</th>\n",
       "      <th>days_exposition</th>\n",
       "      <th>price_per_square_meter</th>\n",
       "      <th>weekday_exposition</th>\n",
       "      <th>month_exposition</th>\n",
       "      <th>year_exposition</th>\n",
       "      <th>floor_category</th>\n",
       "      <th>floor_category_digit</th>\n",
       "      <th>cityCenters_nearest_km</th>\n",
       "    </tr>\n",
       "  </thead>\n",
       "  <tbody>\n",
       "    <tr>\n",
       "      <th>0</th>\n",
       "      <td>20</td>\n",
       "      <td>13.000</td>\n",
       "      <td>108.0</td>\n",
       "      <td>2019-03-07</td>\n",
       "      <td>3</td>\n",
       "      <td>2.70</td>\n",
       "      <td>16.0</td>\n",
       "      <td>51.000000</td>\n",
       "      <td>8</td>\n",
       "      <td>False</td>\n",
       "      <td>...</td>\n",
       "      <td>2.0</td>\n",
       "      <td>NaN</td>\n",
       "      <td>NaN</td>\n",
       "      <td>120370</td>\n",
       "      <td>3</td>\n",
       "      <td>3</td>\n",
       "      <td>2019</td>\n",
       "      <td>другой</td>\n",
       "      <td>1</td>\n",
       "      <td>16.0</td>\n",
       "    </tr>\n",
       "    <tr>\n",
       "      <th>1</th>\n",
       "      <td>7</td>\n",
       "      <td>3.350</td>\n",
       "      <td>40.4</td>\n",
       "      <td>2018-12-04</td>\n",
       "      <td>1</td>\n",
       "      <td>2.77</td>\n",
       "      <td>11.0</td>\n",
       "      <td>18.600000</td>\n",
       "      <td>1</td>\n",
       "      <td>False</td>\n",
       "      <td>...</td>\n",
       "      <td>0.0</td>\n",
       "      <td>0.0</td>\n",
       "      <td>81.0</td>\n",
       "      <td>82920</td>\n",
       "      <td>1</td>\n",
       "      <td>12</td>\n",
       "      <td>2018</td>\n",
       "      <td>первый</td>\n",
       "      <td>0</td>\n",
       "      <td>19.0</td>\n",
       "    </tr>\n",
       "    <tr>\n",
       "      <th>2</th>\n",
       "      <td>10</td>\n",
       "      <td>5.196</td>\n",
       "      <td>56.0</td>\n",
       "      <td>2015-08-20</td>\n",
       "      <td>2</td>\n",
       "      <td>2.77</td>\n",
       "      <td>5.0</td>\n",
       "      <td>34.300000</td>\n",
       "      <td>4</td>\n",
       "      <td>False</td>\n",
       "      <td>...</td>\n",
       "      <td>2.0</td>\n",
       "      <td>NaN</td>\n",
       "      <td>558.0</td>\n",
       "      <td>92785</td>\n",
       "      <td>3</td>\n",
       "      <td>8</td>\n",
       "      <td>2015</td>\n",
       "      <td>другой</td>\n",
       "      <td>1</td>\n",
       "      <td>14.0</td>\n",
       "    </tr>\n",
       "    <tr>\n",
       "      <th>3</th>\n",
       "      <td>0</td>\n",
       "      <td>64.900</td>\n",
       "      <td>159.0</td>\n",
       "      <td>2015-07-24</td>\n",
       "      <td>3</td>\n",
       "      <td>2.77</td>\n",
       "      <td>14.0</td>\n",
       "      <td>91.730769</td>\n",
       "      <td>9</td>\n",
       "      <td>False</td>\n",
       "      <td>...</td>\n",
       "      <td>3.0</td>\n",
       "      <td>NaN</td>\n",
       "      <td>424.0</td>\n",
       "      <td>408176</td>\n",
       "      <td>4</td>\n",
       "      <td>7</td>\n",
       "      <td>2015</td>\n",
       "      <td>другой</td>\n",
       "      <td>1</td>\n",
       "      <td>7.0</td>\n",
       "    </tr>\n",
       "    <tr>\n",
       "      <th>5</th>\n",
       "      <td>10</td>\n",
       "      <td>2.890</td>\n",
       "      <td>30.4</td>\n",
       "      <td>2018-09-10</td>\n",
       "      <td>1</td>\n",
       "      <td>2.77</td>\n",
       "      <td>12.0</td>\n",
       "      <td>14.400000</td>\n",
       "      <td>5</td>\n",
       "      <td>False</td>\n",
       "      <td>...</td>\n",
       "      <td>0.0</td>\n",
       "      <td>0.0</td>\n",
       "      <td>55.0</td>\n",
       "      <td>95065</td>\n",
       "      <td>0</td>\n",
       "      <td>9</td>\n",
       "      <td>2018</td>\n",
       "      <td>другой</td>\n",
       "      <td>1</td>\n",
       "      <td>NaN</td>\n",
       "    </tr>\n",
       "  </tbody>\n",
       "</table>\n",
       "<p>5 rows × 29 columns</p>\n",
       "</div>"
      ],
      "text/plain": [
       "   total_images  last_price  total_area first_day_exposition  rooms  \\\n",
       "0            20      13.000       108.0           2019-03-07      3   \n",
       "1             7       3.350        40.4           2018-12-04      1   \n",
       "2            10       5.196        56.0           2015-08-20      2   \n",
       "3             0      64.900       159.0           2015-07-24      3   \n",
       "5            10       2.890        30.4           2018-09-10      1   \n",
       "\n",
       "   ceiling_height  floors_total  living_area  floor  is_apartment  ...  \\\n",
       "0            2.70          16.0    51.000000      8         False  ...   \n",
       "1            2.77          11.0    18.600000      1         False  ...   \n",
       "2            2.77           5.0    34.300000      4         False  ...   \n",
       "3            2.77          14.0    91.730769      9         False  ...   \n",
       "5            2.77          12.0    14.400000      5         False  ...   \n",
       "\n",
       "   ponds_around3000  ponds_nearest  days_exposition  price_per_square_meter  \\\n",
       "0               2.0            NaN              NaN                  120370   \n",
       "1               0.0            0.0             81.0                   82920   \n",
       "2               2.0            NaN            558.0                   92785   \n",
       "3               3.0            NaN            424.0                  408176   \n",
       "5               0.0            0.0             55.0                   95065   \n",
       "\n",
       "  weekday_exposition  month_exposition  year_exposition  floor_category  \\\n",
       "0                  3                 3             2019          другой   \n",
       "1                  1                12             2018          первый   \n",
       "2                  3                 8             2015          другой   \n",
       "3                  4                 7             2015          другой   \n",
       "5                  0                 9             2018          другой   \n",
       "\n",
       "   floor_category_digit  cityCenters_nearest_km  \n",
       "0                     1                    16.0  \n",
       "1                     0                    19.0  \n",
       "2                     1                    14.0  \n",
       "3                     1                     7.0  \n",
       "5                     1                     NaN  \n",
       "\n",
       "[5 rows x 29 columns]"
      ]
     },
     "execution_count": 17,
     "metadata": {},
     "output_type": "execute_result"
    }
   ],
   "source": [
    "data.head() #Проверяем, что все столбцы добавились"
   ]
  },
  {
   "cell_type": "markdown",
   "metadata": {},
   "source": [
    "### Проведите исследовательский анализ данных"
   ]
  },
  {
   "cell_type": "code",
   "execution_count": 18,
   "metadata": {},
   "outputs": [
    {
     "data": {
      "text/html": [
       "<div>\n",
       "<style scoped>\n",
       "    .dataframe tbody tr th:only-of-type {\n",
       "        vertical-align: middle;\n",
       "    }\n",
       "\n",
       "    .dataframe tbody tr th {\n",
       "        vertical-align: top;\n",
       "    }\n",
       "\n",
       "    .dataframe thead th {\n",
       "        text-align: right;\n",
       "    }\n",
       "</style>\n",
       "<table border=\"1\" class=\"dataframe\">\n",
       "  <thead>\n",
       "    <tr style=\"text-align: right;\">\n",
       "      <th></th>\n",
       "      <th>total_images</th>\n",
       "      <th>last_price</th>\n",
       "      <th>total_area</th>\n",
       "      <th>rooms</th>\n",
       "      <th>ceiling_height</th>\n",
       "      <th>floors_total</th>\n",
       "      <th>living_area</th>\n",
       "      <th>floor</th>\n",
       "      <th>kitchen_area</th>\n",
       "      <th>balcony</th>\n",
       "      <th>...</th>\n",
       "      <th>parks_nearest</th>\n",
       "      <th>ponds_around3000</th>\n",
       "      <th>ponds_nearest</th>\n",
       "      <th>days_exposition</th>\n",
       "      <th>price_per_square_meter</th>\n",
       "      <th>weekday_exposition</th>\n",
       "      <th>month_exposition</th>\n",
       "      <th>year_exposition</th>\n",
       "      <th>floor_category_digit</th>\n",
       "      <th>cityCenters_nearest_km</th>\n",
       "    </tr>\n",
       "  </thead>\n",
       "  <tbody>\n",
       "    <tr>\n",
       "      <th>count</th>\n",
       "      <td>21078.000000</td>\n",
       "      <td>21078.000000</td>\n",
       "      <td>21078.000000</td>\n",
       "      <td>21078.000000</td>\n",
       "      <td>21078.000000</td>\n",
       "      <td>20993.000000</td>\n",
       "      <td>21078.000000</td>\n",
       "      <td>21078.000000</td>\n",
       "      <td>20940.000000</td>\n",
       "      <td>21078.000000</td>\n",
       "      <td>...</td>\n",
       "      <td>14669.000000</td>\n",
       "      <td>21078.000000</td>\n",
       "      <td>13524.0</td>\n",
       "      <td>18478.000000</td>\n",
       "      <td>2.107800e+04</td>\n",
       "      <td>21078.000000</td>\n",
       "      <td>21078.000000</td>\n",
       "      <td>21078.000000</td>\n",
       "      <td>21078.000000</td>\n",
       "      <td>15749.000000</td>\n",
       "    </tr>\n",
       "    <tr>\n",
       "      <th>mean</th>\n",
       "      <td>9.765490</td>\n",
       "      <td>5.604654</td>\n",
       "      <td>56.070672</td>\n",
       "      <td>1.972531</td>\n",
       "      <td>2.686131</td>\n",
       "      <td>11.148097</td>\n",
       "      <td>31.966451</td>\n",
       "      <td>6.110732</td>\n",
       "      <td>9.103607</td>\n",
       "      <td>0.612487</td>\n",
       "      <td>...</td>\n",
       "      <td>0.643807</td>\n",
       "      <td>0.525999</td>\n",
       "      <td>0.0</td>\n",
       "      <td>172.715662</td>\n",
       "      <td>9.494703e+04</td>\n",
       "      <td>2.585777</td>\n",
       "      <td>6.410618</td>\n",
       "      <td>2017.373755</td>\n",
       "      <td>0.877360</td>\n",
       "      <td>15.109150</td>\n",
       "    </tr>\n",
       "    <tr>\n",
       "      <th>std</th>\n",
       "      <td>5.629521</td>\n",
       "      <td>8.799945</td>\n",
       "      <td>28.996175</td>\n",
       "      <td>0.983594</td>\n",
       "      <td>0.115648</td>\n",
       "      <td>6.672076</td>\n",
       "      <td>18.099148</td>\n",
       "      <td>5.007522</td>\n",
       "      <td>5.636381</td>\n",
       "      <td>0.961092</td>\n",
       "      <td>...</td>\n",
       "      <td>45.023867</td>\n",
       "      <td>0.824186</td>\n",
       "      <td>0.0</td>\n",
       "      <td>211.152938</td>\n",
       "      <td>4.047831e+04</td>\n",
       "      <td>1.794627</td>\n",
       "      <td>3.488254</td>\n",
       "      <td>1.027532</td>\n",
       "      <td>0.328031</td>\n",
       "      <td>8.347222</td>\n",
       "    </tr>\n",
       "    <tr>\n",
       "      <th>min</th>\n",
       "      <td>0.000000</td>\n",
       "      <td>0.012190</td>\n",
       "      <td>12.000000</td>\n",
       "      <td>0.000000</td>\n",
       "      <td>1.000000</td>\n",
       "      <td>1.000000</td>\n",
       "      <td>2.000000</td>\n",
       "      <td>1.000000</td>\n",
       "      <td>0.000000</td>\n",
       "      <td>0.000000</td>\n",
       "      <td>...</td>\n",
       "      <td>0.000000</td>\n",
       "      <td>0.000000</td>\n",
       "      <td>0.0</td>\n",
       "      <td>1.000000</td>\n",
       "      <td>1.110000e+02</td>\n",
       "      <td>0.000000</td>\n",
       "      <td>1.000000</td>\n",
       "      <td>2014.000000</td>\n",
       "      <td>0.000000</td>\n",
       "      <td>0.000000</td>\n",
       "    </tr>\n",
       "    <tr>\n",
       "      <th>25%</th>\n",
       "      <td>6.000000</td>\n",
       "      <td>3.300000</td>\n",
       "      <td>39.000000</td>\n",
       "      <td>1.000000</td>\n",
       "      <td>2.600000</td>\n",
       "      <td>5.000000</td>\n",
       "      <td>18.400000</td>\n",
       "      <td>2.000000</td>\n",
       "      <td>6.200000</td>\n",
       "      <td>0.000000</td>\n",
       "      <td>...</td>\n",
       "      <td>0.000000</td>\n",
       "      <td>0.000000</td>\n",
       "      <td>0.0</td>\n",
       "      <td>44.000000</td>\n",
       "      <td>7.486000e+04</td>\n",
       "      <td>1.000000</td>\n",
       "      <td>3.000000</td>\n",
       "      <td>2017.000000</td>\n",
       "      <td>1.000000</td>\n",
       "      <td>11.000000</td>\n",
       "    </tr>\n",
       "    <tr>\n",
       "      <th>50%</th>\n",
       "      <td>9.000000</td>\n",
       "      <td>4.400000</td>\n",
       "      <td>49.700000</td>\n",
       "      <td>2.000000</td>\n",
       "      <td>2.770000</td>\n",
       "      <td>9.000000</td>\n",
       "      <td>29.300000</td>\n",
       "      <td>5.000000</td>\n",
       "      <td>8.500000</td>\n",
       "      <td>0.000000</td>\n",
       "      <td>...</td>\n",
       "      <td>0.000000</td>\n",
       "      <td>0.000000</td>\n",
       "      <td>0.0</td>\n",
       "      <td>91.000000</td>\n",
       "      <td>9.318100e+04</td>\n",
       "      <td>3.000000</td>\n",
       "      <td>6.000000</td>\n",
       "      <td>2017.000000</td>\n",
       "      <td>1.000000</td>\n",
       "      <td>14.000000</td>\n",
       "    </tr>\n",
       "    <tr>\n",
       "      <th>75%</th>\n",
       "      <td>14.000000</td>\n",
       "      <td>6.077500</td>\n",
       "      <td>65.000000</td>\n",
       "      <td>3.000000</td>\n",
       "      <td>2.770000</td>\n",
       "      <td>16.000000</td>\n",
       "      <td>40.000000</td>\n",
       "      <td>8.000000</td>\n",
       "      <td>11.000000</td>\n",
       "      <td>1.000000</td>\n",
       "      <td>...</td>\n",
       "      <td>0.000000</td>\n",
       "      <td>1.000000</td>\n",
       "      <td>0.0</td>\n",
       "      <td>217.000000</td>\n",
       "      <td>1.109338e+05</td>\n",
       "      <td>4.000000</td>\n",
       "      <td>10.000000</td>\n",
       "      <td>2018.000000</td>\n",
       "      <td>1.000000</td>\n",
       "      <td>17.000000</td>\n",
       "    </tr>\n",
       "    <tr>\n",
       "      <th>max</th>\n",
       "      <td>50.000000</td>\n",
       "      <td>763.000000</td>\n",
       "      <td>900.000000</td>\n",
       "      <td>19.000000</td>\n",
       "      <td>2.990000</td>\n",
       "      <td>60.000000</td>\n",
       "      <td>409.700000</td>\n",
       "      <td>33.000000</td>\n",
       "      <td>112.000000</td>\n",
       "      <td>5.000000</td>\n",
       "      <td>...</td>\n",
       "      <td>3190.000000</td>\n",
       "      <td>3.000000</td>\n",
       "      <td>0.0</td>\n",
       "      <td>1580.000000</td>\n",
       "      <td>1.907500e+06</td>\n",
       "      <td>6.000000</td>\n",
       "      <td>12.000000</td>\n",
       "      <td>2019.000000</td>\n",
       "      <td>1.000000</td>\n",
       "      <td>66.000000</td>\n",
       "    </tr>\n",
       "  </tbody>\n",
       "</table>\n",
       "<p>8 rows × 23 columns</p>\n",
       "</div>"
      ],
      "text/plain": [
       "       total_images    last_price    total_area         rooms  ceiling_height  \\\n",
       "count  21078.000000  21078.000000  21078.000000  21078.000000    21078.000000   \n",
       "mean       9.765490      5.604654     56.070672      1.972531        2.686131   \n",
       "std        5.629521      8.799945     28.996175      0.983594        0.115648   \n",
       "min        0.000000      0.012190     12.000000      0.000000        1.000000   \n",
       "25%        6.000000      3.300000     39.000000      1.000000        2.600000   \n",
       "50%        9.000000      4.400000     49.700000      2.000000        2.770000   \n",
       "75%       14.000000      6.077500     65.000000      3.000000        2.770000   \n",
       "max       50.000000    763.000000    900.000000     19.000000        2.990000   \n",
       "\n",
       "       floors_total   living_area         floor  kitchen_area       balcony  \\\n",
       "count  20993.000000  21078.000000  21078.000000  20940.000000  21078.000000   \n",
       "mean      11.148097     31.966451      6.110732      9.103607      0.612487   \n",
       "std        6.672076     18.099148      5.007522      5.636381      0.961092   \n",
       "min        1.000000      2.000000      1.000000      0.000000      0.000000   \n",
       "25%        5.000000     18.400000      2.000000      6.200000      0.000000   \n",
       "50%        9.000000     29.300000      5.000000      8.500000      0.000000   \n",
       "75%       16.000000     40.000000      8.000000     11.000000      1.000000   \n",
       "max       60.000000    409.700000     33.000000    112.000000      5.000000   \n",
       "\n",
       "       ...  parks_nearest  ponds_around3000  ponds_nearest  days_exposition  \\\n",
       "count  ...   14669.000000      21078.000000        13524.0     18478.000000   \n",
       "mean   ...       0.643807          0.525999            0.0       172.715662   \n",
       "std    ...      45.023867          0.824186            0.0       211.152938   \n",
       "min    ...       0.000000          0.000000            0.0         1.000000   \n",
       "25%    ...       0.000000          0.000000            0.0        44.000000   \n",
       "50%    ...       0.000000          0.000000            0.0        91.000000   \n",
       "75%    ...       0.000000          1.000000            0.0       217.000000   \n",
       "max    ...    3190.000000          3.000000            0.0      1580.000000   \n",
       "\n",
       "       price_per_square_meter  weekday_exposition  month_exposition  \\\n",
       "count            2.107800e+04        21078.000000      21078.000000   \n",
       "mean             9.494703e+04            2.585777          6.410618   \n",
       "std              4.047831e+04            1.794627          3.488254   \n",
       "min              1.110000e+02            0.000000          1.000000   \n",
       "25%              7.486000e+04            1.000000          3.000000   \n",
       "50%              9.318100e+04            3.000000          6.000000   \n",
       "75%              1.109338e+05            4.000000         10.000000   \n",
       "max              1.907500e+06            6.000000         12.000000   \n",
       "\n",
       "       year_exposition  floor_category_digit  cityCenters_nearest_km  \n",
       "count     21078.000000          21078.000000            15749.000000  \n",
       "mean       2017.373755              0.877360               15.109150  \n",
       "std           1.027532              0.328031                8.347222  \n",
       "min        2014.000000              0.000000                0.000000  \n",
       "25%        2017.000000              1.000000               11.000000  \n",
       "50%        2017.000000              1.000000               14.000000  \n",
       "75%        2018.000000              1.000000               17.000000  \n",
       "max        2019.000000              1.000000               66.000000  \n",
       "\n",
       "[8 rows x 23 columns]"
      ]
     },
     "metadata": {},
     "output_type": "display_data"
    }
   ],
   "source": [
    "#Изучаем параметры объекстов\n",
    "display(data.describe())"
   ]
  },
  {
   "cell_type": "code",
   "execution_count": 19,
   "metadata": {},
   "outputs": [
    {
     "data": {
      "image/png": "[encoded data removed]",
      "text/plain": [
       "<Figure size 432x216 with 1 Axes>"
      ]
     },
     "metadata": {},
     "output_type": "display_data"
    }
   ],
   "source": [
    "(\n",
    "    data['last_price']\n",
    "        .sort_values()\n",
    "        .plot(y='last_price', kind='hist', \n",
    "              bins=100, range=(0,763), grid=True, title='Гистограмма распределения показателя \"Цена объекта\"', figsize=(6,3))        \n",
    "        .set( ylabel = 'кол-во записей', xlabel = 'Цена объекта')\n",
    ");"
   ]
  },
  {
   "cell_type": "markdown",
   "metadata": {},
   "source": [
    "На гистограмме мы видим, кто кол-во записей для показателей цена объекта выше 100 млн очень мала. \n",
    "Построим еще одну диаграмму с областью построения до 100 млн."
   ]
  },
  {
   "cell_type": "code",
   "execution_count": 20,
   "metadata": {},
   "outputs": [
    {
     "data": {
      "image/png": "[encoded data removed]",
      "text/plain": [
       "<Figure size 432x216 with 1 Axes>"
      ]
     },
     "metadata": {},
     "output_type": "display_data"
    }
   ],
   "source": [
    "(\n",
    "    data['last_price']\n",
    "        .sort_values()\n",
    "        .plot(y='last_price', kind='hist', \n",
    "              bins=100, range=(0,100), grid=True, title='Гистограмма распределения показателя \"Цена объекта\"', figsize=(6,3))        \n",
    "        .set( ylabel = 'кол-во записей', xlabel = 'Цена объекта')\n",
    ");"
   ]
  },
  {
   "cell_type": "markdown",
   "metadata": {},
   "source": [
    "Распределение по прежнему имеет длинный \"хвост\", для того, чтобы привести выборку к нормальному распределению можем отбросить все значения выше 40 млн."
   ]
  },
  {
   "cell_type": "code",
   "execution_count": 21,
   "metadata": {},
   "outputs": [
    {
     "data": {
      "image/png": "[encoded data removed]",
      "text/plain": [
       "<Figure size 432x216 with 1 Axes>"
      ]
     },
     "metadata": {},
     "output_type": "display_data"
    }
   ],
   "source": [
    "data=data[data['last_price']<40]\n",
    "(\n",
    "    data['last_price']\n",
    "        .sort_values()\n",
    "        .plot(y='last_price', kind='hist', \n",
    "              bins=100, range=(0,40), grid=True, title='Гистограмма распределения показателя \"Цена объекта\"', figsize=(6,3))        \n",
    "        .set( ylabel = 'кол-во записей', xlabel = 'Цена объекта')\n",
    ");"
   ]
  },
  {
   "cell_type": "code",
   "execution_count": 22,
   "metadata": {},
   "outputs": [
    {
     "data": {
      "image/png": "[encoded data removed]",
      "text/plain": [
       "<Figure size 432x216 with 1 Axes>"
      ]
     },
     "metadata": {},
     "output_type": "display_data"
    }
   ],
   "source": [
    "(\n",
    "    data['total_area']\n",
    "        .sort_values()\n",
    "        .plot(y='total_area', kind='hist', \n",
    "              bins=100, range=(0,470), grid=True, title='Гистограмма распределения показателя \"Общая площадь\"', figsize=(6,3))        \n",
    "        .set( ylabel = 'кол-во записей', xlabel = 'Общая площадь')\n",
    ");"
   ]
  },
  {
   "cell_type": "markdown",
   "metadata": {},
   "source": [
    " На графике чётко видно, что после 200м квартир практически нет. В данном случае аномальными значениями можно считать все квартиры больше 200 м. Значит эти значения нужно отбросить."
   ]
  },
  {
   "cell_type": "code",
   "execution_count": 23,
   "metadata": {},
   "outputs": [
    {
     "data": {
      "image/png": "[encoded data removed]",
      "text/plain": [
       "<Figure size 432x216 with 1 Axes>"
      ]
     },
     "metadata": {},
     "output_type": "display_data"
    }
   ],
   "source": [
    "data=data[data['total_area']<200]\n",
    "(\n",
    "    data['total_area']\n",
    "        .sort_values()\n",
    "        .plot(y='total_area', kind='hist', \n",
    "              bins=100, range=(0,200), grid=True, title='Гистограмма распределения показателя \"Общая площадь\"', figsize=(6,3))        \n",
    "        .set( ylabel = 'кол-во записей', xlabel = 'Общая площадь')\n",
    ");"
   ]
  },
  {
   "cell_type": "code",
   "execution_count": 24,
   "metadata": {},
   "outputs": [
    {
     "data": {
      "image/png": "[encoded data removed]",
      "text/plain": [
       "<Figure size 432x216 with 1 Axes>"
      ]
     },
     "metadata": {},
     "output_type": "display_data"
    }
   ],
   "source": [
    "(\n",
    "    data['living_area']\n",
    "        .sort_values()\n",
    "        .plot(y='living_area', kind='hist', \n",
    "              bins=100, range=(0,125), grid=True, title='Гистограмма распределения показателя \"Жилая площадь\"', figsize=(6,3))        \n",
    "        .set( ylabel = 'кол-во записей', xlabel = 'Жилая площадь')\n",
    ");"
   ]
  },
  {
   "cell_type": "code",
   "execution_count": 25,
   "metadata": {},
   "outputs": [
    {
     "data": {
      "image/png": "[encoded data removed]",
      "text/plain": [
       "<Figure size 432x216 with 1 Axes>"
      ]
     },
     "metadata": {},
     "output_type": "display_data"
    }
   ],
   "source": [
    "(\n",
    "    data['kitchen_area']\n",
    "        .sort_values()\n",
    "        .plot(y='kitchen_area', kind='hist', \n",
    "              bins=100, range=(0,50), grid=True, title='Гистограмма распределения показателя \"Площадь кухни\"', figsize=(6,3))        \n",
    "        .set( ylabel = 'кол-во записей', xlabel = 'Площадь кухни')\n",
    ");"
   ]
  },
  {
   "cell_type": "code",
   "execution_count": 26,
   "metadata": {
    "scrolled": true
   },
   "outputs": [
    {
     "data": {
      "image/png": "[encoded data removed]",
      "text/plain": [
       "<Figure size 432x216 with 1 Axes>"
      ]
     },
     "metadata": {},
     "output_type": "display_data"
    }
   ],
   "source": [
    "# Построим гистограмму для каждого столбца таблицы после подготовки данных\n",
    "(\n",
    "    data['total_images']\n",
    "        .sort_values()\n",
    "        .plot(y='total_images', kind='hist', \n",
    "              bins=100, range=(0,50), grid=True, title='Гистограмма распределения показателя \"Кол-во изображений\"', figsize=(6,3))        \n",
    "        .set( ylabel = 'кол-во записей', xlabel = 'Кол-во изображений')\n",
    ");"
   ]
  },
  {
   "cell_type": "markdown",
   "metadata": {},
   "source": [
    "Большое кол-во выбросов для значения \"20\", эти данные могут влиять на расчет характеристик выборки (среднего). Однако, удалять записи является нецелесообразным, т.к это существенный объем данных (более 1000 записей или более 5% )."
   ]
  },
  {
   "cell_type": "code",
   "execution_count": 27,
   "metadata": {},
   "outputs": [
    {
     "name": "stdout",
     "output_type": "stream",
     "text": [
      "Среднее кол-во изображений в объявлении 9.75\n",
      "Медианное кол-во изображений в объявлении 9.0\n",
      "Среднее кол-во изображений в объявлении после устранения выбросов 8.96\n",
      "Медианное кол-во изображений в объявлении после устранения выбросов 9.0\n"
     ]
    }
   ],
   "source": [
    "print('Среднее кол-во изображений в объявлении', data['total_images'].mean().round(2))\n",
    "print('Медианное кол-во изображений в объявлении', data['total_images'].median())\n",
    "\n",
    "print('Среднее кол-во изображений в объявлении после устранения выбросов', data[data['total_images'] < 20 ]['total_images'].mean().round(2))\n",
    "print('Медианное кол-во изображений в объявлении после устранения выбросов',data[data['total_images'] < 20 ]['total_images'].median())"
   ]
  },
  {
   "cell_type": "code",
   "execution_count": 28,
   "metadata": {},
   "outputs": [
    {
     "data": {
      "image/png": "[encoded data removed]",
      "text/plain": [
       "<Figure size 432x216 with 1 Axes>"
      ]
     },
     "metadata": {},
     "output_type": "display_data"
    }
   ],
   "source": [
    "(\n",
    "    data['ceiling_height']\n",
    "        .sort_values()\n",
    "        .plot(y='ceiling_height', kind='hist', \n",
    "              bins=100, range=(1,5), grid=True, title='Гистограмма распределения показателя \"Высота потолков\"', figsize=(6,3))        \n",
    "        .set( ylabel = 'кол-во записей', xlabel = 'Высота потолков')\n",
    ");"
   ]
  },
  {
   "cell_type": "markdown",
   "metadata": {},
   "source": [
    "Гистограмма распределения нормально распределена, поскольку мы ранее удаляли все значения выше 3 м. "
   ]
  },
  {
   "cell_type": "code",
   "execution_count": 29,
   "metadata": {},
   "outputs": [
    {
     "data": {
      "image/png": "[encoded data removed]",
      "text/plain": [
       "<Figure size 432x216 with 1 Axes>"
      ]
     },
     "metadata": {},
     "output_type": "display_data"
    }
   ],
   "source": [
    "(\n",
    "    data['rooms']\n",
    "        .sort_values()\n",
    "        .plot(y='rooms', kind='hist', \n",
    "              bins=100, range=(0,19), grid=True, title='Гистограмма распределения показателя \"Кол-во комнат\"', figsize=(6,3))        \n",
    "        .set( ylabel = 'кол-во записей', xlabel = 'Кол-во комнат')\n",
    ");"
   ]
  },
  {
   "cell_type": "markdown",
   "metadata": {},
   "source": [
    "Гистограмма нормально распределена, аномалий нет"
   ]
  },
  {
   "cell_type": "code",
   "execution_count": 30,
   "metadata": {},
   "outputs": [
    {
     "data": {
      "image/png": "[encoded data removed]",
      "text/plain": [
       "<Figure size 432x216 with 1 Axes>"
      ]
     },
     "metadata": {},
     "output_type": "display_data"
    }
   ],
   "source": [
    "(\n",
    "    data['balcony']\n",
    "        .sort_values()\n",
    "        .plot(y='balcony', kind='hist', \n",
    "              bins=100, range=(0,5), grid=True, title='Гистограмма распределения показателя \"Кол-во балконов\"', figsize=(6,3))        \n",
    "        .set( ylabel = 'кол-во записей', xlabel = 'Кол-во балконов')\n",
    ");"
   ]
  },
  {
   "cell_type": "markdown",
   "metadata": {},
   "source": [
    "Гистограмма нормально распределена, аномалий нет"
   ]
  },
  {
   "cell_type": "code",
   "execution_count": 31,
   "metadata": {},
   "outputs": [
    {
     "data": {
      "image/png": "[encoded data removed]",
      "text/plain": [
       "<Figure size 432x216 with 1 Axes>"
      ]
     },
     "metadata": {},
     "output_type": "display_data"
    }
   ],
   "source": [
    "(\n",
    "    data['floors_total']\n",
    "        .sort_values()\n",
    "        .plot(y='floors_total', kind='hist', \n",
    "              bins=100, range=(0,60), grid=True, title='Гистограмма распределения показателя \"Кол-во этажей в доме\"', figsize=(6,3))        \n",
    "        .set( ylabel = 'кол-во записей', xlabel = 'Кол-во этажей')\n",
    ");"
   ]
  },
  {
   "cell_type": "markdown",
   "metadata": {},
   "source": [
    "На графике видно что после 30 практически нет значений, можно ограничить выборку этажностью дома до 30"
   ]
  },
  {
   "cell_type": "code",
   "execution_count": 32,
   "metadata": {},
   "outputs": [
    {
     "data": {
      "image/png": "[encoded data removed]",
      "text/plain": [
       "<Figure size 432x216 with 1 Axes>"
      ]
     },
     "metadata": {},
     "output_type": "display_data"
    }
   ],
   "source": [
    "data=data[data['floors_total']<30]\n",
    "\n",
    "(\n",
    "    data['floors_total']\n",
    "        .sort_values()\n",
    "        .plot(y='floors_total', kind='hist', \n",
    "              bins=100, range=(0,30), grid=True, title='Гистограмма распределения показателя \"Кол-во этажей в доме\"', figsize=(6,3))        \n",
    "        .set( ylabel = 'кол-во записей', xlabel = 'Кол-во этажей')\n",
    ");"
   ]
  },
  {
   "cell_type": "code",
   "execution_count": 33,
   "metadata": {},
   "outputs": [
    {
     "data": {
      "image/png": "[encoded data removed]",
      "text/plain": [
       "<Figure size 432x216 with 1 Axes>"
      ]
     },
     "metadata": {},
     "output_type": "display_data"
    }
   ],
   "source": [
    "(\n",
    "    data['floor']\n",
    "        .sort_values()\n",
    "        .plot(y='floor', kind='hist', \n",
    "              bins=100, range=(0,33), grid=True, title='Гистограмма распределения показателя \"Этаж квартиры\"', figsize=(6,3))        \n",
    "        .set( ylabel = 'кол-во записей', xlabel = 'Этаж квартиры')\n",
    ");"
   ]
  },
  {
   "cell_type": "markdown",
   "metadata": {},
   "source": [
    "Гистограмма нормального распределения, аномалий нет"
   ]
  },
  {
   "cell_type": "code",
   "execution_count": 34,
   "metadata": {},
   "outputs": [
    {
     "data": {
      "image/png": "[encoded data removed]",
      "text/plain": [
       "<Figure size 432x216 with 1 Axes>"
      ]
     },
     "metadata": {},
     "output_type": "display_data"
    }
   ],
   "source": [
    "(\n",
    "    data['parks_around3000']\n",
    "        .sort_values()\n",
    "        .plot(y='parks_around3000', kind='hist', \n",
    "              bins=100, grid=True, title='Гистограмма распределения показателя \"Кол-во парков в радиусе 3 км\"', figsize=(6,3))        \n",
    "        .set( ylabel = 'кол-во записей', xlabel = 'Кол-во парков в радиусе 3 км\"')\n",
    ");"
   ]
  },
  {
   "cell_type": "markdown",
   "metadata": {},
   "source": [
    "Гистограмма распределения Пуассона, аномалий нет"
   ]
  },
  {
   "cell_type": "code",
   "execution_count": 35,
   "metadata": {},
   "outputs": [
    {
     "data": {
      "image/png": "[encoded data removed]",
      "text/plain": [
       "<Figure size 432x216 with 1 Axes>"
      ]
     },
     "metadata": {},
     "output_type": "display_data"
    }
   ],
   "source": [
    "(\n",
    "    data['ponds_around3000']\n",
    "        .sort_values()\n",
    "        .plot(y='ponds_around3000', kind='hist', \n",
    "              bins=100, grid=True, title='Гистограмма распределения показателя \"Кол-во водоемов в радиусе 3 км\"', figsize=(6,3))        \n",
    "        .set( ylabel = 'кол-во записей', xlabel = 'Кол-во водоемов в радиусе 3 км\"')\n",
    ");"
   ]
  },
  {
   "cell_type": "code",
   "execution_count": 36,
   "metadata": {},
   "outputs": [
    {
     "data": {
      "image/png": "[encoded data removed]",
      "text/plain": [
       "<Figure size 432x216 with 1 Axes>"
      ]
     },
     "metadata": {},
     "output_type": "display_data"
    }
   ],
   "source": [
    "(\n",
    "    data['first_day_exposition']\n",
    "        .hist(bins=100, grid=True, figsize=(6,3))\n",
    ");"
   ]
  },
  {
   "cell_type": "markdown",
   "metadata": {},
   "source": [
    "Данные нельзя описать каким-то распределением"
   ]
  },
  {
   "cell_type": "code",
   "execution_count": 37,
   "metadata": {},
   "outputs": [
    {
     "data": {
      "image/png": "[encoded data removed]",
      "text/plain": [
       "<Figure size 432x216 with 1 Axes>"
      ]
     },
     "metadata": {},
     "output_type": "display_data"
    }
   ],
   "source": [
    "(\n",
    "    data['parks_nearest']\n",
    "        .hist(bins=10,grid=True, figsize=(6,3))\n",
    ");"
   ]
  },
  {
   "cell_type": "code",
   "execution_count": 38,
   "metadata": {},
   "outputs": [
    {
     "data": {
      "image/png": "[encoded data removed]",
      "text/plain": [
       "<Figure size 432x216 with 1 Axes>"
      ]
     },
     "metadata": {},
     "output_type": "display_data"
    }
   ],
   "source": [
    "(\n",
    "    data['ponds_nearest']\n",
    "        .hist(bins=10, grid=True, figsize=(6,3))\n",
    ");"
   ]
  },
  {
   "cell_type": "code",
   "execution_count": 39,
   "metadata": {},
   "outputs": [
    {
     "data": {
      "image/png": "[encoded data removed]",
      "text/plain": [
       "<Figure size 432x216 with 1 Axes>"
      ]
     },
     "metadata": {},
     "output_type": "display_data"
    }
   ],
   "source": [
    "(\n",
    "    data['days_exposition']\n",
    "        .hist(bins=100, grid=True, figsize=(6,3))\n",
    ");"
   ]
  },
  {
   "cell_type": "markdown",
   "metadata": {},
   "source": [
    "Данные можно описать распределением Пуассона"
   ]
  },
  {
   "cell_type": "code",
   "execution_count": 40,
   "metadata": {},
   "outputs": [
    {
     "data": {
      "image/png": "[encoded data removed]",
      "text/plain": [
       "<Figure size 432x216 with 1 Axes>"
      ]
     },
     "metadata": {},
     "output_type": "display_data"
    }
   ],
   "source": [
    "(\n",
    "    data['price_per_square_meter']\n",
    "        .hist(bins=100, grid=True, figsize=(6,3))\n",
    ");"
   ]
  },
  {
   "cell_type": "markdown",
   "metadata": {},
   "source": [
    "Нормальное распределение"
   ]
  },
  {
   "cell_type": "code",
   "execution_count": 41,
   "metadata": {},
   "outputs": [
    {
     "data": {
      "image/png": "[encoded data removed]",
      "text/plain": [
       "<Figure size 432x216 with 1 Axes>"
      ]
     },
     "metadata": {},
     "output_type": "display_data"
    }
   ],
   "source": [
    "(\n",
    "    data['weekday_exposition']\n",
    "        .hist(bins=100, grid=True, figsize=(6,3))\n",
    ");"
   ]
  },
  {
   "cell_type": "code",
   "execution_count": 42,
   "metadata": {},
   "outputs": [
    {
     "data": {
      "image/png": "[encoded data removed]",
      "text/plain": [
       "<Figure size 432x216 with 1 Axes>"
      ]
     },
     "metadata": {},
     "output_type": "display_data"
    }
   ],
   "source": [
    "(\n",
    "    data['month_exposition']\n",
    "        .hist(bins=100, grid=True, figsize=(6,3))\n",
    ");"
   ]
  },
  {
   "cell_type": "code",
   "execution_count": 43,
   "metadata": {},
   "outputs": [
    {
     "data": {
      "image/png": "[encoded data removed]",
      "text/plain": [
       "<Figure size 432x216 with 1 Axes>"
      ]
     },
     "metadata": {},
     "output_type": "display_data"
    }
   ],
   "source": [
    "(\n",
    "    data['year_exposition']\n",
    "        .hist(bins=100, grid=True, figsize=(6,3))\n",
    ");"
   ]
  },
  {
   "cell_type": "code",
   "execution_count": 44,
   "metadata": {},
   "outputs": [
    {
     "data": {
      "image/png": "[encoded data removed]",
      "text/plain": [
       "<Figure size 432x216 with 1 Axes>"
      ]
     },
     "metadata": {},
     "output_type": "display_data"
    }
   ],
   "source": [
    "(\n",
    "    data['floor_category']\n",
    "        .hist(bins=100, grid=True, figsize=(6,3))\n",
    ");"
   ]
  },
  {
   "cell_type": "code",
   "execution_count": 45,
   "metadata": {},
   "outputs": [
    {
     "data": {
      "image/png": "[encoded data removed]",
      "text/plain": [
       "<Figure size 432x216 with 1 Axes>"
      ]
     },
     "metadata": {},
     "output_type": "display_data"
    }
   ],
   "source": [
    "(\n",
    "    data['floor_category_digit']\n",
    "        .hist(bins=100, grid=True, figsize=(6,3))\n",
    ");"
   ]
  },
  {
   "cell_type": "code",
   "execution_count": 46,
   "metadata": {},
   "outputs": [
    {
     "data": {
      "image/png": "[encoded data removed]",
      "text/plain": [
       "<Figure size 432x216 with 1 Axes>"
      ]
     },
     "metadata": {},
     "output_type": "display_data"
    }
   ],
   "source": [
    "(\n",
    "    data['cityCenters_nearest_km']\n",
    "        .hist(bins=100, grid=True, figsize=(6,3))\n",
    ");"
   ]
  },
  {
   "cell_type": "markdown",
   "metadata": {},
   "source": [
    "Гистограмма распределения Пуассона, аномалий нет"
   ]
  },
  {
   "cell_type": "code",
   "execution_count": 47,
   "metadata": {},
   "outputs": [
    {
     "data": {
      "text/html": [
       "<div>\n",
       "<style scoped>\n",
       "    .dataframe tbody tr th:only-of-type {\n",
       "        vertical-align: middle;\n",
       "    }\n",
       "\n",
       "    .dataframe tbody tr th {\n",
       "        vertical-align: top;\n",
       "    }\n",
       "\n",
       "    .dataframe thead th {\n",
       "        text-align: right;\n",
       "    }\n",
       "</style>\n",
       "<table border=\"1\" class=\"dataframe\">\n",
       "  <thead>\n",
       "    <tr style=\"text-align: right;\">\n",
       "      <th></th>\n",
       "      <th>total_images</th>\n",
       "      <th>last_price</th>\n",
       "      <th>total_area</th>\n",
       "      <th>rooms</th>\n",
       "      <th>ceiling_height</th>\n",
       "      <th>floors_total</th>\n",
       "      <th>living_area</th>\n",
       "      <th>floor</th>\n",
       "      <th>kitchen_area</th>\n",
       "      <th>balcony</th>\n",
       "      <th>...</th>\n",
       "      <th>parks_nearest</th>\n",
       "      <th>ponds_around3000</th>\n",
       "      <th>ponds_nearest</th>\n",
       "      <th>days_exposition</th>\n",
       "      <th>price_per_square_meter</th>\n",
       "      <th>weekday_exposition</th>\n",
       "      <th>month_exposition</th>\n",
       "      <th>year_exposition</th>\n",
       "      <th>floor_category_digit</th>\n",
       "      <th>cityCenters_nearest_km</th>\n",
       "    </tr>\n",
       "  </thead>\n",
       "  <tbody>\n",
       "    <tr>\n",
       "      <th>count</th>\n",
       "      <td>20822.000000</td>\n",
       "      <td>20822.000000</td>\n",
       "      <td>20822.000000</td>\n",
       "      <td>20822.000000</td>\n",
       "      <td>20822.00000</td>\n",
       "      <td>20822.000000</td>\n",
       "      <td>20822.000000</td>\n",
       "      <td>20822.000000</td>\n",
       "      <td>20688.000000</td>\n",
       "      <td>20822.000000</td>\n",
       "      <td>...</td>\n",
       "      <td>14541.000000</td>\n",
       "      <td>20822.000000</td>\n",
       "      <td>13452.0</td>\n",
       "      <td>18265.000000</td>\n",
       "      <td>20822.000000</td>\n",
       "      <td>20822.000000</td>\n",
       "      <td>20822.000000</td>\n",
       "      <td>20822.000000</td>\n",
       "      <td>20822.000000</td>\n",
       "      <td>15505.000000</td>\n",
       "    </tr>\n",
       "    <tr>\n",
       "      <th>mean</th>\n",
       "      <td>9.764192</td>\n",
       "      <td>5.229850</td>\n",
       "      <td>54.747160</td>\n",
       "      <td>1.953703</td>\n",
       "      <td>2.68519</td>\n",
       "      <td>11.132840</td>\n",
       "      <td>31.243650</td>\n",
       "      <td>6.081212</td>\n",
       "      <td>8.989403</td>\n",
       "      <td>0.616463</td>\n",
       "      <td>...</td>\n",
       "      <td>0.649474</td>\n",
       "      <td>0.514936</td>\n",
       "      <td>0.0</td>\n",
       "      <td>172.050643</td>\n",
       "      <td>93831.106282</td>\n",
       "      <td>2.581596</td>\n",
       "      <td>6.411392</td>\n",
       "      <td>2017.377870</td>\n",
       "      <td>0.876477</td>\n",
       "      <td>15.156143</td>\n",
       "    </tr>\n",
       "    <tr>\n",
       "      <th>std</th>\n",
       "      <td>5.618237</td>\n",
       "      <td>3.522564</td>\n",
       "      <td>22.703513</td>\n",
       "      <td>0.940152</td>\n",
       "      <td>0.11570</td>\n",
       "      <td>6.605731</td>\n",
       "      <td>14.922111</td>\n",
       "      <td>4.969557</td>\n",
       "      <td>5.181147</td>\n",
       "      <td>0.962659</td>\n",
       "      <td>...</td>\n",
       "      <td>45.221572</td>\n",
       "      <td>0.812847</td>\n",
       "      <td>0.0</td>\n",
       "      <td>210.331111</td>\n",
       "      <td>33752.303544</td>\n",
       "      <td>1.794372</td>\n",
       "      <td>3.490029</td>\n",
       "      <td>1.024856</td>\n",
       "      <td>0.329045</td>\n",
       "      <td>8.333814</td>\n",
       "    </tr>\n",
       "    <tr>\n",
       "      <th>min</th>\n",
       "      <td>0.000000</td>\n",
       "      <td>0.012190</td>\n",
       "      <td>12.000000</td>\n",
       "      <td>0.000000</td>\n",
       "      <td>1.00000</td>\n",
       "      <td>1.000000</td>\n",
       "      <td>2.000000</td>\n",
       "      <td>1.000000</td>\n",
       "      <td>0.000000</td>\n",
       "      <td>0.000000</td>\n",
       "      <td>...</td>\n",
       "      <td>0.000000</td>\n",
       "      <td>0.000000</td>\n",
       "      <td>0.0</td>\n",
       "      <td>1.000000</td>\n",
       "      <td>111.000000</td>\n",
       "      <td>0.000000</td>\n",
       "      <td>1.000000</td>\n",
       "      <td>2014.000000</td>\n",
       "      <td>0.000000</td>\n",
       "      <td>0.000000</td>\n",
       "    </tr>\n",
       "    <tr>\n",
       "      <th>25%</th>\n",
       "      <td>6.000000</td>\n",
       "      <td>3.300000</td>\n",
       "      <td>39.000000</td>\n",
       "      <td>1.000000</td>\n",
       "      <td>2.60000</td>\n",
       "      <td>5.000000</td>\n",
       "      <td>18.400000</td>\n",
       "      <td>2.000000</td>\n",
       "      <td>6.200000</td>\n",
       "      <td>0.000000</td>\n",
       "      <td>...</td>\n",
       "      <td>0.000000</td>\n",
       "      <td>0.000000</td>\n",
       "      <td>0.0</td>\n",
       "      <td>44.000000</td>\n",
       "      <td>74667.000000</td>\n",
       "      <td>1.000000</td>\n",
       "      <td>3.000000</td>\n",
       "      <td>2017.000000</td>\n",
       "      <td>1.000000</td>\n",
       "      <td>11.000000</td>\n",
       "    </tr>\n",
       "    <tr>\n",
       "      <th>50%</th>\n",
       "      <td>9.000000</td>\n",
       "      <td>4.399000</td>\n",
       "      <td>49.100000</td>\n",
       "      <td>2.000000</td>\n",
       "      <td>2.77000</td>\n",
       "      <td>9.000000</td>\n",
       "      <td>29.100000</td>\n",
       "      <td>5.000000</td>\n",
       "      <td>8.500000</td>\n",
       "      <td>0.000000</td>\n",
       "      <td>...</td>\n",
       "      <td>0.000000</td>\n",
       "      <td>0.000000</td>\n",
       "      <td>0.0</td>\n",
       "      <td>91.000000</td>\n",
       "      <td>93023.000000</td>\n",
       "      <td>3.000000</td>\n",
       "      <td>6.000000</td>\n",
       "      <td>2017.000000</td>\n",
       "      <td>1.000000</td>\n",
       "      <td>14.000000</td>\n",
       "    </tr>\n",
       "    <tr>\n",
       "      <th>75%</th>\n",
       "      <td>14.000000</td>\n",
       "      <td>6.000000</td>\n",
       "      <td>64.100000</td>\n",
       "      <td>3.000000</td>\n",
       "      <td>2.77000</td>\n",
       "      <td>16.000000</td>\n",
       "      <td>39.707500</td>\n",
       "      <td>8.000000</td>\n",
       "      <td>11.000000</td>\n",
       "      <td>1.000000</td>\n",
       "      <td>...</td>\n",
       "      <td>0.000000</td>\n",
       "      <td>1.000000</td>\n",
       "      <td>0.0</td>\n",
       "      <td>217.000000</td>\n",
       "      <td>110596.250000</td>\n",
       "      <td>4.000000</td>\n",
       "      <td>10.000000</td>\n",
       "      <td>2018.000000</td>\n",
       "      <td>1.000000</td>\n",
       "      <td>17.000000</td>\n",
       "    </tr>\n",
       "    <tr>\n",
       "      <th>max</th>\n",
       "      <td>50.000000</td>\n",
       "      <td>39.773280</td>\n",
       "      <td>199.200000</td>\n",
       "      <td>8.000000</td>\n",
       "      <td>2.99000</td>\n",
       "      <td>29.000000</td>\n",
       "      <td>159.600000</td>\n",
       "      <td>27.000000</td>\n",
       "      <td>65.000000</td>\n",
       "      <td>5.000000</td>\n",
       "      <td>...</td>\n",
       "      <td>3190.000000</td>\n",
       "      <td>3.000000</td>\n",
       "      <td>0.0</td>\n",
       "      <td>1580.000000</td>\n",
       "      <td>640422.000000</td>\n",
       "      <td>6.000000</td>\n",
       "      <td>12.000000</td>\n",
       "      <td>2019.000000</td>\n",
       "      <td>1.000000</td>\n",
       "      <td>66.000000</td>\n",
       "    </tr>\n",
       "  </tbody>\n",
       "</table>\n",
       "<p>8 rows × 23 columns</p>\n",
       "</div>"
      ],
      "text/plain": [
       "       total_images    last_price    total_area         rooms  ceiling_height  \\\n",
       "count  20822.000000  20822.000000  20822.000000  20822.000000     20822.00000   \n",
       "mean       9.764192      5.229850     54.747160      1.953703         2.68519   \n",
       "std        5.618237      3.522564     22.703513      0.940152         0.11570   \n",
       "min        0.000000      0.012190     12.000000      0.000000         1.00000   \n",
       "25%        6.000000      3.300000     39.000000      1.000000         2.60000   \n",
       "50%        9.000000      4.399000     49.100000      2.000000         2.77000   \n",
       "75%       14.000000      6.000000     64.100000      3.000000         2.77000   \n",
       "max       50.000000     39.773280    199.200000      8.000000         2.99000   \n",
       "\n",
       "       floors_total   living_area         floor  kitchen_area       balcony  \\\n",
       "count  20822.000000  20822.000000  20822.000000  20688.000000  20822.000000   \n",
       "mean      11.132840     31.243650      6.081212      8.989403      0.616463   \n",
       "std        6.605731     14.922111      4.969557      5.181147      0.962659   \n",
       "min        1.000000      2.000000      1.000000      0.000000      0.000000   \n",
       "25%        5.000000     18.400000      2.000000      6.200000      0.000000   \n",
       "50%        9.000000     29.100000      5.000000      8.500000      0.000000   \n",
       "75%       16.000000     39.707500      8.000000     11.000000      1.000000   \n",
       "max       29.000000    159.600000     27.000000     65.000000      5.000000   \n",
       "\n",
       "       ...  parks_nearest  ponds_around3000  ponds_nearest  days_exposition  \\\n",
       "count  ...   14541.000000      20822.000000        13452.0     18265.000000   \n",
       "mean   ...       0.649474          0.514936            0.0       172.050643   \n",
       "std    ...      45.221572          0.812847            0.0       210.331111   \n",
       "min    ...       0.000000          0.000000            0.0         1.000000   \n",
       "25%    ...       0.000000          0.000000            0.0        44.000000   \n",
       "50%    ...       0.000000          0.000000            0.0        91.000000   \n",
       "75%    ...       0.000000          1.000000            0.0       217.000000   \n",
       "max    ...    3190.000000          3.000000            0.0      1580.000000   \n",
       "\n",
       "       price_per_square_meter  weekday_exposition  month_exposition  \\\n",
       "count            20822.000000        20822.000000      20822.000000   \n",
       "mean             93831.106282            2.581596          6.411392   \n",
       "std              33752.303544            1.794372          3.490029   \n",
       "min                111.000000            0.000000          1.000000   \n",
       "25%              74667.000000            1.000000          3.000000   \n",
       "50%              93023.000000            3.000000          6.000000   \n",
       "75%             110596.250000            4.000000         10.000000   \n",
       "max             640422.000000            6.000000         12.000000   \n",
       "\n",
       "       year_exposition  floor_category_digit  cityCenters_nearest_km  \n",
       "count     20822.000000          20822.000000            15505.000000  \n",
       "mean       2017.377870              0.876477               15.156143  \n",
       "std           1.024856              0.329045                8.333814  \n",
       "min        2014.000000              0.000000                0.000000  \n",
       "25%        2017.000000              1.000000               11.000000  \n",
       "50%        2017.000000              1.000000               14.000000  \n",
       "75%        2018.000000              1.000000               17.000000  \n",
       "max        2019.000000              1.000000               66.000000  \n",
       "\n",
       "[8 rows x 23 columns]"
      ]
     },
     "execution_count": 47,
     "metadata": {},
     "output_type": "execute_result"
    }
   ],
   "source": [
    "data.describe()"
   ]
  },
  {
   "cell_type": "markdown",
   "metadata": {},
   "source": [
    "После устранения аномалий кол-во значений в выборке снизилось до 20822 с 23699, т.е. на 12%. Это допустимое значение."
   ]
  },
  {
   "cell_type": "code",
   "execution_count": 48,
   "metadata": {},
   "outputs": [
    {
     "name": "stdout",
     "output_type": "stream",
     "text": [
      "count    18265.000000\n",
      "mean       172.050643\n",
      "std        210.331111\n",
      "min          1.000000\n",
      "25%         44.000000\n",
      "50%         91.000000\n",
      "75%        217.000000\n",
      "max       1580.000000\n",
      "Name: days_exposition, dtype: float64\n"
     ]
    },
    {
     "data": {
      "image/png": "[encoded data removed]",
      "text/plain": [
       "<Figure size 432x288 with 1 Axes>"
      ]
     },
     "metadata": {},
     "output_type": "display_data"
    }
   ],
   "source": [
    "#Изучаем как быстро продавались квартиры\n",
    "data['days_exposition'].hist().set( ylabel = 'кол-во записей', xlabel = 'Кол-во дней размещения объявления')\n",
    "print(data['days_exposition'].describe())"
   ]
  },
  {
   "cell_type": "markdown",
   "metadata": {},
   "source": [
    "- Продажа обычно занимает 91 дней (50%-квартиль)\n",
    "- Продажи более 217 дней считаются долгими (75%-квартиль)\n",
    "- Продажи менее 44 дней - быстрыми (25%-квартиль)"
   ]
  },
  {
   "cell_type": "code",
   "execution_count": 49,
   "metadata": {},
   "outputs": [
    {
     "data": {
      "text/plain": [
       "[Text(0, 0.5, 'кол-во записей'),\n",
       " Text(0.5, 0, 'Кол-во дней размещения объявления')]"
      ]
     },
     "execution_count": 49,
     "metadata": {},
     "output_type": "execute_result"
    },
    {
     "data": {
      "image/png": "[encoded data removed]",
      "text/plain": [
       "<Figure size 648x216 with 1 Axes>"
      ]
     },
     "metadata": {},
     "output_type": "display_data"
    }
   ],
   "source": [
    "data['days_exposition'].hist(bins=100,range=(0,100),figsize = (9,3)).set( ylabel = 'кол-во записей', xlabel = 'Кол-во дней размещения объявления')"
   ]
  },
  {
   "cell_type": "code",
   "execution_count": 50,
   "metadata": {},
   "outputs": [
    {
     "name": "stdout",
     "output_type": "stream",
     "text": [
      "Прослеживается явная зависимость стоимости стоимости квартиры от ее общей площади. Корреляция между показателями составляет: 0.763\n",
      "Прослеживается явная зависимость стоимости стоимости квартиры от ее жилой площади. Корреляция между показателями составляет: 0.651\n",
      "Прослеживается некоторая зависимость стоимости стоимости квартиры от площади кухни. Корреляция между показателями составляет: 0.474 \n",
      "Прослеживается некоторая зависимость стоимости стоимости квартиры от кол-ва комнат. Корреляция между показателями составляет: 0.462\n"
     ]
    },
    {
     "data": {
      "image/png": "[encoded data removed]",
      "text/plain": [
       "<Figure size 432x216 with 1 Axes>"
      ]
     },
     "metadata": {},
     "output_type": "display_data"
    },
    {
     "data": {
      "image/png": "[encoded data removed]",
      "text/plain": [
       "<Figure size 432x216 with 1 Axes>"
      ]
     },
     "metadata": {},
     "output_type": "display_data"
    },
    {
     "data": {
      "image/png": "[encoded data removed]",
      "text/plain": [
       "<Figure size 432x216 with 1 Axes>"
      ]
     },
     "metadata": {},
     "output_type": "display_data"
    },
    {
     "data": {
      "image/png": "[encoded data removed]",
      "text/plain": [
       "<Figure size 432x216 with 1 Axes>"
      ]
     },
     "metadata": {},
     "output_type": "display_data"
    }
   ],
   "source": [
    "data = data[data['last_price']<500] #Удаляем выбросы по ценам\n",
    "data = data[data['total_area']<800] #Удаляем выбросы по площади\n",
    "data.plot(title = 'Зависимость цены от общей площади', x='total_area', y='last_price', style = 'o', grid=True, figsize=(6,3))\n",
    "corr_price_area = data['last_price'].corr(data['total_area']).round(3)\n",
    "print('Прослеживается явная зависимость стоимости стоимости квартиры от ее общей площади. Корреляция между показателями составляет:',corr_price_area)\n",
    "\n",
    "data.plot(title = 'Зависимость цены от жилой площади', x='living_area', y='last_price', style = 'o', grid=True, figsize = (6,3))\n",
    "corr_price_area_live = data['last_price'].corr(data['living_area']).round(3)\n",
    "\n",
    "print('Прослеживается явная зависимость стоимости стоимости квартиры от ее жилой площади. Корреляция между показателями составляет:',corr_price_area_live)\n",
    "\n",
    "data.plot(title = 'Зависимость цены от площади кухни', x='kitchen_area', y='last_price', style = 'o', grid=True, figsize = (6,3))\n",
    "corr_price_area_kitch = data['last_price'].corr(data['kitchen_area']).round(3)\n",
    "\n",
    "print('Прослеживается некоторая зависимость стоимости стоимости квартиры от площади кухни. Корреляция между показателями составляет:',corr_price_area_kitch, '')\n",
    "\n",
    "data.plot(title = 'Зависимость цены от кол-ва комнат', x='rooms', y='last_price', style = 'o', grid=True, figsize = (6,3))\n",
    "corr_price_area_rooms = data['last_price'].corr(data['rooms']).round(3)\n",
    "\n",
    "print('Прослеживается некоторая зависимость стоимости стоимости квартиры от кол-ва комнат. Корреляция между показателями составляет:',corr_price_area_rooms)\n"
   ]
  },
  {
   "cell_type": "code",
   "execution_count": 51,
   "metadata": {},
   "outputs": [
    {
     "data": {
      "image/png": "[encoded data removed]",
      "text/plain": [
       "<Figure size 432x288 with 1 Axes>"
      ]
     },
     "metadata": {},
     "output_type": "display_data"
    }
   ],
   "source": [
    "#код ревьюера\n",
    "data2 = pd.read_csv('/datasets/real_estate_data.csv', sep='\\t')\n",
    "(data2['total_area']).hist(bins=30);"
   ]
  },
  {
   "cell_type": "code",
   "execution_count": 52,
   "metadata": {},
   "outputs": [
    {
     "data": {
      "text/html": [
       "<div>\n",
       "<style scoped>\n",
       "    .dataframe tbody tr th:only-of-type {\n",
       "        vertical-align: middle;\n",
       "    }\n",
       "\n",
       "    .dataframe tbody tr th {\n",
       "        vertical-align: top;\n",
       "    }\n",
       "\n",
       "    .dataframe thead tr th {\n",
       "        text-align: left;\n",
       "    }\n",
       "\n",
       "    .dataframe thead tr:last-of-type th {\n",
       "        text-align: right;\n",
       "    }\n",
       "</style>\n",
       "<table border=\"1\" class=\"dataframe\">\n",
       "  <thead>\n",
       "    <tr>\n",
       "      <th></th>\n",
       "      <th>last_price</th>\n",
       "    </tr>\n",
       "    <tr>\n",
       "      <th></th>\n",
       "      <th>mean</th>\n",
       "    </tr>\n",
       "    <tr>\n",
       "      <th>floor_category</th>\n",
       "      <th></th>\n",
       "    </tr>\n",
       "  </thead>\n",
       "  <tbody>\n",
       "    <tr>\n",
       "      <th>другой</th>\n",
       "      <td>1.000000</td>\n",
       "    </tr>\n",
       "    <tr>\n",
       "      <th>первый</th>\n",
       "      <td>0.760738</td>\n",
       "    </tr>\n",
       "    <tr>\n",
       "      <th>последний</th>\n",
       "      <td>0.872879</td>\n",
       "    </tr>\n",
       "  </tbody>\n",
       "</table>\n",
       "</div>"
      ],
      "text/plain": [
       "               last_price\n",
       "                     mean\n",
       "floor_category           \n",
       "другой           1.000000\n",
       "первый           0.760738\n",
       "последний        0.872879"
      ]
     },
     "metadata": {},
     "output_type": "display_data"
    },
    {
     "name": "stdout",
     "output_type": "stream",
     "text": [
      "Квартиры на первом этаже, как правило, дешевле на 24%\n",
      "Квартиры на последнем этаже, как правило, дешевле на 13%\n"
     ]
    },
    {
     "data": {
      "image/png": "[encoded data removed]",
      "text/plain": [
       "<Figure size 432x216 with 1 Axes>"
      ]
     },
     "metadata": {},
     "output_type": "display_data"
    }
   ],
   "source": [
    "#Оценим влияние категориальных значений на цену объекта\n",
    "data.groupby('floor_category').agg({'last_price': ['mean']}).plot(kind='barh',figsize=(6,3),title='Зависимость цены от категории этажа');\n",
    "\n",
    "display(data.groupby('floor_category').agg({'last_price': ['mean']})/5.484665)\n",
    "print('Квартиры на первом этаже, как правило, дешевле на 24%')\n",
    "print('Квартиры на последнем этаже, как правило, дешевле на 13%')"
   ]
  },
  {
   "cell_type": "code",
   "execution_count": 53,
   "metadata": {},
   "outputs": [
    {
     "name": "stdout",
     "output_type": "stream",
     "text": [
      "В четверг обычно размещались объявления о продаже дорогих квартир, в субботу и воскресение - самых дешевых\n"
     ]
    },
    {
     "data": {
      "image/png": "[encoded data removed]",
      "text/plain": [
       "<Figure size 432x216 with 1 Axes>"
      ]
     },
     "metadata": {},
     "output_type": "display_data"
    }
   ],
   "source": [
    "data.groupby('weekday_exposition').agg({'last_price': ['mean']}).plot(title = 'Зависимость цены от дня размещения',figsize=(6,3))\n",
    "print('В четверг обычно размещались объявления о продаже дорогих квартир, в субботу и воскресение - самых дешевых')"
   ]
  },
  {
   "cell_type": "code",
   "execution_count": 54,
   "metadata": {},
   "outputs": [
    {
     "name": "stdout",
     "output_type": "stream",
     "text": [
      "В ноябре и сентябре размещались объявления о продаже дорогих квартир, в июне - самых дешевых\n"
     ]
    },
    {
     "data": {
      "image/png": "[encoded data removed]",
      "text/plain": [
       "<Figure size 432x216 with 1 Axes>"
      ]
     },
     "metadata": {},
     "output_type": "display_data"
    }
   ],
   "source": [
    "data.groupby('month_exposition').agg({'last_price':['mean']}).plot(title = 'Зависимость цены от месяца размещения', figsize=(6,3))\n",
    "print('В ноябре и сентябре размещались объявления о продаже дорогих квартир, в июне - самых дешевых')"
   ]
  },
  {
   "cell_type": "code",
   "execution_count": 55,
   "metadata": {},
   "outputs": [
    {
     "name": "stdout",
     "output_type": "stream",
     "text": [
      "Цены на квартиры снижальсь в течение 4 лет с 2014 по 2018 гг. В 2019 наблюдался рост. Однако, уровень цен не достигнул уровня 2015 г.\n"
     ]
    },
    {
     "data": {
      "image/png": "[encoded data removed]",
      "text/plain": [
       "<Figure size 432x216 with 1 Axes>"
      ]
     },
     "metadata": {},
     "output_type": "display_data"
    }
   ],
   "source": [
    "data.groupby('year_exposition').agg({'last_price': ['mean']}).plot(title = 'Зависимость цены от года размещения',figsize=(6,3))\n",
    "print('Цены на квартиры снижальсь в течение 4 лет с 2014 по 2018 гг. В 2019 наблюдался рост. Однако, уровень цен не достигнул уровня 2015 г.')"
   ]
  },
  {
   "cell_type": "code",
   "execution_count": 56,
   "metadata": {},
   "outputs": [
    {
     "name": "stdout",
     "output_type": "stream",
     "text": [
      "Самая дорогая стоимость квадратного метра жилья в г. Санкт-Петербург (120 тыс руб кв м), затем следует Пушкин (110 тыс руб кв м). Самое дешевое жилье в г. Выборг - менее 60 тыс руб за кв м\n"
     ]
    },
    {
     "data": {
      "image/png": "[encoded data removed]",
      "text/plain": [
       "<Figure size 432x288 with 1 Axes>"
      ]
     },
     "metadata": {},
     "output_type": "display_data"
    }
   ],
   "source": [
    "top10 = data.pivot_table(index='locality_name', values=['last_price','total_area'] ,aggfunc=['sum','count'])\n",
    "top10.columns=['last_price_sum','total_area_sum','last_price_count','total_area_count']\n",
    "top10.pop('total_area_count')\n",
    "top10.sort_values(by=['last_price_count'],ascending=False, inplace=True)\n",
    "top10 = top10.iloc[:10]\n",
    "top10['price_per_square_meter'] = top10['last_price_sum']*1000000/top10['total_area_sum']\n",
    "top10.sort_values(by=['price_per_square_meter'],ascending=True, inplace=True)\n",
    "top10['price_per_square_meter'].plot(title = '10 наиболее дорогих населенных пунктов Ленинградской области по стоимость 1 кв м',kind='barh')\n",
    "\n",
    "print('Самая дорогая стоимость квадратного метра жилья в г. Санкт-Петербург (120 тыс руб кв м), затем следует Пушкин (110 тыс руб кв м). Самое дешевое жилье в г. Выборг - менее 60 тыс руб за кв м')"
   ]
  },
  {
   "cell_type": "code",
   "execution_count": 57,
   "metadata": {},
   "outputs": [
    {
     "name": "stdout",
     "output_type": "stream",
     "text": [
      "Есть явная зависимость: чем ближе к центру города, тем выше цена объекта\n"
     ]
    },
    {
     "data": {
      "image/png": "[encoded data removed]",
      "text/plain": [
       "<Figure size 432x288 with 1 Axes>"
      ]
     },
     "metadata": {},
     "output_type": "display_data"
    }
   ],
   "source": [
    "data.query('locality_name == \"Санкт-Петербург\"').pivot_table(index='cityCenters_nearest_km', values='last_price', aggfunc='mean').plot(title = 'Зависимость цены объекта от близости к центру города', kind='bar')\n",
    "print('Есть явная зависимость: чем ближе к центру города, тем выше цена объекта')"
   ]
  },
  {
   "cell_type": "code",
   "execution_count": 58,
   "metadata": {},
   "outputs": [
    {
     "data": {
      "text/html": [
       "<div>\n",
       "<style scoped>\n",
       "    .dataframe tbody tr th:only-of-type {\n",
       "        vertical-align: middle;\n",
       "    }\n",
       "\n",
       "    .dataframe tbody tr th {\n",
       "        vertical-align: top;\n",
       "    }\n",
       "\n",
       "    .dataframe thead th {\n",
       "        text-align: right;\n",
       "    }\n",
       "</style>\n",
       "<table border=\"1\" class=\"dataframe\">\n",
       "  <thead>\n",
       "    <tr style=\"text-align: right;\">\n",
       "      <th></th>\n",
       "      <th>total_images</th>\n",
       "      <th>last_price</th>\n",
       "      <th>total_area</th>\n",
       "      <th>rooms</th>\n",
       "      <th>ceiling_height</th>\n",
       "      <th>floors_total</th>\n",
       "      <th>living_area</th>\n",
       "      <th>floor</th>\n",
       "      <th>kitchen_area</th>\n",
       "      <th>balcony</th>\n",
       "      <th>...</th>\n",
       "      <th>parks_nearest</th>\n",
       "      <th>ponds_around3000</th>\n",
       "      <th>ponds_nearest</th>\n",
       "      <th>days_exposition</th>\n",
       "      <th>price_per_square_meter</th>\n",
       "      <th>weekday_exposition</th>\n",
       "      <th>month_exposition</th>\n",
       "      <th>year_exposition</th>\n",
       "      <th>floor_category_digit</th>\n",
       "      <th>cityCenters_nearest_km</th>\n",
       "    </tr>\n",
       "  </thead>\n",
       "  <tbody>\n",
       "    <tr>\n",
       "      <th>count</th>\n",
       "      <td>20822.000000</td>\n",
       "      <td>20822.000000</td>\n",
       "      <td>20822.000000</td>\n",
       "      <td>20822.000000</td>\n",
       "      <td>20822.00000</td>\n",
       "      <td>20822.000000</td>\n",
       "      <td>20822.000000</td>\n",
       "      <td>20822.000000</td>\n",
       "      <td>20688.000000</td>\n",
       "      <td>20822.000000</td>\n",
       "      <td>...</td>\n",
       "      <td>14541.000000</td>\n",
       "      <td>20822.000000</td>\n",
       "      <td>13452.0</td>\n",
       "      <td>18265.000000</td>\n",
       "      <td>20822.000000</td>\n",
       "      <td>20822.000000</td>\n",
       "      <td>20822.000000</td>\n",
       "      <td>20822.000000</td>\n",
       "      <td>20822.000000</td>\n",
       "      <td>15505.000000</td>\n",
       "    </tr>\n",
       "    <tr>\n",
       "      <th>mean</th>\n",
       "      <td>9.764192</td>\n",
       "      <td>5.229850</td>\n",
       "      <td>54.747160</td>\n",
       "      <td>1.953703</td>\n",
       "      <td>2.68519</td>\n",
       "      <td>11.132840</td>\n",
       "      <td>31.243650</td>\n",
       "      <td>6.081212</td>\n",
       "      <td>8.989403</td>\n",
       "      <td>0.616463</td>\n",
       "      <td>...</td>\n",
       "      <td>0.649474</td>\n",
       "      <td>0.514936</td>\n",
       "      <td>0.0</td>\n",
       "      <td>172.050643</td>\n",
       "      <td>93831.106282</td>\n",
       "      <td>2.581596</td>\n",
       "      <td>6.411392</td>\n",
       "      <td>2017.377870</td>\n",
       "      <td>0.876477</td>\n",
       "      <td>15.156143</td>\n",
       "    </tr>\n",
       "    <tr>\n",
       "      <th>std</th>\n",
       "      <td>5.618237</td>\n",
       "      <td>3.522564</td>\n",
       "      <td>22.703513</td>\n",
       "      <td>0.940152</td>\n",
       "      <td>0.11570</td>\n",
       "      <td>6.605731</td>\n",
       "      <td>14.922111</td>\n",
       "      <td>4.969557</td>\n",
       "      <td>5.181147</td>\n",
       "      <td>0.962659</td>\n",
       "      <td>...</td>\n",
       "      <td>45.221572</td>\n",
       "      <td>0.812847</td>\n",
       "      <td>0.0</td>\n",
       "      <td>210.331111</td>\n",
       "      <td>33752.303544</td>\n",
       "      <td>1.794372</td>\n",
       "      <td>3.490029</td>\n",
       "      <td>1.024856</td>\n",
       "      <td>0.329045</td>\n",
       "      <td>8.333814</td>\n",
       "    </tr>\n",
       "    <tr>\n",
       "      <th>min</th>\n",
       "      <td>0.000000</td>\n",
       "      <td>0.012190</td>\n",
       "      <td>12.000000</td>\n",
       "      <td>0.000000</td>\n",
       "      <td>1.00000</td>\n",
       "      <td>1.000000</td>\n",
       "      <td>2.000000</td>\n",
       "      <td>1.000000</td>\n",
       "      <td>0.000000</td>\n",
       "      <td>0.000000</td>\n",
       "      <td>...</td>\n",
       "      <td>0.000000</td>\n",
       "      <td>0.000000</td>\n",
       "      <td>0.0</td>\n",
       "      <td>1.000000</td>\n",
       "      <td>111.000000</td>\n",
       "      <td>0.000000</td>\n",
       "      <td>1.000000</td>\n",
       "      <td>2014.000000</td>\n",
       "      <td>0.000000</td>\n",
       "      <td>0.000000</td>\n",
       "    </tr>\n",
       "    <tr>\n",
       "      <th>25%</th>\n",
       "      <td>6.000000</td>\n",
       "      <td>3.300000</td>\n",
       "      <td>39.000000</td>\n",
       "      <td>1.000000</td>\n",
       "      <td>2.60000</td>\n",
       "      <td>5.000000</td>\n",
       "      <td>18.400000</td>\n",
       "      <td>2.000000</td>\n",
       "      <td>6.200000</td>\n",
       "      <td>0.000000</td>\n",
       "      <td>...</td>\n",
       "      <td>0.000000</td>\n",
       "      <td>0.000000</td>\n",
       "      <td>0.0</td>\n",
       "      <td>44.000000</td>\n",
       "      <td>74667.000000</td>\n",
       "      <td>1.000000</td>\n",
       "      <td>3.000000</td>\n",
       "      <td>2017.000000</td>\n",
       "      <td>1.000000</td>\n",
       "      <td>11.000000</td>\n",
       "    </tr>\n",
       "    <tr>\n",
       "      <th>50%</th>\n",
       "      <td>9.000000</td>\n",
       "      <td>4.399000</td>\n",
       "      <td>49.100000</td>\n",
       "      <td>2.000000</td>\n",
       "      <td>2.77000</td>\n",
       "      <td>9.000000</td>\n",
       "      <td>29.100000</td>\n",
       "      <td>5.000000</td>\n",
       "      <td>8.500000</td>\n",
       "      <td>0.000000</td>\n",
       "      <td>...</td>\n",
       "      <td>0.000000</td>\n",
       "      <td>0.000000</td>\n",
       "      <td>0.0</td>\n",
       "      <td>91.000000</td>\n",
       "      <td>93023.000000</td>\n",
       "      <td>3.000000</td>\n",
       "      <td>6.000000</td>\n",
       "      <td>2017.000000</td>\n",
       "      <td>1.000000</td>\n",
       "      <td>14.000000</td>\n",
       "    </tr>\n",
       "    <tr>\n",
       "      <th>75%</th>\n",
       "      <td>14.000000</td>\n",
       "      <td>6.000000</td>\n",
       "      <td>64.100000</td>\n",
       "      <td>3.000000</td>\n",
       "      <td>2.77000</td>\n",
       "      <td>16.000000</td>\n",
       "      <td>39.707500</td>\n",
       "      <td>8.000000</td>\n",
       "      <td>11.000000</td>\n",
       "      <td>1.000000</td>\n",
       "      <td>...</td>\n",
       "      <td>0.000000</td>\n",
       "      <td>1.000000</td>\n",
       "      <td>0.0</td>\n",
       "      <td>217.000000</td>\n",
       "      <td>110596.250000</td>\n",
       "      <td>4.000000</td>\n",
       "      <td>10.000000</td>\n",
       "      <td>2018.000000</td>\n",
       "      <td>1.000000</td>\n",
       "      <td>17.000000</td>\n",
       "    </tr>\n",
       "    <tr>\n",
       "      <th>max</th>\n",
       "      <td>50.000000</td>\n",
       "      <td>39.773280</td>\n",
       "      <td>199.200000</td>\n",
       "      <td>8.000000</td>\n",
       "      <td>2.99000</td>\n",
       "      <td>29.000000</td>\n",
       "      <td>159.600000</td>\n",
       "      <td>27.000000</td>\n",
       "      <td>65.000000</td>\n",
       "      <td>5.000000</td>\n",
       "      <td>...</td>\n",
       "      <td>3190.000000</td>\n",
       "      <td>3.000000</td>\n",
       "      <td>0.0</td>\n",
       "      <td>1580.000000</td>\n",
       "      <td>640422.000000</td>\n",
       "      <td>6.000000</td>\n",
       "      <td>12.000000</td>\n",
       "      <td>2019.000000</td>\n",
       "      <td>1.000000</td>\n",
       "      <td>66.000000</td>\n",
       "    </tr>\n",
       "  </tbody>\n",
       "</table>\n",
       "<p>8 rows × 23 columns</p>\n",
       "</div>"
      ],
      "text/plain": [
       "       total_images    last_price    total_area         rooms  ceiling_height  \\\n",
       "count  20822.000000  20822.000000  20822.000000  20822.000000     20822.00000   \n",
       "mean       9.764192      5.229850     54.747160      1.953703         2.68519   \n",
       "std        5.618237      3.522564     22.703513      0.940152         0.11570   \n",
       "min        0.000000      0.012190     12.000000      0.000000         1.00000   \n",
       "25%        6.000000      3.300000     39.000000      1.000000         2.60000   \n",
       "50%        9.000000      4.399000     49.100000      2.000000         2.77000   \n",
       "75%       14.000000      6.000000     64.100000      3.000000         2.77000   \n",
       "max       50.000000     39.773280    199.200000      8.000000         2.99000   \n",
       "\n",
       "       floors_total   living_area         floor  kitchen_area       balcony  \\\n",
       "count  20822.000000  20822.000000  20822.000000  20688.000000  20822.000000   \n",
       "mean      11.132840     31.243650      6.081212      8.989403      0.616463   \n",
       "std        6.605731     14.922111      4.969557      5.181147      0.962659   \n",
       "min        1.000000      2.000000      1.000000      0.000000      0.000000   \n",
       "25%        5.000000     18.400000      2.000000      6.200000      0.000000   \n",
       "50%        9.000000     29.100000      5.000000      8.500000      0.000000   \n",
       "75%       16.000000     39.707500      8.000000     11.000000      1.000000   \n",
       "max       29.000000    159.600000     27.000000     65.000000      5.000000   \n",
       "\n",
       "       ...  parks_nearest  ponds_around3000  ponds_nearest  days_exposition  \\\n",
       "count  ...   14541.000000      20822.000000        13452.0     18265.000000   \n",
       "mean   ...       0.649474          0.514936            0.0       172.050643   \n",
       "std    ...      45.221572          0.812847            0.0       210.331111   \n",
       "min    ...       0.000000          0.000000            0.0         1.000000   \n",
       "25%    ...       0.000000          0.000000            0.0        44.000000   \n",
       "50%    ...       0.000000          0.000000            0.0        91.000000   \n",
       "75%    ...       0.000000          1.000000            0.0       217.000000   \n",
       "max    ...    3190.000000          3.000000            0.0      1580.000000   \n",
       "\n",
       "       price_per_square_meter  weekday_exposition  month_exposition  \\\n",
       "count            20822.000000        20822.000000      20822.000000   \n",
       "mean             93831.106282            2.581596          6.411392   \n",
       "std              33752.303544            1.794372          3.490029   \n",
       "min                111.000000            0.000000          1.000000   \n",
       "25%              74667.000000            1.000000          3.000000   \n",
       "50%              93023.000000            3.000000          6.000000   \n",
       "75%             110596.250000            4.000000         10.000000   \n",
       "max             640422.000000            6.000000         12.000000   \n",
       "\n",
       "       year_exposition  floor_category_digit  cityCenters_nearest_km  \n",
       "count     20822.000000          20822.000000            15505.000000  \n",
       "mean       2017.377870              0.876477               15.156143  \n",
       "std           1.024856              0.329045                8.333814  \n",
       "min        2014.000000              0.000000                0.000000  \n",
       "25%        2017.000000              1.000000               11.000000  \n",
       "50%        2017.000000              1.000000               14.000000  \n",
       "75%        2018.000000              1.000000               17.000000  \n",
       "max        2019.000000              1.000000               66.000000  \n",
       "\n",
       "[8 rows x 23 columns]"
      ]
     },
     "execution_count": 58,
     "metadata": {},
     "output_type": "execute_result"
    }
   ],
   "source": [
    "data.describe()"
   ]
  },
  {
   "cell_type": "markdown",
   "metadata": {},
   "source": [
    "### Общий вывод"
   ]
  },
  {
   "cell_type": "markdown",
   "metadata": {},
   "source": [
    "**Параметры объектов**\n",
    "\n",
    "В объявлении:\n",
    "- 9 изображений\n",
    "- цена объекта - 4,4 млн руб\n",
    "- общая площадь - 49 кв м \n",
    "- жилая площадь - 29 кв м\n",
    "- площадь кухни - 8,5 кв м\n",
    "- кол-во комнат - 2\n",
    "- высота потолка - 2,77 м\n",
    "- расстояние до цента 14 км\n",
    "\n",
    "**Как быстро продавались квартиы**\n",
    "\n",
    "- Продажа обычно занимает 91 дней (50%-квартиль)\n",
    "- Продажи более 217 дней считаются долгими (75%-квартиль)\n",
    "- Продажи менее 44 дней - быстрыми (25%-квартиль)\n",
    "\n",
    "***Общий вывод***\n",
    "- Наиболее значимым фактором для цены квартиры является ее общая площадь, затем - жилая площадь, и только затем площадь кухни. Зависимость показателей положительная. Чем выше площадь, тем выше цена.\n",
    "- Количество комнат также влияет на цену объекта, это скорее всего связано, с увеличением площади при увеличении кол-ва комнат. \n",
    "- Квартиры на первом этаже, как правило, дешевле (на 24%), последний этаж (на 13%)\n",
    "- В четверг обычно размещались объявления о продаже дорогих квартир, в субботу и воскресение - самых дешевых\n",
    "- В ноябре и сентябре размещались объявления о продаже дорогих квартир, в июне - самых дешевых\n",
    "- Цены на квартиры снижальсь в течение 4 лет с 2014 по 2018 гг. В 2019 наблюдался рост. Однако, уровень цен не достигнул уровня 2015 г.\n",
    "- Самая дорогая стоимость квадратного метра жилья в г. Санкт-Петербург (120 тыс руб кв м), затем следует Пушкин (110 тыс руб кв м). \n",
    "- Самое дешевое жилье в г. Выборг - менее 60 тыс руб за кв м\n",
    "- Есть явная зависимость: чем ближе к центру города, тем выше цена объекта."
   ]
  },
  {
   "cell_type": "markdown",
   "metadata": {},
   "source": [
    "**Чек-лист готовности проекта**\n",
    "\n",
    "Поставьте 'x' в выполненных пунктах. Далее нажмите Shift+Enter."
   ]
  },
  {
   "cell_type": "markdown",
   "metadata": {},
   "source": [
    "- [x]  открыт файл\n",
    "- [x]  файлы изучены (выведены первые строки, метод `info()`, гистограммы и т.д.)\n",
    "- [x]  определены пропущенные значения\n",
    "- [x]  заполнены пропущенные значения там, где это возможно\n",
    "- [x]  есть пояснение, какие пропущенные значения обнаружены\n",
    "- [x]  изменены типы данных\n",
    "- [x]  есть пояснение, в каких столбцах изменены типы и почему\n",
    "- [x]  устранены неявные дубликаты в названиях населённых пунктов\n",
    "- [x]  устранены редкие и выбивающиеся значения (аномалии) во всех столбцах\n",
    "- [x]  посчитано и добавлено в таблицу: цена одного квадратного метра\n",
    "- [x]  посчитано и добавлено в таблицу: день публикации объявления (0 - понедельник, 1 - вторник и т.д.)\n",
    "- [x]  посчитано и добавлено в таблицу: месяц публикации объявления\n",
    "- [x]  посчитано и добавлено в таблицу: год публикации объявления\n",
    "- [x]  посчитано и добавлено в таблицу: тип этажа квартиры (значения — «первый», «последний», «другой»)\n",
    "- [x]  посчитано и добавлено в таблицу: расстояние в км до центра города\n",
    "- [x]  изучены и описаны следующие параметры:\n",
    "        - общая площадь;\n",
    "        - жилая площадь;\n",
    "        - площадь кухни;\n",
    "        - цена объекта;\n",
    "        - количество комнат;\n",
    "        - высота потолков;\n",
    "        - этаж квартиры;\n",
    "        - тип этажа квартиры («первый», «последний», «другой»);\n",
    "        - общее количество этажей в доме;\n",
    "        - расстояние до центра города в метрах;\n",
    "        - расстояние до ближайшего аэропорта;\n",
    "        - расстояние до ближайшего парка;\n",
    "        - день и месяц публикации объявления\n",
    "- [x]  построены гистограммы для каждого параметра\n",
    "- [x]  выполнено задание: \"Изучите, как быстро продавались квартиры (столбец days_exposition). Этот параметр показывает, сколько дней «висело» каждое объявление.\n",
    "    - Постройте гистограмму.\n",
    "    - Посчитайте среднее и медиану.\n",
    "    - В ячейке типа markdown опишите, сколько обычно занимает продажа. Какие продажи можно считать быстрыми, а какие — необычно долгими?\"\n",
    "- [x]  выполнено задание: \"Какие факторы больше всего влияют на общую (полную) стоимость объекта? Постройте графики, которые покажут зависимость цены от указанных ниже параметров. Для подготовки данных перед визуализацией вы можете использовать сводные таблицы.\"\n",
    "        - общей площади;\n",
    "        - жилой площади;\n",
    "        - площади кухни;\n",
    "        - количество комнат;\n",
    "        - типа этажа, на котором расположена квартира (первый, последний, другой);\n",
    "        - даты размещения (день недели, месяц, год);\n",
    "- [x]  выполнено задание: \"Посчитайте среднюю цену одного квадратного метра в 10 населённых пунктах с наибольшим числом объявлений. Выделите населённые пункты с самой высокой и низкой стоимостью квадратного метра. Эти данные можно найти по имени в столбце `locality_name`.\"\n",
    "- [x]  выполнено задание: \"Ранее вы посчитали расстояние до центра в километрах. Теперь выделите квартиры в Санкт-Петербурге с помощью столбца `locality_name` и вычислите среднюю цену каждого километра. Опишите, как стоимость объектов зависит от расстояния до центра города.\"\n",
    "- [x]  в каждом этапе есть промежуточные выводы\n",
    "- [x]  есть общий вывод"
   ]
  }
 ],
 "metadata": {
  "ExecuteTimeLog": [
   {
    "duration": 899,
    "start_time": "2023-04-27T16:32:57.687Z"
   },
   {
    "duration": 0,
    "start_time": "2023-04-27T16:32:58.588Z"
   },
   {
    "duration": 0,
    "start_time": "2023-04-27T16:32:58.589Z"
   },
   {
    "duration": 0,
    "start_time": "2023-04-27T16:32:58.590Z"
   },
   {
    "duration": 46,
    "start_time": "2023-04-27T18:30:51.599Z"
   },
   {
    "duration": 1090,
    "start_time": "2023-04-27T20:00:08.382Z"
   },
   {
    "duration": 17,
    "start_time": "2023-04-27T20:00:09.474Z"
   },
   {
    "duration": 15,
    "start_time": "2023-04-27T20:00:09.493Z"
   },
   {
    "duration": 264,
    "start_time": "2023-04-27T20:00:09.510Z"
   },
   {
    "duration": 0,
    "start_time": "2023-04-27T20:00:09.777Z"
   },
   {
    "duration": 0,
    "start_time": "2023-04-27T20:00:09.779Z"
   },
   {
    "duration": 0,
    "start_time": "2023-04-27T20:00:09.780Z"
   },
   {
    "duration": 0,
    "start_time": "2023-04-27T20:00:09.781Z"
   },
   {
    "duration": 0,
    "start_time": "2023-04-27T20:00:09.782Z"
   },
   {
    "duration": 0,
    "start_time": "2023-04-27T20:00:09.783Z"
   },
   {
    "duration": 0,
    "start_time": "2023-04-27T20:00:09.785Z"
   },
   {
    "duration": 0,
    "start_time": "2023-04-27T20:00:09.786Z"
   },
   {
    "duration": 0,
    "start_time": "2023-04-27T20:00:09.787Z"
   },
   {
    "duration": 0,
    "start_time": "2023-04-27T20:00:09.789Z"
   },
   {
    "duration": 0,
    "start_time": "2023-04-27T20:00:09.790Z"
   },
   {
    "duration": 0,
    "start_time": "2023-04-27T20:00:09.791Z"
   },
   {
    "duration": 0,
    "start_time": "2023-04-27T20:00:09.792Z"
   },
   {
    "duration": 0,
    "start_time": "2023-04-27T20:00:09.793Z"
   },
   {
    "duration": 0,
    "start_time": "2023-04-27T20:00:09.794Z"
   },
   {
    "duration": 0,
    "start_time": "2023-04-27T20:00:09.795Z"
   },
   {
    "duration": 0,
    "start_time": "2023-04-27T20:00:09.797Z"
   },
   {
    "duration": 0,
    "start_time": "2023-04-27T20:00:09.833Z"
   },
   {
    "duration": 0,
    "start_time": "2023-04-27T20:00:09.834Z"
   },
   {
    "duration": 0,
    "start_time": "2023-04-27T20:00:09.835Z"
   },
   {
    "duration": 1418,
    "start_time": "2023-04-27T20:02:36.332Z"
   },
   {
    "duration": 16,
    "start_time": "2023-04-27T20:02:37.751Z"
   },
   {
    "duration": 66,
    "start_time": "2023-04-27T20:02:37.768Z"
   },
   {
    "duration": 399,
    "start_time": "2023-04-27T20:02:37.837Z"
   },
   {
    "duration": 0,
    "start_time": "2023-04-27T20:02:38.238Z"
   },
   {
    "duration": 0,
    "start_time": "2023-04-27T20:02:38.239Z"
   },
   {
    "duration": 0,
    "start_time": "2023-04-27T20:02:38.240Z"
   },
   {
    "duration": 0,
    "start_time": "2023-04-27T20:02:38.241Z"
   },
   {
    "duration": 0,
    "start_time": "2023-04-27T20:02:38.244Z"
   },
   {
    "duration": 0,
    "start_time": "2023-04-27T20:02:38.247Z"
   },
   {
    "duration": 0,
    "start_time": "2023-04-27T20:02:38.252Z"
   },
   {
    "duration": 0,
    "start_time": "2023-04-27T20:02:38.258Z"
   },
   {
    "duration": 0,
    "start_time": "2023-04-27T20:02:38.261Z"
   },
   {
    "duration": 0,
    "start_time": "2023-04-27T20:02:38.263Z"
   },
   {
    "duration": 0,
    "start_time": "2023-04-27T20:02:38.267Z"
   },
   {
    "duration": 0,
    "start_time": "2023-04-27T20:02:38.269Z"
   },
   {
    "duration": 0,
    "start_time": "2023-04-27T20:02:38.272Z"
   },
   {
    "duration": 0,
    "start_time": "2023-04-27T20:02:38.273Z"
   },
   {
    "duration": 0,
    "start_time": "2023-04-27T20:02:38.276Z"
   },
   {
    "duration": 0,
    "start_time": "2023-04-27T20:02:38.340Z"
   },
   {
    "duration": 0,
    "start_time": "2023-04-27T20:02:38.343Z"
   },
   {
    "duration": 0,
    "start_time": "2023-04-27T20:02:38.344Z"
   },
   {
    "duration": 0,
    "start_time": "2023-04-27T20:02:38.345Z"
   },
   {
    "duration": 0,
    "start_time": "2023-04-27T20:02:38.346Z"
   },
   {
    "duration": 1127,
    "start_time": "2023-04-28T14:18:09.751Z"
   },
   {
    "duration": 19,
    "start_time": "2023-04-28T14:18:10.881Z"
   },
   {
    "duration": 16,
    "start_time": "2023-04-28T14:18:10.901Z"
   },
   {
    "duration": 2330,
    "start_time": "2023-04-28T14:18:10.919Z"
   },
   {
    "duration": 15,
    "start_time": "2023-04-28T14:18:13.251Z"
   },
   {
    "duration": 52,
    "start_time": "2023-04-28T14:18:13.269Z"
   },
   {
    "duration": 70,
    "start_time": "2023-04-28T14:18:13.325Z"
   },
   {
    "duration": 7,
    "start_time": "2023-04-28T14:18:13.397Z"
   },
   {
    "duration": 101,
    "start_time": "2023-04-28T14:18:13.406Z"
   },
   {
    "duration": 7,
    "start_time": "2023-04-28T14:18:13.510Z"
   },
   {
    "duration": 10,
    "start_time": "2023-04-28T14:18:13.518Z"
   },
   {
    "duration": 92,
    "start_time": "2023-04-28T14:18:13.529Z"
   },
   {
    "duration": 9,
    "start_time": "2023-04-28T14:18:13.623Z"
   },
   {
    "duration": 14,
    "start_time": "2023-04-28T14:18:13.634Z"
   },
   {
    "duration": 11,
    "start_time": "2023-04-28T14:18:13.650Z"
   },
   {
    "duration": 1247,
    "start_time": "2023-04-28T14:18:13.663Z"
   },
   {
    "duration": 22,
    "start_time": "2023-04-28T14:18:14.913Z"
   },
   {
    "duration": 95,
    "start_time": "2023-04-28T14:18:14.937Z"
   },
   {
    "duration": 2953,
    "start_time": "2023-04-28T14:18:15.034Z"
   },
   {
    "duration": 174,
    "start_time": "2023-04-28T14:18:17.989Z"
   },
   {
    "duration": 836,
    "start_time": "2023-04-28T14:18:18.165Z"
   },
   {
    "duration": 594,
    "start_time": "2023-04-28T14:18:19.003Z"
   },
   {
    "duration": 196,
    "start_time": "2023-04-28T14:18:19.600Z"
   },
   {
    "duration": 302,
    "start_time": "2023-04-28T14:18:19.797Z"
   },
   {
    "duration": 7,
    "start_time": "2023-04-28T14:20:57.114Z"
   },
   {
    "duration": 21,
    "start_time": "2023-04-28T14:21:27.411Z"
   },
   {
    "duration": 116,
    "start_time": "2023-04-28T14:21:30.812Z"
   },
   {
    "duration": 280,
    "start_time": "2023-04-28T14:21:47.449Z"
   },
   {
    "duration": 9,
    "start_time": "2023-04-28T14:21:54.701Z"
   },
   {
    "duration": 401,
    "start_time": "2023-04-28T14:25:38.817Z"
   },
   {
    "duration": 519,
    "start_time": "2023-04-29T12:42:15.989Z"
   },
   {
    "duration": 459,
    "start_time": "2023-04-29T12:42:16.880Z"
   },
   {
    "duration": 16,
    "start_time": "2023-04-29T12:42:27.954Z"
   },
   {
    "duration": 33,
    "start_time": "2023-04-29T12:42:56.580Z"
   },
   {
    "duration": 2258,
    "start_time": "2023-04-29T12:43:34.602Z"
   },
   {
    "duration": 16,
    "start_time": "2023-04-29T12:45:28.083Z"
   },
   {
    "duration": 58,
    "start_time": "2023-04-29T12:45:37.929Z"
   },
   {
    "duration": 15,
    "start_time": "2023-04-29T12:45:52.400Z"
   },
   {
    "duration": 49,
    "start_time": "2023-04-29T12:48:00.411Z"
   },
   {
    "duration": 44,
    "start_time": "2023-04-29T12:48:07.576Z"
   },
   {
    "duration": 97,
    "start_time": "2023-04-29T12:49:04.233Z"
   },
   {
    "duration": 17,
    "start_time": "2023-04-29T12:49:23.643Z"
   },
   {
    "duration": 16,
    "start_time": "2023-04-29T12:49:38.213Z"
   },
   {
    "duration": 16,
    "start_time": "2023-04-29T12:49:43.220Z"
   },
   {
    "duration": 26,
    "start_time": "2023-04-29T13:39:29.225Z"
   },
   {
    "duration": 19,
    "start_time": "2023-04-29T13:39:31.426Z"
   },
   {
    "duration": 7,
    "start_time": "2023-04-29T13:39:37.621Z"
   },
   {
    "duration": 97,
    "start_time": "2023-04-29T13:39:38.823Z"
   },
   {
    "duration": 7,
    "start_time": "2023-04-29T13:39:39.898Z"
   },
   {
    "duration": 8,
    "start_time": "2023-04-29T13:39:43.296Z"
   },
   {
    "duration": 66,
    "start_time": "2023-04-29T13:39:47.862Z"
   },
   {
    "duration": 8,
    "start_time": "2023-04-29T13:39:50.649Z"
   },
   {
    "duration": 13,
    "start_time": "2023-04-29T13:39:56.700Z"
   },
   {
    "duration": 3,
    "start_time": "2023-04-29T13:40:28.619Z"
   },
   {
    "duration": 198,
    "start_time": "2023-04-29T13:40:29.783Z"
   },
   {
    "duration": 523,
    "start_time": "2023-04-29T13:40:39.717Z"
   },
   {
    "duration": 234,
    "start_time": "2023-04-29T13:40:40.283Z"
   },
   {
    "duration": 17,
    "start_time": "2023-04-29T13:40:44.436Z"
   },
   {
    "duration": 33,
    "start_time": "2023-04-29T13:40:50.235Z"
   },
   {
    "duration": 2170,
    "start_time": "2023-04-29T13:40:53.738Z"
   },
   {
    "duration": 26,
    "start_time": "2023-04-29T13:41:41.429Z"
   },
   {
    "duration": 87,
    "start_time": "2023-04-29T13:41:44.522Z"
   },
   {
    "duration": 16,
    "start_time": "2023-04-29T13:42:10.156Z"
   },
   {
    "duration": 17,
    "start_time": "2023-04-29T13:42:30.566Z"
   },
   {
    "duration": 499,
    "start_time": "2023-04-29T13:43:11.023Z"
   },
   {
    "duration": 207,
    "start_time": "2023-04-29T13:43:12.386Z"
   },
   {
    "duration": 16,
    "start_time": "2023-04-29T13:43:15.420Z"
   },
   {
    "duration": 34,
    "start_time": "2023-04-29T13:43:16.980Z"
   },
   {
    "duration": 2380,
    "start_time": "2023-04-29T13:43:18.524Z"
   },
   {
    "duration": 18,
    "start_time": "2023-04-29T13:43:24.878Z"
   },
   {
    "duration": 24,
    "start_time": "2023-04-29T13:43:28.514Z"
   },
   {
    "duration": 106,
    "start_time": "2023-04-29T13:43:29.909Z"
   },
   {
    "duration": 4167,
    "start_time": "2023-04-30T13:09:08.782Z"
   },
   {
    "duration": 624,
    "start_time": "2023-04-30T13:09:12.994Z"
   },
   {
    "duration": 86,
    "start_time": "2023-04-30T13:09:13.623Z"
   },
   {
    "duration": 134,
    "start_time": "2023-04-30T13:09:13.717Z"
   },
   {
    "duration": 10205,
    "start_time": "2023-04-30T13:09:13.893Z"
   },
   {
    "duration": 30,
    "start_time": "2023-04-30T13:09:24.100Z"
   },
   {
    "duration": 111,
    "start_time": "2023-04-30T13:09:24.135Z"
   },
   {
    "duration": 145,
    "start_time": "2023-04-30T13:09:24.305Z"
   },
   {
    "duration": 45,
    "start_time": "2023-04-30T13:09:24.452Z"
   },
   {
    "duration": 308,
    "start_time": "2023-04-30T13:09:24.500Z"
   },
   {
    "duration": 12,
    "start_time": "2023-04-30T13:09:24.810Z"
   },
   {
    "duration": 17,
    "start_time": "2023-04-30T13:09:24.824Z"
   },
   {
    "duration": 276,
    "start_time": "2023-04-30T13:09:24.843Z"
   },
   {
    "duration": 13,
    "start_time": "2023-04-30T13:09:25.123Z"
   },
   {
    "duration": 71,
    "start_time": "2023-04-30T13:09:25.140Z"
   },
   {
    "duration": 4813,
    "start_time": "2023-04-30T13:09:25.213Z"
   },
   {
    "duration": 96,
    "start_time": "2023-04-30T13:09:30.031Z"
   },
   {
    "duration": 418,
    "start_time": "2023-04-30T13:09:30.129Z"
   },
   {
    "duration": 1454,
    "start_time": "2023-04-30T13:09:30.594Z"
   },
   {
    "duration": 1065,
    "start_time": "2023-04-30T13:09:32.094Z"
   },
   {
    "duration": 1700,
    "start_time": "2023-04-30T13:09:33.202Z"
   },
   {
    "duration": 1127,
    "start_time": "2023-04-30T13:09:34.912Z"
   },
   {
    "duration": 1501,
    "start_time": "2023-04-30T13:09:36.094Z"
   },
   {
    "duration": 1511,
    "start_time": "2023-04-30T13:09:37.610Z"
   },
   {
    "duration": 1099,
    "start_time": "2023-04-30T13:09:39.132Z"
   },
   {
    "duration": 1904,
    "start_time": "2023-04-30T13:09:40.235Z"
   },
   {
    "duration": 110,
    "start_time": "2023-04-30T13:09:42.154Z"
   },
   {
    "duration": 1553,
    "start_time": "2023-04-30T13:09:42.270Z"
   },
   {
    "duration": 1086,
    "start_time": "2023-04-30T13:09:43.829Z"
   },
   {
    "duration": 1214,
    "start_time": "2023-04-30T13:09:44.921Z"
   },
   {
    "duration": 1171,
    "start_time": "2023-04-30T13:09:46.143Z"
   },
   {
    "duration": 1126,
    "start_time": "2023-04-30T13:09:47.321Z"
   },
   {
    "duration": 1511,
    "start_time": "2023-04-30T13:09:48.506Z"
   },
   {
    "duration": 1271,
    "start_time": "2023-04-30T13:09:50.023Z"
   },
   {
    "duration": 1300,
    "start_time": "2023-04-30T13:09:51.305Z"
   },
   {
    "duration": 1215,
    "start_time": "2023-04-30T13:09:52.611Z"
   },
   {
    "duration": 304,
    "start_time": "2023-04-30T13:09:53.836Z"
   },
   {
    "duration": 765,
    "start_time": "2023-04-30T13:09:54.146Z"
   },
   {
    "duration": 1270,
    "start_time": "2023-04-30T13:09:54.923Z"
   },
   {
    "duration": 4216,
    "start_time": "2023-04-30T13:09:56.195Z"
   },
   {
    "duration": 1284,
    "start_time": "2023-04-30T13:10:00.423Z"
   },
   {
    "duration": 893,
    "start_time": "2023-04-30T13:10:01.713Z"
   },
   {
    "duration": 819,
    "start_time": "2023-04-30T13:10:02.608Z"
   },
   {
    "duration": 696,
    "start_time": "2023-04-30T13:10:03.435Z"
   },
   {
    "duration": 707,
    "start_time": "2023-04-30T13:10:04.141Z"
   },
   {
    "duration": 812,
    "start_time": "2023-04-30T13:10:04.894Z"
   },
   {
    "duration": 1517,
    "start_time": "2023-04-30T13:10:05.714Z"
   },
   {
    "duration": 384,
    "start_time": "2023-04-30T13:10:07.237Z"
   },
   {
    "duration": 4163,
    "start_time": "2023-04-30T13:11:10.092Z"
   },
   {
    "duration": 666,
    "start_time": "2023-04-30T13:11:14.257Z"
   },
   {
    "duration": 82,
    "start_time": "2023-04-30T13:11:14.925Z"
   },
   {
    "duration": 130,
    "start_time": "2023-04-30T13:11:15.009Z"
   },
   {
    "duration": 10878,
    "start_time": "2023-04-30T13:11:15.144Z"
   },
   {
    "duration": 39,
    "start_time": "2023-04-30T13:11:26.027Z"
   },
   {
    "duration": 130,
    "start_time": "2023-04-30T13:11:26.071Z"
   },
   {
    "duration": 209,
    "start_time": "2023-04-30T13:11:26.206Z"
   },
   {
    "duration": 21,
    "start_time": "2023-04-30T13:11:26.427Z"
   },
   {
    "duration": 264,
    "start_time": "2023-04-30T13:11:26.496Z"
   },
   {
    "duration": 51,
    "start_time": "2023-04-30T13:11:26.768Z"
   },
   {
    "duration": 51,
    "start_time": "2023-04-30T13:11:26.822Z"
   },
   {
    "duration": 302,
    "start_time": "2023-04-30T13:11:26.897Z"
   },
   {
    "duration": 11,
    "start_time": "2023-04-30T13:11:27.208Z"
   },
   {
    "duration": 66,
    "start_time": "2023-04-30T13:11:27.235Z"
   },
   {
    "duration": 4228,
    "start_time": "2023-04-30T13:11:27.310Z"
   },
   {
    "duration": 161,
    "start_time": "2023-04-30T13:11:31.540Z"
   },
   {
    "duration": 333,
    "start_time": "2023-04-30T13:11:31.707Z"
   },
   {
    "duration": 1414,
    "start_time": "2023-04-30T13:11:32.045Z"
   },
   {
    "duration": 1043,
    "start_time": "2023-04-30T13:11:33.492Z"
   },
   {
    "duration": 1801,
    "start_time": "2023-04-30T13:11:34.604Z"
   },
   {
    "duration": 1144,
    "start_time": "2023-04-30T13:11:36.407Z"
   },
   {
    "duration": 1356,
    "start_time": "2023-04-30T13:11:37.599Z"
   },
   {
    "duration": 1234,
    "start_time": "2023-04-30T13:11:39.001Z"
   },
   {
    "duration": 1229,
    "start_time": "2023-04-30T13:11:40.293Z"
   },
   {
    "duration": 1418,
    "start_time": "2023-04-30T13:11:41.538Z"
   },
   {
    "duration": 57,
    "start_time": "2023-04-30T13:11:42.958Z"
   },
   {
    "duration": 1383,
    "start_time": "2023-04-30T13:11:43.019Z"
   },
   {
    "duration": 1148,
    "start_time": "2023-04-30T13:11:44.412Z"
   },
   {
    "duration": 1454,
    "start_time": "2023-04-30T13:11:45.597Z"
   },
   {
    "duration": 1053,
    "start_time": "2023-04-30T13:11:47.057Z"
   },
   {
    "duration": 1227,
    "start_time": "2023-04-30T13:11:48.120Z"
   },
   {
    "duration": 1543,
    "start_time": "2023-04-30T13:11:49.356Z"
   },
   {
    "duration": 1313,
    "start_time": "2023-04-30T13:11:50.901Z"
   },
   {
    "duration": 1223,
    "start_time": "2023-04-30T13:11:52.219Z"
   },
   {
    "duration": 1186,
    "start_time": "2023-04-30T13:11:53.452Z"
   },
   {
    "duration": 457,
    "start_time": "2023-04-30T13:11:54.642Z"
   },
   {
    "duration": 905,
    "start_time": "2023-04-30T13:11:55.104Z"
   },
   {
    "duration": 1195,
    "start_time": "2023-04-30T13:11:56.014Z"
   },
   {
    "duration": 3379,
    "start_time": "2023-04-30T13:11:57.236Z"
   },
   {
    "duration": 693,
    "start_time": "2023-04-30T13:12:00.638Z"
   },
   {
    "duration": 383,
    "start_time": "2023-04-30T13:12:01.344Z"
   },
   {
    "duration": 510,
    "start_time": "2023-04-30T13:12:01.729Z"
   },
   {
    "duration": 514,
    "start_time": "2023-04-30T13:12:02.246Z"
   },
   {
    "duration": 433,
    "start_time": "2023-04-30T13:12:02.793Z"
   },
   {
    "duration": 588,
    "start_time": "2023-04-30T13:12:03.232Z"
   },
   {
    "duration": 1007,
    "start_time": "2023-04-30T13:12:03.832Z"
   },
   {
    "duration": 253,
    "start_time": "2023-04-30T13:12:04.841Z"
   },
   {
    "duration": 1470,
    "start_time": "2023-04-30T13:15:22.632Z"
   },
   {
    "duration": 377,
    "start_time": "2023-04-30T13:15:24.104Z"
   },
   {
    "duration": 26,
    "start_time": "2023-04-30T13:15:24.483Z"
   },
   {
    "duration": 41,
    "start_time": "2023-04-30T13:15:24.517Z"
   },
   {
    "duration": 2996,
    "start_time": "2023-04-30T13:15:24.561Z"
   },
   {
    "duration": 18,
    "start_time": "2023-04-30T13:15:27.559Z"
   },
   {
    "duration": 39,
    "start_time": "2023-04-30T13:15:27.578Z"
   },
   {
    "duration": 54,
    "start_time": "2023-04-30T13:15:27.625Z"
   },
   {
    "duration": 6,
    "start_time": "2023-04-30T13:15:27.681Z"
   },
   {
    "duration": 119,
    "start_time": "2023-04-30T13:15:27.690Z"
   },
   {
    "duration": 12,
    "start_time": "2023-04-30T13:15:27.811Z"
   },
   {
    "duration": 9,
    "start_time": "2023-04-30T13:15:27.826Z"
   },
   {
    "duration": 95,
    "start_time": "2023-04-30T13:15:27.839Z"
   },
   {
    "duration": 5,
    "start_time": "2023-04-30T13:15:27.939Z"
   },
   {
    "duration": 20,
    "start_time": "2023-04-30T13:15:27.949Z"
   },
   {
    "duration": 1364,
    "start_time": "2023-04-30T13:15:27.971Z"
   },
   {
    "duration": 39,
    "start_time": "2023-04-30T13:15:29.337Z"
   },
   {
    "duration": 109,
    "start_time": "2023-04-30T13:15:29.377Z"
   },
   {
    "duration": 365,
    "start_time": "2023-04-30T13:15:29.487Z"
   },
   {
    "duration": 349,
    "start_time": "2023-04-30T13:15:29.854Z"
   },
   {
    "duration": 506,
    "start_time": "2023-04-30T13:15:30.205Z"
   },
   {
    "duration": 374,
    "start_time": "2023-04-30T13:15:30.716Z"
   },
   {
    "duration": 392,
    "start_time": "2023-04-30T13:15:31.092Z"
   },
   {
    "duration": 355,
    "start_time": "2023-04-30T13:15:31.486Z"
   },
   {
    "duration": 392,
    "start_time": "2023-04-30T13:15:31.843Z"
   },
   {
    "duration": 578,
    "start_time": "2023-04-30T13:15:32.254Z"
   },
   {
    "duration": 27,
    "start_time": "2023-04-30T13:15:32.842Z"
   },
   {
    "duration": 397,
    "start_time": "2023-04-30T13:15:32.877Z"
   },
   {
    "duration": 385,
    "start_time": "2023-04-30T13:15:33.275Z"
   },
   {
    "duration": 381,
    "start_time": "2023-04-30T13:15:33.668Z"
   },
   {
    "duration": 412,
    "start_time": "2023-04-30T13:15:34.051Z"
   },
   {
    "duration": 364,
    "start_time": "2023-04-30T13:15:34.467Z"
   },
   {
    "duration": 472,
    "start_time": "2023-04-30T13:15:34.838Z"
   },
   {
    "duration": 388,
    "start_time": "2023-04-30T13:15:35.315Z"
   },
   {
    "duration": 407,
    "start_time": "2023-04-30T13:15:35.711Z"
   },
   {
    "duration": 408,
    "start_time": "2023-04-30T13:15:36.123Z"
   },
   {
    "duration": 116,
    "start_time": "2023-04-30T13:15:36.537Z"
   },
   {
    "duration": 255,
    "start_time": "2023-04-30T13:15:36.661Z"
   },
   {
    "duration": 338,
    "start_time": "2023-04-30T13:15:36.923Z"
   },
   {
    "duration": 1205,
    "start_time": "2023-04-30T13:15:37.266Z"
   },
   {
    "duration": 319,
    "start_time": "2023-04-30T13:15:38.473Z"
   },
   {
    "duration": 242,
    "start_time": "2023-04-30T13:15:38.800Z"
   },
   {
    "duration": 231,
    "start_time": "2023-04-30T13:15:39.049Z"
   },
   {
    "duration": 218,
    "start_time": "2023-04-30T13:15:39.282Z"
   },
   {
    "duration": 220,
    "start_time": "2023-04-30T13:15:39.503Z"
   },
   {
    "duration": 261,
    "start_time": "2023-04-30T13:15:39.725Z"
   },
   {
    "duration": 464,
    "start_time": "2023-04-30T13:15:39.988Z"
   },
   {
    "duration": 114,
    "start_time": "2023-04-30T13:15:40.454Z"
   },
   {
    "duration": 99,
    "start_time": "2023-04-30T16:16:54.748Z"
   },
   {
    "duration": 8,
    "start_time": "2023-04-30T16:17:33.889Z"
   },
   {
    "duration": 7,
    "start_time": "2023-04-30T16:17:56.452Z"
   },
   {
    "duration": 6,
    "start_time": "2023-04-30T16:18:04.187Z"
   },
   {
    "duration": 1575,
    "start_time": "2023-04-30T16:18:19.649Z"
   },
   {
    "duration": 331,
    "start_time": "2023-04-30T16:18:21.234Z"
   },
   {
    "duration": 25,
    "start_time": "2023-04-30T16:18:23.839Z"
   },
   {
    "duration": 45,
    "start_time": "2023-04-30T16:18:25.332Z"
   },
   {
    "duration": 2812,
    "start_time": "2023-04-30T16:18:26.739Z"
   },
   {
    "duration": 18,
    "start_time": "2023-04-30T16:18:29.557Z"
   },
   {
    "duration": 62,
    "start_time": "2023-04-30T16:19:08.381Z"
   },
   {
    "duration": 15,
    "start_time": "2023-04-30T16:19:09.940Z"
   },
   {
    "duration": 7,
    "start_time": "2023-04-30T16:19:13.559Z"
   },
   {
    "duration": 7,
    "start_time": "2023-04-30T16:19:14.349Z"
   },
   {
    "duration": 7,
    "start_time": "2023-04-30T16:19:15.149Z"
   },
   {
    "duration": 1350,
    "start_time": "2023-04-30T16:19:24.838Z"
   },
   {
    "duration": 904,
    "start_time": "2023-04-30T16:19:27.132Z"
   },
   {
    "duration": 20,
    "start_time": "2023-04-30T16:19:33.639Z"
   },
   {
    "duration": 34,
    "start_time": "2023-04-30T16:19:37.439Z"
   },
   {
    "duration": 2698,
    "start_time": "2023-04-30T16:19:39.078Z"
   },
   {
    "duration": 24,
    "start_time": "2023-04-30T16:19:44.938Z"
   },
   {
    "duration": 35,
    "start_time": "2023-04-30T16:19:48.841Z"
   },
   {
    "duration": 45,
    "start_time": "2023-04-30T16:19:50.541Z"
   },
   {
    "duration": 7,
    "start_time": "2023-04-30T16:19:59.398Z"
   },
   {
    "duration": 98,
    "start_time": "2023-04-30T16:20:01.883Z"
   },
   {
    "duration": 12,
    "start_time": "2023-04-30T16:20:02.842Z"
   },
   {
    "duration": 10,
    "start_time": "2023-04-30T16:20:05.234Z"
   },
   {
    "duration": 84,
    "start_time": "2023-04-30T16:20:05.869Z"
   },
   {
    "duration": 4,
    "start_time": "2023-04-30T16:20:07.193Z"
   },
   {
    "duration": 12,
    "start_time": "2023-04-30T16:20:07.437Z"
   },
   {
    "duration": 1145,
    "start_time": "2023-04-30T16:20:08.081Z"
   },
   {
    "duration": 39,
    "start_time": "2023-04-30T16:20:09.232Z"
   },
   {
    "duration": 150,
    "start_time": "2023-04-30T16:20:10.587Z"
   },
   {
    "duration": 345,
    "start_time": "2023-04-30T16:20:11.330Z"
   },
   {
    "duration": 313,
    "start_time": "2023-04-30T16:20:12.548Z"
   },
   {
    "duration": 516,
    "start_time": "2023-04-30T16:20:13.659Z"
   },
   {
    "duration": 320,
    "start_time": "2023-04-30T16:20:14.234Z"
   },
   {
    "duration": 341,
    "start_time": "2023-04-30T16:20:14.949Z"
   },
   {
    "duration": 318,
    "start_time": "2023-04-30T16:20:15.762Z"
   },
   {
    "duration": 312,
    "start_time": "2023-04-30T16:20:16.379Z"
   },
   {
    "duration": 429,
    "start_time": "2023-04-30T16:20:16.940Z"
   },
   {
    "duration": 15,
    "start_time": "2023-04-30T16:20:18.067Z"
   },
   {
    "duration": 325,
    "start_time": "2023-04-30T16:20:18.279Z"
   },
   {
    "duration": 397,
    "start_time": "2023-04-30T16:20:19.050Z"
   },
   {
    "duration": 311,
    "start_time": "2023-04-30T16:20:20.185Z"
   },
   {
    "duration": 317,
    "start_time": "2023-04-30T16:20:21.554Z"
   },
   {
    "duration": 343,
    "start_time": "2023-04-30T16:20:23.527Z"
   },
   {
    "duration": 422,
    "start_time": "2023-04-30T16:20:25.260Z"
   },
   {
    "duration": 1386,
    "start_time": "2023-04-30T16:20:39.338Z"
   },
   {
    "duration": 420,
    "start_time": "2023-04-30T16:20:41.342Z"
   },
   {
    "duration": 16,
    "start_time": "2023-04-30T16:20:44.590Z"
   },
   {
    "duration": 32,
    "start_time": "2023-04-30T16:20:45.866Z"
   },
   {
    "duration": 2908,
    "start_time": "2023-04-30T16:20:46.985Z"
   },
   {
    "duration": 25,
    "start_time": "2023-04-30T16:20:50.540Z"
   },
   {
    "duration": 25,
    "start_time": "2023-04-30T16:20:54.065Z"
   },
   {
    "duration": 61,
    "start_time": "2023-04-30T16:20:55.488Z"
   },
   {
    "duration": 20,
    "start_time": "2023-04-30T16:21:00.732Z"
   },
   {
    "duration": 96,
    "start_time": "2023-04-30T16:21:01.777Z"
   },
   {
    "duration": 7,
    "start_time": "2023-04-30T16:21:03.178Z"
   },
   {
    "duration": 10,
    "start_time": "2023-04-30T16:21:05.532Z"
   },
   {
    "duration": 71,
    "start_time": "2023-04-30T16:21:06.838Z"
   },
   {
    "duration": 5,
    "start_time": "2023-04-30T16:21:09.241Z"
   },
   {
    "duration": 17,
    "start_time": "2023-04-30T16:21:10.731Z"
   },
   {
    "duration": 1154,
    "start_time": "2023-04-30T16:21:12.027Z"
   },
   {
    "duration": 26,
    "start_time": "2023-04-30T16:21:13.468Z"
   },
   {
    "duration": 114,
    "start_time": "2023-04-30T16:21:15.832Z"
   },
   {
    "duration": 329,
    "start_time": "2023-04-30T16:21:17.061Z"
   },
   {
    "duration": 314,
    "start_time": "2023-04-30T16:21:20.748Z"
   },
   {
    "duration": 483,
    "start_time": "2023-04-30T16:21:22.249Z"
   },
   {
    "duration": 333,
    "start_time": "2023-04-30T16:21:23.631Z"
   },
   {
    "duration": 335,
    "start_time": "2023-04-30T16:21:27.935Z"
   },
   {
    "duration": 380,
    "start_time": "2023-04-30T16:21:28.980Z"
   },
   {
    "duration": 312,
    "start_time": "2023-04-30T16:21:30.148Z"
   },
   {
    "duration": 431,
    "start_time": "2023-04-30T16:21:31.136Z"
   },
   {
    "duration": 15,
    "start_time": "2023-04-30T16:21:35.479Z"
   },
   {
    "duration": 323,
    "start_time": "2023-04-30T16:21:36.265Z"
   },
   {
    "duration": 320,
    "start_time": "2023-04-30T16:21:38.135Z"
   },
   {
    "duration": 334,
    "start_time": "2023-04-30T16:21:39.758Z"
   },
   {
    "duration": 326,
    "start_time": "2023-04-30T16:21:41.311Z"
   },
   {
    "duration": 342,
    "start_time": "2023-04-30T16:21:42.863Z"
   },
   {
    "duration": 468,
    "start_time": "2023-04-30T16:21:44.328Z"
   },
   {
    "duration": 343,
    "start_time": "2023-04-30T16:21:45.474Z"
   },
   {
    "duration": 354,
    "start_time": "2023-04-30T16:21:48.119Z"
   },
   {
    "duration": 343,
    "start_time": "2023-04-30T16:21:49.732Z"
   },
   {
    "duration": 129,
    "start_time": "2023-04-30T16:23:17.560Z"
   },
   {
    "duration": 30,
    "start_time": "2023-04-30T16:23:26.030Z"
   },
   {
    "duration": 280,
    "start_time": "2023-04-30T16:23:57.045Z"
   },
   {
    "duration": 420,
    "start_time": "2023-04-30T16:24:18.107Z"
   },
   {
    "duration": 277,
    "start_time": "2023-04-30T16:26:22.362Z"
   },
   {
    "duration": 276,
    "start_time": "2023-04-30T16:26:34.531Z"
   },
   {
    "duration": 28,
    "start_time": "2023-04-30T16:28:05.561Z"
   },
   {
    "duration": 297,
    "start_time": "2023-04-30T16:28:44.446Z"
   },
   {
    "duration": 323,
    "start_time": "2023-04-30T16:34:44.475Z"
   },
   {
    "duration": 336,
    "start_time": "2023-04-30T16:34:47.118Z"
   },
   {
    "duration": 440,
    "start_time": "2023-04-30T16:34:50.338Z"
   },
   {
    "duration": 572,
    "start_time": "2023-04-30T16:34:52.521Z"
   },
   {
    "duration": 311,
    "start_time": "2023-04-30T16:35:01.637Z"
   },
   {
    "duration": 224,
    "start_time": "2023-04-30T16:35:03.975Z"
   },
   {
    "duration": 286,
    "start_time": "2023-04-30T16:35:26.865Z"
   },
   {
    "duration": 433,
    "start_time": "2023-04-30T16:35:32.614Z"
   },
   {
    "duration": 294,
    "start_time": "2023-04-30T16:35:44.226Z"
   },
   {
    "duration": 299,
    "start_time": "2023-04-30T16:35:46.640Z"
   },
   {
    "duration": 397,
    "start_time": "2023-04-30T16:35:49.028Z"
   },
   {
    "duration": 300,
    "start_time": "2023-04-30T16:35:51.963Z"
   },
   {
    "duration": 255,
    "start_time": "2023-04-30T16:35:56.171Z"
   },
   {
    "duration": 412,
    "start_time": "2023-04-30T16:35:57.542Z"
   },
   {
    "duration": 299,
    "start_time": "2023-04-30T16:36:09.945Z"
   },
   {
    "duration": 25,
    "start_time": "2023-04-30T16:36:14.640Z"
   },
   {
    "duration": 342,
    "start_time": "2023-04-30T16:37:26.329Z"
   },
   {
    "duration": 343,
    "start_time": "2023-04-30T16:37:29.236Z"
   },
   {
    "duration": 342,
    "start_time": "2023-04-30T16:37:32.147Z"
   },
   {
    "duration": 503,
    "start_time": "2023-04-30T16:37:33.917Z"
   },
   {
    "duration": 400,
    "start_time": "2023-04-30T16:37:38.567Z"
   },
   {
    "duration": 325,
    "start_time": "2023-04-30T16:37:40.154Z"
   },
   {
    "duration": 305,
    "start_time": "2023-04-30T16:37:41.742Z"
   },
   {
    "duration": 339,
    "start_time": "2023-04-30T16:37:44.731Z"
   },
   {
    "duration": 17,
    "start_time": "2023-04-30T16:37:55.556Z"
   },
   {
    "duration": 345,
    "start_time": "2023-04-30T16:37:56.741Z"
   },
   {
    "duration": 432,
    "start_time": "2023-04-30T16:38:04.641Z"
   },
   {
    "duration": 339,
    "start_time": "2023-04-30T16:38:08.031Z"
   },
   {
    "duration": 319,
    "start_time": "2023-04-30T16:38:11.041Z"
   },
   {
    "duration": 331,
    "start_time": "2023-04-30T16:38:13.522Z"
   },
   {
    "duration": 334,
    "start_time": "2023-04-30T16:38:16.065Z"
   },
   {
    "duration": 438,
    "start_time": "2023-04-30T16:38:16.831Z"
   },
   {
    "duration": 332,
    "start_time": "2023-04-30T16:38:19.348Z"
   },
   {
    "duration": 318,
    "start_time": "2023-04-30T16:38:21.867Z"
   },
   {
    "duration": 497,
    "start_time": "2023-04-30T16:38:23.145Z"
   },
   {
    "duration": 171,
    "start_time": "2023-04-30T16:39:39.416Z"
   },
   {
    "duration": 44,
    "start_time": "2023-04-30T16:40:12.763Z"
   },
   {
    "duration": 190,
    "start_time": "2023-04-30T16:40:26.647Z"
   },
   {
    "duration": 162,
    "start_time": "2023-04-30T16:40:40.369Z"
   },
   {
    "duration": 397,
    "start_time": "2023-04-30T16:40:51.683Z"
   },
   {
    "duration": 284,
    "start_time": "2023-04-30T16:41:31.724Z"
   },
   {
    "duration": 283,
    "start_time": "2023-04-30T16:41:51.972Z"
   },
   {
    "duration": 294,
    "start_time": "2023-04-30T16:42:08.281Z"
   },
   {
    "duration": 274,
    "start_time": "2023-04-30T16:42:10.079Z"
   },
   {
    "duration": 293,
    "start_time": "2023-04-30T16:42:18.673Z"
   },
   {
    "duration": 387,
    "start_time": "2023-04-30T16:42:21.344Z"
   },
   {
    "duration": 209,
    "start_time": "2023-04-30T16:43:54.352Z"
   },
   {
    "duration": 200,
    "start_time": "2023-04-30T16:44:04.782Z"
   },
   {
    "duration": 1414,
    "start_time": "2023-04-30T16:45:49.730Z"
   },
   {
    "duration": 297,
    "start_time": "2023-04-30T16:45:51.151Z"
   },
   {
    "duration": 17,
    "start_time": "2023-04-30T16:45:53.055Z"
   },
   {
    "duration": 41,
    "start_time": "2023-04-30T16:45:54.381Z"
   },
   {
    "duration": 2695,
    "start_time": "2023-04-30T16:45:55.647Z"
   },
   {
    "duration": 19,
    "start_time": "2023-04-30T16:46:00.038Z"
   },
   {
    "duration": 27,
    "start_time": "2023-04-30T16:46:03.048Z"
   },
   {
    "duration": 50,
    "start_time": "2023-04-30T16:46:04.200Z"
   },
   {
    "duration": 6,
    "start_time": "2023-04-30T16:46:08.478Z"
   },
   {
    "duration": 139,
    "start_time": "2023-04-30T16:46:09.202Z"
   },
   {
    "duration": 11,
    "start_time": "2023-04-30T16:46:09.877Z"
   },
   {
    "duration": 8,
    "start_time": "2023-04-30T16:46:11.777Z"
   },
   {
    "duration": 82,
    "start_time": "2023-04-30T16:46:12.440Z"
   },
   {
    "duration": 5,
    "start_time": "2023-04-30T16:46:15.057Z"
   },
   {
    "duration": 19,
    "start_time": "2023-04-30T16:46:16.802Z"
   },
   {
    "duration": 1156,
    "start_time": "2023-04-30T16:46:18.174Z"
   },
   {
    "duration": 41,
    "start_time": "2023-04-30T16:46:19.333Z"
   },
   {
    "duration": 93,
    "start_time": "2023-04-30T16:46:21.763Z"
   },
   {
    "duration": 376,
    "start_time": "2023-04-30T16:46:22.608Z"
   },
   {
    "duration": 296,
    "start_time": "2023-04-30T16:46:24.954Z"
   },
   {
    "duration": 462,
    "start_time": "2023-04-30T16:46:26.543Z"
   },
   {
    "duration": 310,
    "start_time": "2023-04-30T16:46:27.472Z"
   },
   {
    "duration": 388,
    "start_time": "2023-04-30T16:46:36.306Z"
   },
   {
    "duration": 326,
    "start_time": "2023-04-30T16:46:38.103Z"
   },
   {
    "duration": 312,
    "start_time": "2023-04-30T16:46:39.863Z"
   },
   {
    "duration": 429,
    "start_time": "2023-04-30T16:46:41.539Z"
   },
   {
    "duration": 22,
    "start_time": "2023-04-30T16:46:46.398Z"
   },
   {
    "duration": 318,
    "start_time": "2023-04-30T16:46:47.960Z"
   },
   {
    "duration": 342,
    "start_time": "2023-04-30T16:46:51.005Z"
   },
   {
    "duration": 326,
    "start_time": "2023-04-30T16:46:52.772Z"
   },
   {
    "duration": 311,
    "start_time": "2023-04-30T16:46:54.687Z"
   },
   {
    "duration": 337,
    "start_time": "2023-04-30T16:46:56.411Z"
   },
   {
    "duration": 453,
    "start_time": "2023-04-30T16:46:58.441Z"
   },
   {
    "duration": 336,
    "start_time": "2023-04-30T16:47:00.938Z"
   },
   {
    "duration": 347,
    "start_time": "2023-04-30T16:47:04.730Z"
   },
   {
    "duration": 322,
    "start_time": "2023-04-30T16:47:13.136Z"
   },
   {
    "duration": 594,
    "start_time": "2023-04-30T16:47:15.561Z"
   },
   {
    "duration": 290,
    "start_time": "2023-04-30T16:47:21.055Z"
   },
   {
    "duration": 180,
    "start_time": "2023-04-30T16:47:24.386Z"
   },
   {
    "duration": 157,
    "start_time": "2023-04-30T16:47:27.128Z"
   },
   {
    "duration": 328,
    "start_time": "2023-04-30T16:47:28.635Z"
   },
   {
    "duration": 309,
    "start_time": "2023-04-30T16:47:32.937Z"
   },
   {
    "duration": 295,
    "start_time": "2023-04-30T16:47:35.328Z"
   },
   {
    "duration": 284,
    "start_time": "2023-04-30T16:47:36.666Z"
   },
   {
    "duration": 485,
    "start_time": "2023-04-30T16:47:38.817Z"
   },
   {
    "duration": 294,
    "start_time": "2023-04-30T16:47:40.363Z"
   },
   {
    "duration": 270,
    "start_time": "2023-04-30T16:47:41.614Z"
   },
   {
    "duration": 314,
    "start_time": "2023-04-30T16:47:43.158Z"
   },
   {
    "duration": 33,
    "start_time": "2023-04-30T16:47:44.454Z"
   },
   {
    "duration": 99,
    "start_time": "2023-04-30T16:48:02.156Z"
   },
   {
    "duration": 219,
    "start_time": "2023-04-30T16:48:05.338Z"
   },
   {
    "duration": 307,
    "start_time": "2023-04-30T16:48:08.141Z"
   },
   {
    "duration": 1158,
    "start_time": "2023-04-30T16:48:16.979Z"
   },
   {
    "duration": 450,
    "start_time": "2023-04-30T16:48:21.406Z"
   },
   {
    "duration": 219,
    "start_time": "2023-04-30T16:48:22.736Z"
   },
   {
    "duration": 250,
    "start_time": "2023-04-30T16:48:23.702Z"
   },
   {
    "duration": 214,
    "start_time": "2023-04-30T16:48:24.810Z"
   },
   {
    "duration": 197,
    "start_time": "2023-04-30T16:48:25.934Z"
   },
   {
    "duration": 230,
    "start_time": "2023-04-30T16:48:28.371Z"
   },
   {
    "duration": 391,
    "start_time": "2023-04-30T16:48:31.872Z"
   },
   {
    "duration": 103,
    "start_time": "2023-04-30T16:48:38.541Z"
   },
   {
    "duration": 1416,
    "start_time": "2023-04-30T16:57:52.404Z"
   },
   {
    "duration": 316,
    "start_time": "2023-04-30T16:57:53.822Z"
   },
   {
    "duration": 18,
    "start_time": "2023-04-30T16:57:54.193Z"
   },
   {
    "duration": 34,
    "start_time": "2023-04-30T16:57:55.034Z"
   },
   {
    "duration": 2572,
    "start_time": "2023-04-30T16:57:55.980Z"
   },
   {
    "duration": 19,
    "start_time": "2023-04-30T16:58:00.350Z"
   },
   {
    "duration": 26,
    "start_time": "2023-04-30T16:58:03.244Z"
   },
   {
    "duration": 55,
    "start_time": "2023-04-30T16:58:04.406Z"
   },
   {
    "duration": 15,
    "start_time": "2023-04-30T16:58:21.208Z"
   },
   {
    "duration": 93,
    "start_time": "2023-04-30T16:58:21.881Z"
   },
   {
    "duration": 12,
    "start_time": "2023-04-30T16:58:22.405Z"
   },
   {
    "duration": 9,
    "start_time": "2023-04-30T16:58:23.186Z"
   },
   {
    "duration": 85,
    "start_time": "2023-04-30T16:58:23.663Z"
   },
   {
    "duration": 11,
    "start_time": "2023-04-30T16:58:24.712Z"
   },
   {
    "duration": 13,
    "start_time": "2023-04-30T16:58:25.562Z"
   },
   {
    "duration": 1042,
    "start_time": "2023-04-30T16:58:26.123Z"
   },
   {
    "duration": 25,
    "start_time": "2023-04-30T16:58:27.167Z"
   },
   {
    "duration": 108,
    "start_time": "2023-04-30T16:58:28.138Z"
   },
   {
    "duration": 392,
    "start_time": "2023-04-30T16:58:28.759Z"
   },
   {
    "duration": 311,
    "start_time": "2023-04-30T16:58:30.047Z"
   },
   {
    "duration": 481,
    "start_time": "2023-04-30T16:58:31.565Z"
   },
   {
    "duration": 292,
    "start_time": "2023-04-30T16:58:32.325Z"
   },
   {
    "duration": 332,
    "start_time": "2023-04-30T16:58:33.986Z"
   },
   {
    "duration": 301,
    "start_time": "2023-04-30T16:58:34.967Z"
   },
   {
    "duration": 299,
    "start_time": "2023-04-30T16:58:36.112Z"
   },
   {
    "duration": 407,
    "start_time": "2023-04-30T16:58:37.104Z"
   },
   {
    "duration": 15,
    "start_time": "2023-04-30T16:58:39.237Z"
   },
   {
    "duration": 317,
    "start_time": "2023-04-30T16:58:40.539Z"
   },
   {
    "duration": 320,
    "start_time": "2023-04-30T16:58:44.538Z"
   },
   {
    "duration": 351,
    "start_time": "2023-04-30T16:58:46.402Z"
   },
   {
    "duration": 325,
    "start_time": "2023-04-30T16:58:48.102Z"
   },
   {
    "duration": 337,
    "start_time": "2023-04-30T16:58:49.901Z"
   },
   {
    "duration": 434,
    "start_time": "2023-04-30T16:58:51.132Z"
   },
   {
    "duration": 337,
    "start_time": "2023-04-30T16:58:53.063Z"
   },
   {
    "duration": 359,
    "start_time": "2023-04-30T16:58:54.874Z"
   },
   {
    "duration": 570,
    "start_time": "2023-04-30T16:58:56.084Z"
   },
   {
    "duration": 178,
    "start_time": "2023-04-30T16:58:58.167Z"
   },
   {
    "duration": 182,
    "start_time": "2023-04-30T16:58:59.300Z"
   },
   {
    "duration": 459,
    "start_time": "2023-04-30T16:59:00.784Z"
   },
   {
    "duration": 276,
    "start_time": "2023-04-30T16:59:05.417Z"
   },
   {
    "duration": 329,
    "start_time": "2023-04-30T16:59:07.905Z"
   },
   {
    "duration": 352,
    "start_time": "2023-04-30T16:59:08.903Z"
   },
   {
    "duration": 280,
    "start_time": "2023-04-30T16:59:10.080Z"
   },
   {
    "duration": 366,
    "start_time": "2023-04-30T16:59:11.035Z"
   },
   {
    "duration": 270,
    "start_time": "2023-04-30T16:59:12.133Z"
   },
   {
    "duration": 299,
    "start_time": "2023-04-30T16:59:13.143Z"
   },
   {
    "duration": 97,
    "start_time": "2023-04-30T16:59:19.772Z"
   },
   {
    "duration": 213,
    "start_time": "2023-04-30T16:59:25.581Z"
   },
   {
    "duration": 300,
    "start_time": "2023-04-30T16:59:27.764Z"
   },
   {
    "duration": 1087,
    "start_time": "2023-04-30T16:59:29.986Z"
   },
   {
    "duration": 308,
    "start_time": "2023-04-30T16:59:32.504Z"
   },
   {
    "duration": 318,
    "start_time": "2023-04-30T16:59:33.412Z"
   },
   {
    "duration": 217,
    "start_time": "2023-04-30T16:59:34.458Z"
   },
   {
    "duration": 194,
    "start_time": "2023-04-30T16:59:35.482Z"
   },
   {
    "duration": 199,
    "start_time": "2023-04-30T16:59:36.339Z"
   },
   {
    "duration": 250,
    "start_time": "2023-04-30T16:59:38.341Z"
   },
   {
    "duration": 410,
    "start_time": "2023-04-30T16:59:40.134Z"
   },
   {
    "duration": 94,
    "start_time": "2023-04-30T16:59:47.884Z"
   },
   {
    "duration": 2735,
    "start_time": "2023-04-30T21:06:37.023Z"
   },
   {
    "duration": 1189,
    "start_time": "2023-04-30T21:06:39.762Z"
   },
   {
    "duration": 45,
    "start_time": "2023-04-30T21:06:40.958Z"
   },
   {
    "duration": 89,
    "start_time": "2023-04-30T21:06:41.006Z"
   },
   {
    "duration": 7294,
    "start_time": "2023-04-30T21:06:41.103Z"
   },
   {
    "duration": 45,
    "start_time": "2023-04-30T21:06:48.402Z"
   },
   {
    "duration": 129,
    "start_time": "2023-04-30T21:06:48.450Z"
   },
   {
    "duration": 87,
    "start_time": "2023-04-30T21:06:48.584Z"
   },
   {
    "duration": 9,
    "start_time": "2023-04-30T21:06:48.673Z"
   },
   {
    "duration": 193,
    "start_time": "2023-04-30T21:06:48.684Z"
   },
   {
    "duration": 12,
    "start_time": "2023-04-30T21:06:48.879Z"
   },
   {
    "duration": 14,
    "start_time": "2023-04-30T21:06:48.893Z"
   },
   {
    "duration": 124,
    "start_time": "2023-04-30T21:06:48.909Z"
   },
   {
    "duration": 5,
    "start_time": "2023-04-30T21:06:49.038Z"
   },
   {
    "duration": 15,
    "start_time": "2023-04-30T21:06:49.045Z"
   },
   {
    "duration": 2108,
    "start_time": "2023-04-30T21:06:49.061Z"
   },
   {
    "duration": 47,
    "start_time": "2023-04-30T21:06:51.172Z"
   },
   {
    "duration": 217,
    "start_time": "2023-04-30T21:06:51.222Z"
   },
   {
    "duration": 539,
    "start_time": "2023-04-30T21:06:51.442Z"
   },
   {
    "duration": 492,
    "start_time": "2023-04-30T21:06:51.983Z"
   },
   {
    "duration": 715,
    "start_time": "2023-04-30T21:06:52.486Z"
   },
   {
    "duration": 463,
    "start_time": "2023-04-30T21:06:53.212Z"
   },
   {
    "duration": 726,
    "start_time": "2023-04-30T21:06:53.677Z"
   },
   {
    "duration": 485,
    "start_time": "2023-04-30T21:06:54.407Z"
   },
   {
    "duration": 455,
    "start_time": "2023-04-30T21:06:54.894Z"
   },
   {
    "duration": 649,
    "start_time": "2023-04-30T21:06:55.351Z"
   },
   {
    "duration": 22,
    "start_time": "2023-04-30T21:06:56.003Z"
   },
   {
    "duration": 478,
    "start_time": "2023-04-30T21:06:56.027Z"
   },
   {
    "duration": 511,
    "start_time": "2023-04-30T21:06:56.507Z"
   },
   {
    "duration": 463,
    "start_time": "2023-04-30T21:06:57.020Z"
   },
   {
    "duration": 536,
    "start_time": "2023-04-30T21:06:57.484Z"
   },
   {
    "duration": 928,
    "start_time": "2023-04-30T21:06:58.022Z"
   },
   {
    "duration": 1374,
    "start_time": "2023-04-30T21:06:58.953Z"
   },
   {
    "duration": 546,
    "start_time": "2023-04-30T21:07:00.330Z"
   },
   {
    "duration": 630,
    "start_time": "2023-04-30T21:07:00.882Z"
   },
   {
    "duration": 1059,
    "start_time": "2023-04-30T21:07:01.514Z"
   },
   {
    "duration": 324,
    "start_time": "2023-04-30T21:07:02.579Z"
   },
   {
    "duration": 270,
    "start_time": "2023-04-30T21:07:02.909Z"
   },
   {
    "duration": 654,
    "start_time": "2023-04-30T21:07:03.185Z"
   },
   {
    "duration": 518,
    "start_time": "2023-04-30T21:07:03.845Z"
   },
   {
    "duration": 506,
    "start_time": "2023-04-30T21:07:04.377Z"
   },
   {
    "duration": 518,
    "start_time": "2023-04-30T21:07:04.889Z"
   },
   {
    "duration": 508,
    "start_time": "2023-04-30T21:07:05.413Z"
   },
   {
    "duration": 626,
    "start_time": "2023-04-30T21:07:05.927Z"
   },
   {
    "duration": 524,
    "start_time": "2023-04-30T21:07:06.558Z"
   },
   {
    "duration": 873,
    "start_time": "2023-04-30T21:07:07.084Z"
   },
   {
    "duration": 396,
    "start_time": "2023-04-30T21:07:07.962Z"
   },
   {
    "duration": 698,
    "start_time": "2023-04-30T21:07:08.369Z"
   },
   {
    "duration": 792,
    "start_time": "2023-04-30T21:07:09.073Z"
   },
   {
    "duration": 1723,
    "start_time": "2023-04-30T21:07:09.871Z"
   },
   {
    "duration": 522,
    "start_time": "2023-04-30T21:07:11.604Z"
   },
   {
    "duration": 427,
    "start_time": "2023-04-30T21:07:12.132Z"
   },
   {
    "duration": 278,
    "start_time": "2023-04-30T21:07:12.565Z"
   },
   {
    "duration": 374,
    "start_time": "2023-04-30T21:07:12.857Z"
   },
   {
    "duration": 397,
    "start_time": "2023-04-30T21:07:13.245Z"
   },
   {
    "duration": 560,
    "start_time": "2023-04-30T21:07:13.651Z"
   },
   {
    "duration": 628,
    "start_time": "2023-04-30T21:07:14.215Z"
   },
   {
    "duration": 142,
    "start_time": "2023-04-30T21:07:14.849Z"
   }
  ],
  "kernelspec": {
   "display_name": "Python 3 (ipykernel)",
   "language": "python",
   "name": "python3"
  },
  "language_info": {
   "codemirror_mode": {
    "name": "ipython",
    "version": 3
   },
   "file_extension": ".py",
   "mimetype": "text/x-python",
   "name": "python",
   "nbconvert_exporter": "python",
   "pygments_lexer": "ipython3",
   "version": "3.9.13"
  },
  "toc": {
   "base_numbering": 1,
   "nav_menu": {
    "height": "231px",
    "width": "395px"
   },
   "number_sections": true,
   "sideBar": true,
   "skip_h1_title": true,
   "title_cell": "Table of Contents",
   "title_sidebar": "Contents",
   "toc_cell": false,
   "toc_position": {},
   "toc_section_display": true,
   "toc_window_display": false
  }
 },
 "nbformat": 4,
 "nbformat_minor": 2
}
